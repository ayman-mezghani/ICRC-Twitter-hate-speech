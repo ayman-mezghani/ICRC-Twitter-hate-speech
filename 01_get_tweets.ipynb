{
 "cells": [
  {
   "cell_type": "code",
   "execution_count": null,
   "metadata": {
    "pycharm": {
     "name": "#%%\n"
    }
   },
   "outputs": [],
   "source": [
    "import scraper\n",
    "import pandas as pd\n",
    "import numpy as np\n",
    "from datetime import datetime\n",
    "import json"
   ]
  },
  {
   "cell_type": "code",
   "execution_count": null,
   "metadata": {
    "pycharm": {
     "name": "#%%\n"
    }
   },
   "outputs": [],
   "source": [
    "df = pd.read_csv('data/keywords_clean.csv', index_col=0)\n",
    "df['Earliest_update'] = pd.to_datetime(df.Earliest_update)\n",
    "df['Latest_update'] = pd.to_datetime(df.Latest_update).dt.tz_localize(None)\n",
    "df"
   ]
  },
  {
   "cell_type": "code",
   "execution_count": null,
   "metadata": {
    "pycharm": {
     "name": "#%%\n"
    },
    "scrolled": true
   },
   "outputs": [],
   "source": [
    "df[['Keywords', 'Latest_update']].values.tolist()"
   ]
  },
  {
   "cell_type": "code",
   "execution_count": null,
   "metadata": {},
   "outputs": [],
   "source": [
    "old_earliest_start = pd.to_datetime(df['Earliest_update'].unique()[0])"
   ]
  },
  {
   "cell_type": "code",
   "execution_count": null,
   "metadata": {},
   "outputs": [],
   "source": [
    "old_earliest_start"
   ]
  },
  {
   "cell_type": "code",
   "execution_count": null,
   "metadata": {},
   "outputs": [],
   "source": [
    "new_earliest_start = datetime.strptime('2022-03-01', '%Y-%m-%d')"
   ]
  },
  {
   "cell_type": "code",
   "execution_count": null,
   "metadata": {},
   "outputs": [],
   "source": [
    "new_end = datetime.strptime('2022-04-01', '%Y-%m-%d')"
   ]
  },
  {
   "cell_type": "code",
   "execution_count": null,
   "metadata": {
    "pycharm": {
     "name": "#%%\n"
    }
   },
   "outputs": [],
   "source": [
    "ls = scraper.splitter(kw_list=df[['Keywords', 'Latest_update']].values.tolist(),\n",
    "                      char_limit=scraper.QUERY_CHAR_LIMIT,\n",
    "                      earliest_start=new_earliest_start)"
   ]
  },
  {
   "cell_type": "code",
   "execution_count": null,
   "metadata": {
    "pycharm": {
     "name": "#%%\n"
    }
   },
   "outputs": [],
   "source": [
    "for l in ls:\n",
    "    print(l[1])"
   ]
  },
  {
   "cell_type": "code",
   "execution_count": null,
   "metadata": {},
   "outputs": [],
   "source": [
    "dump_path = 'data/dump/2022-03-01__2022-04-01/'"
   ]
  },
  {
   "cell_type": "code",
   "execution_count": null,
   "metadata": {},
   "outputs": [],
   "source": [
    "with open(dump_path + 'dump.json', 'rb') as fin:\n",
    "    all_tweets = json.load(fin)"
   ]
  },
  {
   "cell_type": "code",
   "execution_count": null,
   "metadata": {},
   "outputs": [],
   "source": [
    "len(all_tweets)"
   ]
  },
  {
   "cell_type": "code",
   "execution_count": null,
   "metadata": {
    "pycharm": {
     "name": "#%%\n"
    },
    "tags": []
   },
   "outputs": [],
   "source": [
    "#all_tweets = []\n",
    "client = scraper.create_client(scraper.init())\n",
    "\n",
    "for sublist, start_time in ls:\n",
    "    res, max_t = scraper.get_tweets(client=client,\n",
    "                                    keywords=sublist,\n",
    "                                    start_time=start_time,\n",
    "                                    end_time=new_end)\n",
    "\n",
    "    print(len(res), 'tweets')\n",
    "\n",
    "    all_tweets += res\n",
    "\n",
    "    with open(dump_path + 'dump.json', 'w') as fout:\n",
    "        json.dump(all_tweets, fout)\n",
    "\n",
    "    df.loc[df.Keywords.isin(sublist), 'Latest_update'] = np.fmax(pd.Series([max_t]*len(sublist)).values, df.loc[df.Keywords.isin(sublist), 'Latest_update'].values)\n",
    "    df.loc[df.Keywords.isin(sublist), 'Earliest_update'] = np.fmin(pd.Series([new_earliest_start]*len(sublist)).values, df.loc[df.Keywords.isin(sublist), 'Earliest_update'].values)\n",
    "    \n",
    "df.to_csv('data/keywords_clean.csv')"
   ]
  },
  {
   "cell_type": "code",
   "execution_count": null,
   "metadata": {},
   "outputs": [],
   "source": [
    "id_tweet_dict = {}\n",
    "\n",
    "for tweet in all_tweets:\n",
    "    if tweet['id'] in id_tweet_dict.keys():\n",
    "        id_tweet_dict[tweet['id']].append(tweet)\n",
    "    else:\n",
    "        id_tweet_dict[tweet['id']] = [tweet]"
   ]
  },
  {
   "cell_type": "code",
   "execution_count": null,
   "metadata": {},
   "outputs": [],
   "source": [
    "len(id_tweet_dict)"
   ]
  },
  {
   "cell_type": "code",
   "execution_count": null,
   "metadata": {},
   "outputs": [],
   "source": [
    "res = [v[0] for v in id_tweet_dict.values()]"
   ]
  },
  {
   "cell_type": "code",
   "execution_count": null,
   "metadata": {},
   "outputs": [],
   "source": [
    "with open(dump_path + 'clean.json', 'w') as fout:\n",
    "    json.dump(res, fout)"
   ]
  },
  {
   "cell_type": "code",
   "execution_count": null,
   "metadata": {},
   "outputs": [],
   "source": []
  },
  {
   "cell_type": "code",
   "execution_count": null,
   "metadata": {},
   "outputs": [],
   "source": []
  },
  {
   "cell_type": "raw",
   "metadata": {},
   "source": [
    "df['Earliest_update'] = df.Earliest_update.ffill()"
   ]
  },
  {
   "cell_type": "raw",
   "metadata": {},
   "source": [
    "df.loc[df.Keywords.isin(sublist), 'Latest_update'] = np.fmax(pd.Series([max_t]*len(sublist)).values, df.loc[df.Keywords.isin(sublist), 'Latest_update'].values)\n",
    "df.loc[df.Keywords.isin(sublist), 'Earliest_update'] = np.fmin(pd.Series([new_earliest_start]*len(sublist)).values, df.loc[df.Keywords.isin(sublist), 'Earliest_update'].values)"
   ]
  },
  {
   "cell_type": "raw",
   "metadata": {},
   "source": [
    "df"
   ]
  },
  {
   "cell_type": "raw",
   "metadata": {},
   "source": [
    "df.to_csv('data/keywords_clean.csv')"
   ]
  },
  {
   "cell_type": "code",
   "execution_count": null,
   "metadata": {},
   "outputs": [],
   "source": []
  }
 ],
 "metadata": {
  "kernelspec": {
   "display_name": "Python 3 (ipykernel)",
   "language": "python",
   "name": "python3"
  },
  "language_info": {
   "codemirror_mode": {
    "name": "ipython",
    "version": 3
   },
   "file_extension": ".py",
   "mimetype": "text/x-python",
   "name": "python",
   "nbconvert_exporter": "python",
   "pygments_lexer": "ipython3",
   "version": "3.8.12"
  }
 },
 "nbformat": 4,
 "nbformat_minor": 4
}
