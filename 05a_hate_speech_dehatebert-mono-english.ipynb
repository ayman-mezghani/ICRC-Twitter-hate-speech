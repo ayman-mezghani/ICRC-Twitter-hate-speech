{
 "cells": [
  {
   "cell_type": "markdown",
   "id": "698942f4-10d9-4a74-9c89-e182ca60a9e9",
   "metadata": {},
   "source": [
    "# Hate Speech Detection A"
   ]
  },
  {
   "cell_type": "code",
   "execution_count": null,
   "id": "db548a66-028e-4ea4-bfaa-58edc9f924ac",
   "metadata": {},
   "outputs": [],
   "source": [
    "import pandas as pd\n",
    "import numpy as np\n",
    "\n",
    "from tqdm import tqdm\n",
    "\n",
    "from pandarallel import pandarallel\n",
    "pandarallel.initialize(nb_workers=4, progress_bar=False)\n",
    "\n",
    "import torch\n",
    "\n",
    "from scipy.special import softmax\n",
    "from transformers import AutoTokenizer, AutoModelForSequenceClassification"
   ]
  },
  {
   "cell_type": "markdown",
   "id": "03ddb491-8663-4732-bba5-421b336d1c4a",
   "metadata": {},
   "source": [
    "## Load Model"
   ]
  },
  {
   "cell_type": "markdown",
   "id": "9292db3e-3d77-41a1-9e0b-602b7a63046d",
   "metadata": {},
   "source": [
    "### Load Tokenizer and Classifier"
   ]
  },
  {
   "cell_type": "code",
   "execution_count": null,
   "id": "f7284b76-4eb9-4939-85e6-7fe60d7f8501",
   "metadata": {},
   "outputs": [],
   "source": [
    "tokenizer = AutoTokenizer.from_pretrained(\"Hate-speech-CNERG/dehatebert-mono-english\")\n",
    "\n",
    "model = AutoModelForSequenceClassification.from_pretrained(\"Hate-speech-CNERG/dehatebert-mono-english\")"
   ]
  },
  {
   "cell_type": "markdown",
   "id": "b6f29c0f-a988-4bb3-a072-f1a743bbaae7",
   "metadata": {},
   "source": [
    "### Load Model Label Mapping"
   ]
  },
  {
   "cell_type": "code",
   "execution_count": null,
   "id": "45ea025d-85cd-4e00-b2fd-badde7528032",
   "metadata": {},
   "outputs": [],
   "source": [
    "# https://huggingface.co/Hate-speech-CNERG/dehatebert-mono-english/blob/main/config.json\n",
    "id2label = {0: \"NON_HATE\", 1: \"HATE\"}"
   ]
  },
  {
   "cell_type": "markdown",
   "id": "b4f190fe-41ec-4efd-9852-86ebfb99f41f",
   "metadata": {},
   "source": [
    "## Load Data"
   ]
  },
  {
   "cell_type": "markdown",
   "id": "5fdf390e-6d1a-4d86-994c-cdd5b75b8d41",
   "metadata": {},
   "source": [
    "### Load Tweets"
   ]
  },
  {
   "cell_type": "code",
   "execution_count": null,
   "id": "e7925eb5-e832-4e13-9b01-f63d5ad06b57",
   "metadata": {},
   "outputs": [],
   "source": [
    "df_tweets = pd.read_parquet('data/tweets/en/english_tweets.parquet')[:20]"
   ]
  },
  {
   "cell_type": "markdown",
   "id": "d78b9b51-b422-4154-b23e-323ed5307371",
   "metadata": {},
   "source": [
    "### Load News IDs"
   ]
  },
  {
   "cell_type": "code",
   "execution_count": null,
   "id": "e9cbe603-88a1-4418-8e75-9e8770e9dc86",
   "metadata": {},
   "outputs": [],
   "source": [
    "news_ids = pd.read_csv('data/news/news_indexes.csv', header=None).values.reshape(-1)"
   ]
  },
  {
   "cell_type": "markdown",
   "id": "cab3306b-e7fe-49b5-a642-c4fd4162f557",
   "metadata": {},
   "source": [
    "### Filter News"
   ]
  },
  {
   "cell_type": "code",
   "execution_count": null,
   "id": "3cfa8729-4d82-4c08-a60a-a0a67e5a288e",
   "metadata": {},
   "outputs": [],
   "source": [
    "df_tweets['id'] = df_tweets['id'].astype(int)\n",
    "df_tweets['is_news'] = df_tweets['id'].isin(news_ids)"
   ]
  },
  {
   "cell_type": "markdown",
   "id": "61ac33b8-f3d4-42ee-91d4-5f53b45591f4",
   "metadata": {},
   "source": [
    "## Hate Speech Detection"
   ]
  },
  {
   "cell_type": "markdown",
   "id": "03f7aa6f-db17-4fa6-bc53-7a0b671fe5b7",
   "metadata": {},
   "source": [
    "### Pre-Processing"
   ]
  },
  {
   "cell_type": "code",
   "execution_count": null,
   "id": "100551b2-beae-4cf8-8fed-a9a567276448",
   "metadata": {},
   "outputs": [],
   "source": [
    "def preprocess(text):\n",
    "    new_text = []\n",
    "    for t in text.split(' '):\n",
    "        t = '@user' if t.startswith('@') and len(t) > 1 else t\n",
    "        t = 'http' if t.startswith('http') else t\n",
    "        new_text.append(t)\n",
    "    return ' '.join(new_text)"
   ]
  },
  {
   "cell_type": "code",
   "execution_count": null,
   "id": "60bb373a-d8bc-4280-8fe0-12b5e4038d64",
   "metadata": {},
   "outputs": [],
   "source": [
    "df_tweets['pre_process_text'] = df_tweets.text.str.replace(r'\\s+', ' ', regex=True).parallel_apply(preprocess)"
   ]
  },
  {
   "cell_type": "code",
   "execution_count": null,
   "id": "a3b625dc-c542-4781-927f-3d1a596ee83a",
   "metadata": {},
   "outputs": [],
   "source": [
    "texts = df_tweets.pre_process_text.values.tolist()"
   ]
  },
  {
   "cell_type": "code",
   "execution_count": null,
   "id": "762ca563-feeb-4bbc-b726-4dc70937c9cf",
   "metadata": {},
   "outputs": [],
   "source": [
    "### Classification"
   ]
  },
  {
   "cell_type": "code",
   "execution_count": null,
   "id": "97bed0dc-c0ee-4c75-9464-4fe405252451",
   "metadata": {},
   "outputs": [],
   "source": [
    "device = \"cuda:0\" if torch.cuda.is_available() else \"cpu\"\n",
    "\n",
    "model = model.to(device)\n",
    "\n",
    "print('Allocated:', round(torch.cuda.memory_allocated(0)/1024**3,1), 'GB')\n",
    "print('Cached:   ', round(torch.cuda.memory_reserved(0)/1024**3,1), 'GB')"
   ]
  },
  {
   "cell_type": "code",
   "execution_count": null,
   "id": "c8d538b2-0393-441f-88c2-e007384698d1",
   "metadata": {},
   "outputs": [],
   "source": [
    "step = 5\n",
    "res = []\n",
    "\n",
    "for i in tqdm(list(range(0, len(df_tweets), step))):\n",
    "    j = min(i+step, len(df_tweets))\n",
    "    \n",
    "    _texts = texts[i:j]\n",
    "    \n",
    "    ### Tokenizing\n",
    "\n",
    "    encoded_input = tokenizer(_texts, return_tensors='pt', padding=True).to(device)\n",
    "    # encoded_input = tokenizer(_texts, return_tensors='pt', padding=True)\n",
    "\n",
    "    ### Hate Speech Classification\n",
    "\n",
    "    output = model(**encoded_input)\n",
    "\n",
    "    scores = output[0].detach().cpu().numpy()\n",
    "    # scores = output[0].detach().numpy()\n",
    "    \n",
    "    res.append(scores)\n",
    "    \n",
    "    del encoded_input\n",
    "    del output\n",
    "    torch.cuda.empty_cache()"
   ]
  },
  {
   "cell_type": "code",
   "execution_count": null,
   "id": "cfa2836d-4218-44fa-b23a-3fa1072c269e",
   "metadata": {},
   "outputs": [],
   "source": [
    "res = np.concatenate(res, axis=0)"
   ]
  },
  {
   "cell_type": "code",
   "execution_count": null,
   "id": "bd3ef919-3fe8-42c6-825f-829fb936e9b9",
   "metadata": {},
   "outputs": [],
   "source": [
    "res"
   ]
  },
  {
   "cell_type": "code",
   "execution_count": null,
   "id": "7f9d3c4d-11d1-4f3a-bcb5-22c963089831",
   "metadata": {},
   "outputs": [],
   "source": [
    "result_scores = pd.DataFrame(res, index=df_tweets.index).rename(columns=id2label)"
   ]
  },
  {
   "cell_type": "code",
   "execution_count": null,
   "id": "f3ed6c2f-465a-4647-bbca-c9c7b43e0995",
   "metadata": {},
   "outputs": [],
   "source": [
    "result_scores"
   ]
  },
  {
   "cell_type": "code",
   "execution_count": null,
   "id": "8aed095a-c2e1-43d2-b1e7-24c568e08c1d",
   "metadata": {},
   "outputs": [],
   "source": [
    "result_softmax = pd.DataFrame(softmax(res, axis=1), index=df_tweets.index).rename(columns=id2label)"
   ]
  },
  {
   "cell_type": "code",
   "execution_count": null,
   "id": "e0cd310c-b142-453f-9688-184f793b6cbe",
   "metadata": {},
   "outputs": [],
   "source": [
    "result_softmax"
   ]
  },
  {
   "cell_type": "code",
   "execution_count": null,
   "id": "df197558-0fa3-442f-837a-ce537e0f5d7e",
   "metadata": {},
   "outputs": [],
   "source": [
    "df_tweets = df_tweets.join(result_scores).join(result_softmax, rsuffix='_softmax')\n",
    "df_tweets"
   ]
  },
  {
   "cell_type": "code",
   "execution_count": null,
   "id": "3fd75016-ddb3-4548-957f-78a33d96084b",
   "metadata": {},
   "outputs": [],
   "source": [
    "df_tweets[['id', 'NON_HATE', 'HATE', 'NON_HATE_softmax', 'HATE_softmax']]"
   ]
  },
  {
   "cell_type": "code",
   "execution_count": null,
   "id": "af67e3db-9a95-475a-b5ab-2bd4b1ea7d50",
   "metadata": {},
   "outputs": [],
   "source": [
    "df_tweets[['id', 'NON_HATE', 'HATE', 'NON_HATE_softmax', 'HATE_softmax']].to_parquet('data/hate_speech/hate_model_a.parquet')"
   ]
  }
 ],
 "metadata": {
  "kernelspec": {
   "display_name": "Python 3 (ipykernel)",
   "language": "python",
   "name": "python3"
  },
  "language_info": {
   "codemirror_mode": {
    "name": "ipython",
    "version": 3
   },
   "file_extension": ".py",
   "mimetype": "text/x-python",
   "name": "python",
   "nbconvert_exporter": "python",
   "pygments_lexer": "ipython3",
   "version": "3.8.13"
  },
  "toc-autonumbering": true
 },
 "nbformat": 4,
 "nbformat_minor": 5
}
