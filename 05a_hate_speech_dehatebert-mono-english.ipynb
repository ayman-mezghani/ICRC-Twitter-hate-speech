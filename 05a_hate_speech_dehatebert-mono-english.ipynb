{
 "cells": [
  {
   "cell_type": "markdown",
   "id": "7b41d54d-70ab-41cc-8793-428ef2926665",
   "metadata": {},
   "source": [
    "# Hate Speech Detection A"
   ]
  },
  {
   "cell_type": "code",
   "execution_count": null,
   "id": "8a2272e2-2603-4c16-acbf-ae964b9fa606",
   "metadata": {},
   "outputs": [],
   "source": [
    "import pandas as pd\n",
    "import numpy as np\n",
    "\n",
    "from tqdm import tqdm\n",
    "\n",
    "from pandarallel import pandarallel\n",
    "pandarallel.initialize(nb_workers=4, progress_bar=False)\n",
    "\n",
    "import torch\n",
    "\n",
    "from scipy.special import softmax\n",
    "from transformers import AutoTokenizer, AutoModelForSequenceClassification"
   ]
  },
  {
   "cell_type": "markdown",
   "id": "cc7eb466-10d9-4e25-8232-8f6bdf022645",
   "metadata": {},
   "source": [
    "## Load Model"
   ]
  },
  {
   "cell_type": "markdown",
   "id": "dc199efb-3ced-4f4b-a90a-ceba920b5c1b",
   "metadata": {},
   "source": [
    "### Load Tokenizer and Classifier"
   ]
  },
  {
   "cell_type": "code",
   "execution_count": null,
   "id": "659ffec5-d9d9-4cc9-ac26-4597f360145d",
   "metadata": {},
   "outputs": [],
   "source": [
    "tokenizer = AutoTokenizer.from_pretrained(\"Hate-speech-CNERG/dehatebert-mono-english\")\n",
    "\n",
    "model = AutoModelForSequenceClassification.from_pretrained(\"Hate-speech-CNERG/dehatebert-mono-english\")"
   ]
  },
  {
   "cell_type": "markdown",
   "id": "311efa6f-68c8-45be-ab71-18524b5505f9",
   "metadata": {},
   "source": [
    "### Load Model Label Mapping"
   ]
  },
  {
   "cell_type": "code",
   "execution_count": null,
   "id": "64a93b8b-7fef-4fb3-8b8f-0ab28cd61750",
   "metadata": {},
   "outputs": [],
   "source": [
    "# https://huggingface.co/Hate-speech-CNERG/dehatebert-mono-english/blob/main/config.json\n",
    "id2label = {0: \"NON_HATE\", 1: \"HATE\"}"
   ]
  },
  {
   "cell_type": "markdown",
   "id": "5676f5e7-3bf0-410d-9f93-f549be35130e",
   "metadata": {},
   "source": [
    "## Load Data"
   ]
  },
  {
   "cell_type": "markdown",
   "id": "7f5bbb60-69a8-4eb8-a1b5-4cd6f44f98c8",
   "metadata": {
    "tags": []
   },
   "source": [
    "### Load Tweets"
   ]
  },
  {
   "cell_type": "code",
   "execution_count": null,
   "id": "2452fb99-8eb9-4b7b-ab93-3e8cf6660756",
   "metadata": {},
   "outputs": [],
   "source": [
    "df_tweets = pd.read_parquet('data/tweets/en/english_tweets.parquet')\n",
    "df_tweets"
   ]
  },
  {
   "cell_type": "markdown",
   "id": "a56e71a8-5cc3-4dab-962b-8d411192e38a",
   "metadata": {},
   "source": [
    "### Load News IDs"
   ]
  },
  {
   "cell_type": "code",
   "execution_count": null,
   "id": "61810dfa-309d-4902-9299-abbe7ef362d2",
   "metadata": {},
   "outputs": [],
   "source": [
    "news_ids = pd.read_csv('data/news/news_indexes.csv', header=None).values.reshape(-1)\n",
    "news_ids"
   ]
  },
  {
   "cell_type": "code",
   "execution_count": null,
   "id": "2fade924-41dd-4503-a7f3-34db4bebf3a5",
   "metadata": {},
   "outputs": [],
   "source": [
    "len(news_ids)"
   ]
  },
  {
   "cell_type": "markdown",
   "id": "c127f817-19b7-4546-b9b1-615cc8765bce",
   "metadata": {},
   "source": [
    "### Filter News"
   ]
  },
  {
   "cell_type": "code",
   "execution_count": null,
   "id": "51fb4b97-0f17-4baf-b4cf-4e83c64e5800",
   "metadata": {},
   "outputs": [],
   "source": [
    "df_tweets['id'] = df_tweets['id'].astype(int)\n",
    "df_tweets['is_news'] = df_tweets['id'].isin(news_ids)\n",
    "df_tweets.head(10)"
   ]
  },
  {
   "cell_type": "markdown",
   "id": "006a4983-7734-4ed5-b172-d5beb47f21aa",
   "metadata": {},
   "source": [
    "## Hate Speech Detection"
   ]
  },
  {
   "cell_type": "markdown",
   "id": "2ff9e599-c1f0-4ceb-bd6b-f15532ee9555",
   "metadata": {},
   "source": [
    "### Pre-Processing"
   ]
  },
  {
   "cell_type": "code",
   "execution_count": null,
   "id": "5537006c-3663-4cc4-8ab4-88be7c1e11b5",
   "metadata": {},
   "outputs": [],
   "source": [
    "def preprocess(text):\n",
    "    new_text = []\n",
    "    for t in text.split(' '):\n",
    "        t = '@user' if t.startswith('@') and len(t) > 1 else t\n",
    "        t = 'http' if t.startswith('http') else t\n",
    "        new_text.append(t)\n",
    "    return ' '.join(new_text)"
   ]
  },
  {
   "cell_type": "code",
   "execution_count": null,
   "id": "c099f1c8-b49f-414b-8f3a-9e1eee620770",
   "metadata": {},
   "outputs": [],
   "source": [
    "df_tweets['pre_process_text'] = df_tweets.text.str.replace(r'\\s+', ' ', regex=True).parallel_apply(preprocess)"
   ]
  },
  {
   "cell_type": "code",
   "execution_count": null,
   "id": "6a4a7e19-508d-42f2-b3f0-79fa191a8276",
   "metadata": {},
   "outputs": [],
   "source": [
    "texts = df_tweets.pre_process_text.values.tolist()\n",
    "len(texts)"
   ]
  },
  {
   "cell_type": "markdown",
   "id": "44d1586e-243a-4baa-b3e9-b5561f269c29",
   "metadata": {},
   "source": [
    "### Classification"
   ]
  },
  {
   "cell_type": "code",
   "execution_count": null,
   "id": "a956cb7f-1abe-48e8-a424-3d88b4ad4ee5",
   "metadata": {},
   "outputs": [],
   "source": [
    "device = \"cuda:0\" if torch.cuda.is_available() else \"cpu\""
   ]
  },
  {
   "cell_type": "code",
   "execution_count": null,
   "id": "54d4d81b-f96a-4e53-9b0b-4eee50ef9366",
   "metadata": {},
   "outputs": [],
   "source": [
    "model = model.to(device)"
   ]
  },
  {
   "cell_type": "code",
   "execution_count": null,
   "id": "d01a7f0b-2f81-4436-932b-88cf1ebe07af",
   "metadata": {},
   "outputs": [],
   "source": [
    "print('Allocated:', round(torch.cuda.memory_allocated(0)/1024**3,1), 'GB')\n",
    "print('Cached:   ', round(torch.cuda.memory_reserved(0)/1024**3,1), 'GB')"
   ]
  },
  {
   "cell_type": "code",
   "execution_count": null,
   "id": "0c70d59b-8150-4a7f-948d-bd28803c1329",
   "metadata": {},
   "outputs": [],
   "source": [
    "step = 50\n",
    "res = []\n",
    "\n",
    "for i in tqdm(list(range(0, len(df_tweets), step))):\n",
    "    j = min(i+step, len(df_tweets))\n",
    "    print(i, j, len(df_tweets))\n",
    "    \n",
    "    _texts = texts[i:j]\n",
    "    \n",
    "    ### Tokenizing\n",
    "\n",
    "    encoded_input = tokenizer(_texts, return_tensors='pt', padding=True).to(device)\n",
    "\n",
    "    ### Hate Speech Classification\n",
    "\n",
    "    output = model(**encoded_input)\n",
    "\n",
    "    scores = softmax(output[0].detach().cpu().numpy(), axis=1)\n",
    "    \n",
    "    res.append(scores)\n",
    "    \n",
    "    del encoded_input\n",
    "    del output\n",
    "    torch.cuda.empty_cache()"
   ]
  },
  {
   "cell_type": "code",
   "execution_count": null,
   "id": "a6cfc57d-b971-460b-881d-c403cad3d5c3",
   "metadata": {},
   "outputs": [],
   "source": [
    "result_scores = pd.DataFrame(np.concatenate(res, axis=0), index=sample.index).rename(columns=id2label)['HATE']"
   ]
  },
  {
   "cell_type": "code",
   "execution_count": null,
   "id": "3392e567-e5ed-473a-afe2-b8dcb5f8a1ae",
   "metadata": {},
   "outputs": [],
   "source": [
    "df_tweets['hate_speech_a'] = result_scores"
   ]
  },
  {
   "cell_type": "code",
   "execution_count": null,
   "id": "01b0d477-2e81-4118-90cb-d8014226bbd8",
   "metadata": {},
   "outputs": [],
   "source": [
    "df_tweets[['id', 'hate_speech_a']].to_parquet('data/hate_speech/hate_model_a.parquet')"
   ]
  },
  {
   "cell_type": "code",
   "execution_count": null,
   "id": "37b53192-6942-40c8-b4af-0732b6042102",
   "metadata": {},
   "outputs": [],
   "source": []
  }
 ],
 "metadata": {
  "kernelspec": {
   "display_name": "Python 3 (ipykernel)",
   "language": "python",
   "name": "python3"
  },
  "language_info": {
   "codemirror_mode": {
    "name": "ipython",
    "version": 3
   },
   "file_extension": ".py",
   "mimetype": "text/x-python",
   "name": "python",
   "nbconvert_exporter": "python",
   "pygments_lexer": "ipython3",
   "version": "3.8.13"
  }
 },
 "nbformat": 4,
 "nbformat_minor": 5
}
