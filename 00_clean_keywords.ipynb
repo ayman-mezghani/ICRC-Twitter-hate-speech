{
 "cells": [
  {
   "cell_type": "code",
   "execution_count": 1,
   "outputs": [],
   "source": [
    "import re"
   ],
   "metadata": {
    "collapsed": false,
    "pycharm": {
     "name": "#%%\n"
    }
   }
  },
  {
   "cell_type": "code",
   "execution_count": 2,
   "outputs": [],
   "source": [
    "with open('data/keywords.txt') as f:\n",
    "    lines = f.readlines()"
   ],
   "metadata": {
    "collapsed": false,
    "pycharm": {
     "name": "#%%\n"
    }
   }
  },
  {
   "cell_type": "code",
   "execution_count": 3,
   "outputs": [],
   "source": [
    "kw = [elem.strip() for elem in lines]"
   ],
   "metadata": {
    "collapsed": false,
    "pycharm": {
     "name": "#%%\n"
    }
   }
  },
  {
   "cell_type": "code",
   "execution_count": 4,
   "outputs": [],
   "source": [
    "pattern = r'\"(.*?)\"'"
   ],
   "metadata": {
    "collapsed": false,
    "pycharm": {
     "name": "#%%\n"
    }
   }
  },
  {
   "cell_type": "code",
   "execution_count": 5,
   "outputs": [],
   "source": [
    "kw = [re.match(pattern, elem).group(1) if re.match(pattern, elem) else elem for elem in kw]"
   ],
   "metadata": {
    "collapsed": false,
    "pycharm": {
     "name": "#%%\n"
    }
   }
  },
  {
   "cell_type": "code",
   "execution_count": 6,
   "outputs": [
    {
     "data": {
      "text/plain": "7076"
     },
     "execution_count": 6,
     "metadata": {},
     "output_type": "execute_result"
    }
   ],
   "source": [
    "len(kw)"
   ],
   "metadata": {
    "collapsed": false,
    "pycharm": {
     "name": "#%%\n"
    }
   }
  },
  {
   "cell_type": "code",
   "execution_count": 7,
   "outputs": [],
   "source": [
    "kw_set = []\n",
    "for w in kw:\n",
    "    if w not in kw_set:\n",
    "        kw_set.append(w)"
   ],
   "metadata": {
    "collapsed": false,
    "pycharm": {
     "name": "#%%\n"
    }
   }
  },
  {
   "cell_type": "code",
   "execution_count": 8,
   "outputs": [
    {
     "data": {
      "text/plain": "297"
     },
     "execution_count": 8,
     "metadata": {},
     "output_type": "execute_result"
    }
   ],
   "source": [
    "len(kw_set)"
   ],
   "metadata": {
    "collapsed": false,
    "pycharm": {
     "name": "#%%\n"
    }
   }
  },
  {
   "cell_type": "code",
   "execution_count": 9,
   "outputs": [
    {
     "data": {
      "text/plain": "['CICR_pt',\n 'Comité International de la Croix Rouge',\n 'Comité de la Croix-Rouge internationale',\n 'Comité de la Cruz Roja Internacional',\n 'ComitéinternationaldelaCroixRouge',\n 'ICRC_Sudan',\n 'ICRC_ar',\n 'InternationalCommitteeoftheRedCross',\n 'comitedelacruzrojainternacional',\n 'comiteinternacionaldelacruzroja',\n 'comité international de la croix rouge',\n 'croix rouge internationale',\n 'croixrougeinternationale',\n 'cruzrojainternacional',\n 'international committee of red cross',\n 'international red cross committee',\n 'internationalcommitteeredcross',\n 'internationalredcross',\n 'intl committee of the red cross',\n 'pmaurericrc',\n 'COMITÉ DE LA CROIX-ROUGE',\n 'COMITÉ INTERNATIONAL DE LA CROIX-ROUGE',\n 'Comité Internacional de la Cruz Roja',\n 'Croce Rossa',\n 'Croissant-Rouge',\n 'Croix-Rouge',\n 'Cruz Roja Internacional',\n 'Cruz Roja venezolano',\n 'Cruz Roja venezolana',\n 'Cruz Roja AND ayuda',\n 'Cruz Vermelha',\n 'Dr. Kerem Kınık',\n 'Northern Cyprus Turkish Red Crescent',\n '@RedCrescentNC',\n '@kktkizilayigm',\n '#RedCrescentNC',\n '#kktkizilayigm',\n 'Kibris Türk Kizilayi',\n 'Kıbrıs Türk Kızılayı',\n 'International Committee of the Red Cross',\n 'International Red Cross',\n 'Komitee des Roten Kreuz',\n 'Komitee vom Roten Kreuz',\n 'Luna Roja',\n 'Magen David Adom',\n 'Maguén David Adom',\n 'Maguen David Adom',\n 'Peter Maurer',\n 'President of @ICRC',\n 'Red Crescent',\n 'Red Cross medal',\n 'ugandaredcross',\n 'mission of International Red Cross and Red Crescent Movement',\n 'international committee of the red cross',\n 'committee for the red cross',\n 'ifrcafrica',\n 'International Red Cross and Red Crescent Movement',\n 'redcross',\n 'committee of red cross',\n 'Red Cross Red Crescent Magazine',\n 'head of the icrc',\n 'myanmarredcross',\n 'Red Cross prize',\n 'statutory bodies of the ICRC',\n 'redcrosslebanon',\n 'american red cross',\n 'cicr',\n 'committee of the red cross',\n \"ICRC's identity\",\n 'Red Cross',\n 'red cross hospital',\n 'red crescent',\n 'british red cross',\n 'redcrosswomen',\n \"ICRC's scope of action\",\n 'International Conference of the Red Cross and Red Crescent',\n 'use of the emblem',\n 'madaredcross',\n 'icrc president',\n \"ICRC's values\",\n 'ifrcasiapacific',\n 'nepalredcross',\n 'redcrescent movement',\n 'redcrossentebbe',\n 'IFRC',\n 'namibiaredcross',\n 'Red Cross message',\n 'ICRC',\n 'redcrescenttr',\n 'rwandaredcross',\n 'petermaurer',\n 'Red Cross Conference',\n 'International Federation of Red Cross and Red Crescent Societies',\n 'president of the icrc',\n 'vanuaturedcross',\n 'redcrescent',\n 'misuse of the emblem',\n 'الصليب الأحمر',\n 'اللجنة الدولية للصليب الأحمر',\n 'للصليب الأحمر',\n 'وميتەى نيَونەتەوەيى خاچى سوور',\n 'uluslararası kızılhaç komitesi',\n 'The Red Cross',\n 'Türk Kızılay',\n 'Türk Kizilay',\n '@Kizilay',\n 'Dr. Kerem Kinik',\n 'Dr. Ibrahim Altan',\n 'Dr. İbrahim Altan',\n 'الهلال الأحمر التركي',\n '@hilalahmartr',\n 'Xaça Sor',\n 'comité de la cruz roja internacional',\n 'croissant rouge',\n 'croix rouge',\n 'cruz roja internacional',\n 'cruz roja',\n \"int'l committee of the red cross\",\n 'international red cross',\n 'media luna roja',\n 'الصليب الاحمر',\n 'الهلال الأحمر',\n 'الهلال الاحمر',\n 'للصليب الاحمر',\n 'للهلال الأحمر',\n 'للهلال الاحمر',\n 'والصليب الأحمر',\n 'والصليب الاحمر',\n '国际红十字与红新月运动',\n '红十字国际委员会',\n '#CICR',\n '#CICR_Afrique',\n '#CICR_DRMX',\n '#CICR_LIMA',\n '#CICR_Mali',\n '#CICR_co',\n '#CICR_es',\n '#CICR_fr',\n '#CICR_ve',\n '#CICV_br',\n '#CICV_pt',\n '#ComitéinternationaldelaCroixRouge',\n '#HCIDInitiative',\n '#ICRC',\n '#ICRC_AfricUnion',\n '#ICRC_Africa',\n '#ICRC_AsiaPac',\n '#ICRC_IQ',\n '#ICRC_Innovation',\n '#ICRC_NYC',\n '#ICRC_Nairobi',\n '#ICRC_SAfrica',\n '#ICRC_af',\n '#ICRC_ar',\n '#ICRC_au',\n '#ICRC_bd',\n '#ICRC_bxl',\n '#ICRC_dc',\n '#ICRC_id',\n '#ICRC_ilot',\n '#ICRC_jp',\n '#ICRC_kw',\n '#ICRC_lb',\n '#ICRC_lby',\n '#ICRC_my',\n '#ICRC_nd',\n '#ICRC_rw',\n '#ICRC_sy',\n '#ICRC_ua',\n '#ICRC_uk',\n '#ICRC_ye',\n '#IKRK',\n '#InternationalCommitteeoftheRedCross',\n '#KHumeICRC',\n '#MKKK',\n '#PMaurerICRC',\n '#RCRC19',\n '#RCRCMovement',\n '#RedCross',\n '#TheRedCross',\n '#TrRedCrescent',\n '#comiteinternacionaldelacruzroja',\n '#croissantrouge',\n '#croixrouge',\n '#croixrougeinternationale',\n '#cruzroja',\n '#cruzrojainternacional',\n '#internationalcommitteeredcross',\n '#internationalredcross',\n '#medialunaroja',\n '(*redcross',\n 'redcross*',\n 'icrc*',\n '*icrc',\n 'ifrc*',\n '*ifrc',\n '*cicr',\n 'cicr*',\n 'red cross',\n '*redcrescent',\n 'redcrescent*)',\n '(ayuda',\n 'donados',\n 'productos) AND (vendida',\n 'desviados',\n 'revende',\n 'comercializada)',\n '@CICR',\n '@CICR_Afrique',\n '@CICR_DRMX',\n '@CICR_LIMA',\n '@CICR_Mali',\n '@CICR_co',\n '@CICR_es',\n '@CICR_fr',\n '@CICR_pt',\n '@CICR_ve',\n '@CICV_br',\n '@CICV_pt',\n '@HCIDInitiative',\n '@ICRC',\n '@ICRC_AfricUnion',\n '@ICRC_Africa',\n '@ICRC_AsiaPac',\n '@ICRC_IQ',\n '@ICRC_Innovation',\n '@ICRC_NYC',\n '@ICRC_Nairobi',\n '@ICRC_SAfrica',\n '@ICRC_Sudan',\n '@ICRC_af',\n '@ICRC_ar',\n '@ICRC_au',\n '@ICRC_bd',\n '@ICRC_bxl',\n '@ICRC_dc',\n '@ICRC_id',\n '@ICRC_ilot',\n '@ICRC_jp',\n '@ICRC_kw',\n '@ICRC_lb',\n '@ICRC_lby',\n '@ICRC_my',\n '@ICRC_nd',\n '@ICRC_rw',\n '@ICRC_sy',\n '@ICRC_ua',\n '@ICRC_uk',\n '@ICRC_ye',\n '@IKRK',\n '@IRCR_Nairobi',\n '@KHumeICRC',\n '@MKKK',\n '@PMaurerICRC',\n '@TrRedCrescent',\n '@pmaurericrc',\n 'CICR',\n 'CICR_Afrique',\n 'CICR_DRMX',\n 'CICR_LIMA',\n 'CICR_co',\n 'CICR_es',\n 'CICR_fr',\n 'CICR_ve',\n 'CICV_br',\n 'CruzRoja',\n 'CruzRojaAlava',\n 'FICR',\n 'ICRC AND hypocrisy',\n 'ICRC_AfricUnion',\n 'ICRC_Africa',\n 'ICRC_AsiaPac',\n 'ICRC_IQ',\n 'ICRC_NYC',\n 'ICRC_Nairobi',\n 'ICRC_SAfrica',\n 'ICRC_af',\n 'ICRC_au',\n 'ICRC_bxl',\n 'ICRC_dc',\n 'ICRC_id',\n 'ICRC_ilot',\n 'ICRC_jp',\n 'ICRC_lby',\n 'ICRC_my',\n 'ICRC_nd',\n 'ICRC_sy',\n 'ICRC_uk',\n 'ICRC_ye',\n 'IKRK',\n 'MKKK',\n 'PMaurerICRC',\n 'RedCross',\n 'TheRedCross',\n 'cicr.org',\n 'icrc.org',\n 'Cruz Roja']"
     },
     "execution_count": 9,
     "metadata": {},
     "output_type": "execute_result"
    }
   ],
   "source": [
    "kw_set"
   ],
   "metadata": {
    "collapsed": false,
    "pycharm": {
     "name": "#%%\n"
    }
   }
  },
  {
   "cell_type": "code",
   "execution_count": 10,
   "outputs": [],
   "source": [
    "to_remove = ['(ayuda',\n",
    "             'donados',\n",
    "             'productos) AND (vendida',\n",
    "             'desviados',\n",
    "             'revende',\n",
    "             'comercializada)']"
   ],
   "metadata": {
    "collapsed": false,
    "pycharm": {
     "name": "#%%\n"
    }
   }
  },
  {
   "cell_type": "code",
   "execution_count": 11,
   "outputs": [],
   "source": [
    "kw_set = [w for w in kw_set if w not in to_remove]"
   ],
   "metadata": {
    "collapsed": false,
    "pycharm": {
     "name": "#%%\n"
    }
   }
  },
  {
   "cell_type": "code",
   "execution_count": 12,
   "outputs": [
    {
     "data": {
      "text/plain": "291"
     },
     "execution_count": 12,
     "metadata": {},
     "output_type": "execute_result"
    }
   ],
   "source": [
    "len(kw_set)"
   ],
   "metadata": {
    "collapsed": false,
    "pycharm": {
     "name": "#%%\n"
    }
   }
  },
  {
   "cell_type": "code",
   "execution_count": 13,
   "outputs": [],
   "source": [
    "kw_set = [re.sub('\\(|\\)', '', w) for w in kw_set]"
   ],
   "metadata": {
    "collapsed": false,
    "pycharm": {
     "name": "#%%\n"
    }
   }
  },
  {
   "cell_type": "code",
   "execution_count": 14,
   "outputs": [
    {
     "data": {
      "text/plain": "['CICR_pt',\n 'Comité International de la Croix Rouge',\n 'Comité de la Croix-Rouge internationale',\n 'Comité de la Cruz Roja Internacional',\n 'ComitéinternationaldelaCroixRouge',\n 'ICRC_Sudan',\n 'ICRC_ar',\n 'InternationalCommitteeoftheRedCross',\n 'comitedelacruzrojainternacional',\n 'comiteinternacionaldelacruzroja',\n 'comité international de la croix rouge',\n 'croix rouge internationale',\n 'croixrougeinternationale',\n 'cruzrojainternacional',\n 'international committee of red cross',\n 'international red cross committee',\n 'internationalcommitteeredcross',\n 'internationalredcross',\n 'intl committee of the red cross',\n 'pmaurericrc',\n 'COMITÉ DE LA CROIX-ROUGE',\n 'COMITÉ INTERNATIONAL DE LA CROIX-ROUGE',\n 'Comité Internacional de la Cruz Roja',\n 'Croce Rossa',\n 'Croissant-Rouge',\n 'Croix-Rouge',\n 'Cruz Roja Internacional',\n 'Cruz Roja venezolano',\n 'Cruz Roja venezolana',\n 'Cruz Roja AND ayuda',\n 'Cruz Vermelha',\n 'Dr. Kerem Kınık',\n 'Northern Cyprus Turkish Red Crescent',\n '@RedCrescentNC',\n '@kktkizilayigm',\n '#RedCrescentNC',\n '#kktkizilayigm',\n 'Kibris Türk Kizilayi',\n 'Kıbrıs Türk Kızılayı',\n 'International Committee of the Red Cross',\n 'International Red Cross',\n 'Komitee des Roten Kreuz',\n 'Komitee vom Roten Kreuz',\n 'Luna Roja',\n 'Magen David Adom',\n 'Maguén David Adom',\n 'Maguen David Adom',\n 'Peter Maurer',\n 'President of @ICRC',\n 'Red Crescent',\n 'Red Cross medal',\n 'ugandaredcross',\n 'mission of International Red Cross and Red Crescent Movement',\n 'international committee of the red cross',\n 'committee for the red cross',\n 'ifrcafrica',\n 'International Red Cross and Red Crescent Movement',\n 'redcross',\n 'committee of red cross',\n 'Red Cross Red Crescent Magazine',\n 'head of the icrc',\n 'myanmarredcross',\n 'Red Cross prize',\n 'statutory bodies of the ICRC',\n 'redcrosslebanon',\n 'american red cross',\n 'cicr',\n 'committee of the red cross',\n \"ICRC's identity\",\n 'Red Cross',\n 'red cross hospital',\n 'red crescent',\n 'british red cross',\n 'redcrosswomen',\n \"ICRC's scope of action\",\n 'International Conference of the Red Cross and Red Crescent',\n 'use of the emblem',\n 'madaredcross',\n 'icrc president',\n \"ICRC's values\",\n 'ifrcasiapacific',\n 'nepalredcross',\n 'redcrescent movement',\n 'redcrossentebbe',\n 'IFRC',\n 'namibiaredcross',\n 'Red Cross message',\n 'ICRC',\n 'redcrescenttr',\n 'rwandaredcross',\n 'petermaurer',\n 'Red Cross Conference',\n 'International Federation of Red Cross and Red Crescent Societies',\n 'president of the icrc',\n 'vanuaturedcross',\n 'redcrescent',\n 'misuse of the emblem',\n 'الصليب الأحمر',\n 'اللجنة الدولية للصليب الأحمر',\n 'للصليب الأحمر',\n 'وميتەى نيَونەتەوەيى خاچى سوور',\n 'uluslararası kızılhaç komitesi',\n 'The Red Cross',\n 'Türk Kızılay',\n 'Türk Kizilay',\n '@Kizilay',\n 'Dr. Kerem Kinik',\n 'Dr. Ibrahim Altan',\n 'Dr. İbrahim Altan',\n 'الهلال الأحمر التركي',\n '@hilalahmartr',\n 'Xaça Sor',\n 'comité de la cruz roja internacional',\n 'croissant rouge',\n 'croix rouge',\n 'cruz roja internacional',\n 'cruz roja',\n \"int'l committee of the red cross\",\n 'international red cross',\n 'media luna roja',\n 'الصليب الاحمر',\n 'الهلال الأحمر',\n 'الهلال الاحمر',\n 'للصليب الاحمر',\n 'للهلال الأحمر',\n 'للهلال الاحمر',\n 'والصليب الأحمر',\n 'والصليب الاحمر',\n '国际红十字与红新月运动',\n '红十字国际委员会',\n '#CICR',\n '#CICR_Afrique',\n '#CICR_DRMX',\n '#CICR_LIMA',\n '#CICR_Mali',\n '#CICR_co',\n '#CICR_es',\n '#CICR_fr',\n '#CICR_ve',\n '#CICV_br',\n '#CICV_pt',\n '#ComitéinternationaldelaCroixRouge',\n '#HCIDInitiative',\n '#ICRC',\n '#ICRC_AfricUnion',\n '#ICRC_Africa',\n '#ICRC_AsiaPac',\n '#ICRC_IQ',\n '#ICRC_Innovation',\n '#ICRC_NYC',\n '#ICRC_Nairobi',\n '#ICRC_SAfrica',\n '#ICRC_af',\n '#ICRC_ar',\n '#ICRC_au',\n '#ICRC_bd',\n '#ICRC_bxl',\n '#ICRC_dc',\n '#ICRC_id',\n '#ICRC_ilot',\n '#ICRC_jp',\n '#ICRC_kw',\n '#ICRC_lb',\n '#ICRC_lby',\n '#ICRC_my',\n '#ICRC_nd',\n '#ICRC_rw',\n '#ICRC_sy',\n '#ICRC_ua',\n '#ICRC_uk',\n '#ICRC_ye',\n '#IKRK',\n '#InternationalCommitteeoftheRedCross',\n '#KHumeICRC',\n '#MKKK',\n '#PMaurerICRC',\n '#RCRC19',\n '#RCRCMovement',\n '#RedCross',\n '#TheRedCross',\n '#TrRedCrescent',\n '#comiteinternacionaldelacruzroja',\n '#croissantrouge',\n '#croixrouge',\n '#croixrougeinternationale',\n '#cruzroja',\n '#cruzrojainternacional',\n '#internationalcommitteeredcross',\n '#internationalredcross',\n '#medialunaroja',\n '*redcross',\n 'redcross*',\n 'icrc*',\n '*icrc',\n 'ifrc*',\n '*ifrc',\n '*cicr',\n 'cicr*',\n 'red cross',\n '*redcrescent',\n 'redcrescent*',\n '@CICR',\n '@CICR_Afrique',\n '@CICR_DRMX',\n '@CICR_LIMA',\n '@CICR_Mali',\n '@CICR_co',\n '@CICR_es',\n '@CICR_fr',\n '@CICR_pt',\n '@CICR_ve',\n '@CICV_br',\n '@CICV_pt',\n '@HCIDInitiative',\n '@ICRC',\n '@ICRC_AfricUnion',\n '@ICRC_Africa',\n '@ICRC_AsiaPac',\n '@ICRC_IQ',\n '@ICRC_Innovation',\n '@ICRC_NYC',\n '@ICRC_Nairobi',\n '@ICRC_SAfrica',\n '@ICRC_Sudan',\n '@ICRC_af',\n '@ICRC_ar',\n '@ICRC_au',\n '@ICRC_bd',\n '@ICRC_bxl',\n '@ICRC_dc',\n '@ICRC_id',\n '@ICRC_ilot',\n '@ICRC_jp',\n '@ICRC_kw',\n '@ICRC_lb',\n '@ICRC_lby',\n '@ICRC_my',\n '@ICRC_nd',\n '@ICRC_rw',\n '@ICRC_sy',\n '@ICRC_ua',\n '@ICRC_uk',\n '@ICRC_ye',\n '@IKRK',\n '@IRCR_Nairobi',\n '@KHumeICRC',\n '@MKKK',\n '@PMaurerICRC',\n '@TrRedCrescent',\n '@pmaurericrc',\n 'CICR',\n 'CICR_Afrique',\n 'CICR_DRMX',\n 'CICR_LIMA',\n 'CICR_co',\n 'CICR_es',\n 'CICR_fr',\n 'CICR_ve',\n 'CICV_br',\n 'CruzRoja',\n 'CruzRojaAlava',\n 'FICR',\n 'ICRC AND hypocrisy',\n 'ICRC_AfricUnion',\n 'ICRC_Africa',\n 'ICRC_AsiaPac',\n 'ICRC_IQ',\n 'ICRC_NYC',\n 'ICRC_Nairobi',\n 'ICRC_SAfrica',\n 'ICRC_af',\n 'ICRC_au',\n 'ICRC_bxl',\n 'ICRC_dc',\n 'ICRC_id',\n 'ICRC_ilot',\n 'ICRC_jp',\n 'ICRC_lby',\n 'ICRC_my',\n 'ICRC_nd',\n 'ICRC_sy',\n 'ICRC_uk',\n 'ICRC_ye',\n 'IKRK',\n 'MKKK',\n 'PMaurerICRC',\n 'RedCross',\n 'TheRedCross',\n 'cicr.org',\n 'icrc.org',\n 'Cruz Roja']"
     },
     "execution_count": 14,
     "metadata": {},
     "output_type": "execute_result"
    }
   ],
   "source": [
    "kw_set"
   ],
   "metadata": {
    "collapsed": false,
    "pycharm": {
     "name": "#%%\n"
    }
   }
  },
  {
   "cell_type": "code",
   "execution_count": 15,
   "outputs": [],
   "source": [
    "import pandas as pd\n",
    "df = pd.DataFrame(kw_set, columns=['Keywords'])"
   ],
   "metadata": {
    "collapsed": false,
    "pycharm": {
     "name": "#%%\n"
    }
   }
  },
  {
   "cell_type": "code",
   "execution_count": 16,
   "outputs": [],
   "source": [
    "df.to_csv('data/keywords_clean.csv')"
   ],
   "metadata": {
    "collapsed": false,
    "pycharm": {
     "name": "#%%\n"
    }
   }
  }
 ],
 "metadata": {
  "kernelspec": {
   "display_name": "Python 3",
   "language": "python",
   "name": "python3"
  },
  "language_info": {
   "codemirror_mode": {
    "name": "ipython",
    "version": 2
   },
   "file_extension": ".py",
   "mimetype": "text/x-python",
   "name": "python",
   "nbconvert_exporter": "python",
   "pygments_lexer": "ipython2",
   "version": "2.7.6"
  }
 },
 "nbformat": 4,
 "nbformat_minor": 0
}