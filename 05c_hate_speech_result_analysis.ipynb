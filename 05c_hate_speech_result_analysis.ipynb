{
 "cells": [
  {
   "cell_type": "markdown",
   "id": "0970fe18-46fa-4cff-b43b-7bb5fe7656bb",
   "metadata": {},
   "source": [
    "# Hate Speech Detection Results"
   ]
  },
  {
   "cell_type": "code",
   "execution_count": null,
   "id": "077a21bf-73ff-49e3-90e4-c5f90b5183bb",
   "metadata": {},
   "outputs": [],
   "source": [
    "import pandas as pd\n",
    "import numpy as np\n",
    "import re\n",
    "from sklearn.metrics import confusion_matrix, precision_recall_fscore_support\n",
    "from sklearn.linear_model import LogisticRegression\n",
    "import seaborn as sns\n",
    "import matplotlib.pyplot as plt"
   ]
  },
  {
   "cell_type": "markdown",
   "id": "62d2d55b-9862-4e81-b6f6-025f0239410d",
   "metadata": {},
   "source": [
    "## Loading Data"
   ]
  },
  {
   "cell_type": "code",
   "execution_count": null,
   "id": "bb6edacf-d106-418f-9912-136b6ec07c0e",
   "metadata": {},
   "outputs": [],
   "source": [
    "df_tweets = pd.read_parquet('data/tweets/en/english_tweets.parquet')\n",
    "df_tweets"
   ]
  },
  {
   "cell_type": "code",
   "execution_count": null,
   "id": "a1eca2fe-3332-40b4-9847-350589af361d",
   "metadata": {},
   "outputs": [],
   "source": [
    "hate_a = pd.read_parquet('data/hate_speech/hate_model_a.parquet')\n",
    "hate_a['id'] = hate_a['id'].astype(str)\n",
    "hate_a"
   ]
  },
  {
   "cell_type": "code",
   "execution_count": null,
   "id": "3ff329d1-9d10-4027-a1aa-1bc095f8626f",
   "metadata": {},
   "outputs": [],
   "source": [
    "hate_b = pd.read_parquet('data/hate_speech/hate_model_b.parquet')\n",
    "hate_b['id'] = hate_b['id'].astype(str)\n",
    "hate_b"
   ]
  },
  {
   "cell_type": "code",
   "execution_count": null,
   "id": "87ba5748-d969-4330-8f55-aa353af6ddb5",
   "metadata": {},
   "outputs": [],
   "source": [
    "hate_b.rename(columns={'not-hate': 'NON_HATE', 'hate': 'HATE', 'not-hate_softmax': 'NON_HATE_softmax', 'hate_softmax': 'HATE_softmax'}, inplace=True)\n",
    "hate_b"
   ]
  },
  {
   "cell_type": "markdown",
   "id": "b97f3cea-b1e4-4715-ad8d-03d244ec205a",
   "metadata": {},
   "source": [
    "## Labeling Statistics"
   ]
  },
  {
   "cell_type": "code",
   "execution_count": null,
   "id": "ad9a5f1a-b6a7-415a-b944-857c1fe5aa86",
   "metadata": {},
   "outputs": [],
   "source": [
    "merged_hate = hate_a.merge(hate_b, on='id', suffixes=('_a', '_b'))\n",
    "merged_hate"
   ]
  },
  {
   "cell_type": "code",
   "execution_count": null,
   "id": "e2d1d0a7-1546-441d-a80c-09253489e33f",
   "metadata": {},
   "outputs": [],
   "source": [
    "merged_hate['hate_speech_a_label'] = merged_hate['HATE_softmax_a'] >= 0.5\n",
    "merged_hate['hate_speech_b_label'] = merged_hate['HATE_softmax_b'] >= 0.5"
   ]
  },
  {
   "cell_type": "code",
   "execution_count": null,
   "id": "72f65ddd-9a90-4748-8ff3-6b170047d172",
   "metadata": {},
   "outputs": [],
   "source": [
    "merged_hate"
   ]
  },
  {
   "cell_type": "code",
   "execution_count": null,
   "id": "6a03fafd-b0c4-49fb-8aae-b5d17d582aa8",
   "metadata": {},
   "outputs": [],
   "source": [
    "d = merged_hate.hate_speech_a_label.value_counts().rename(index={True: 'Hate', False: 'Non-Hate'})\n",
    "\n",
    "d = d / d.sum() * 100\n",
    "\n",
    "d = d.to_frame('Percentage').reset_index().rename(columns={'index': 'Model Output'})\n",
    "\n",
    "ax = sns.barplot(x='Model Output', y='Percentage', data=d, palette='Blues')\n",
    "ax.set_title('Model A Output')\n",
    "\n",
    "ax.bar_label(ax.containers[0])\n",
    "for t in ax.texts: t.set_text(t.get_text() + \" %\")\n",
    "\n",
    "plt.savefig('plots/res/' + ax.title.get_text() + '.svg', format='svg', bbox_inches=\"tight\")\n",
    "plt.show()"
   ]
  },
  {
   "cell_type": "code",
   "execution_count": null,
   "id": "09b02d67-8e75-43eb-b069-6ace7462d8cc",
   "metadata": {},
   "outputs": [],
   "source": [
    "d = merged_hate.hate_speech_b_label.value_counts().rename(index={True: 'Hate', False: 'Non-Hate'})\n",
    "\n",
    "d = d / d.sum() * 100\n",
    "\n",
    "d = d.to_frame('Percentage').reset_index().rename(columns={'index': 'Model Output'})\n",
    "\n",
    "ax = sns.barplot(x='Model Output', y='Percentage', data=d, palette='Blues')\n",
    "ax.set_title('Model B Output')\n",
    "\n",
    "ax.bar_label(ax.containers[0])\n",
    "for t in ax.texts: t.set_text(t.get_text() + \" %\")\n",
    "\n",
    "plt.savefig('plots/res/' + ax.title.get_text() + '.svg', format='svg', bbox_inches=\"tight\")\n",
    "plt.show()"
   ]
  },
  {
   "cell_type": "code",
   "execution_count": null,
   "id": "03f61c28-39cd-482d-bedb-e5dc02ba0255",
   "metadata": {},
   "outputs": [],
   "source": [
    "agreement = (merged_hate.hate_speech_a_label == merged_hate.hate_speech_b_label).value_counts().rename(index={True: 'Similar', False: 'Different'})\n",
    "\n",
    "agreement = agreement / agreement.sum() * 100\n",
    "\n",
    "agreement = agreement.to_frame('Percentage').reset_index().rename(columns={'index': 'Model Output Similarity'})\n",
    "\n",
    "ax = sns.barplot(x='Model Output Similarity', y='Percentage', data=agreement, palette='Blues')\n",
    "ax.set_title('Model A and B Output Similarity')\n",
    "\n",
    "ax.bar_label(ax.containers[0])\n",
    "for t in ax.texts: t.set_text(t.get_text() + \" %\")\n",
    "\n",
    "plt.savefig('plots/res/' + ax.title.get_text() + '.svg', format='svg', bbox_inches=\"tight\")\n",
    "plt.show()"
   ]
  },
  {
   "cell_type": "code",
   "execution_count": null,
   "id": "5a35138d-6d06-43e5-b7dd-ea3c533f9254",
   "metadata": {},
   "outputs": [],
   "source": [
    "print(f'{merged_hate.hate_speech_a_label.sum()} tweets labeled as hate by model a')\n",
    "print(f'{merged_hate.hate_speech_b_label.sum()} tweets labeled as hate by model b')"
   ]
  },
  {
   "cell_type": "code",
   "execution_count": null,
   "id": "d0c63fb3-ac7f-4e85-aa0e-4fb4c548f2de",
   "metadata": {},
   "outputs": [],
   "source": [
    "cf_matrix = confusion_matrix(merged_hate.hate_speech_a_label, merged_hate.hate_speech_b_label)\n",
    "cf_matrix\n",
    "\n",
    "ax = sns.heatmap(cf_matrix, annot=True, cmap='Blues', fmt='g')\n",
    "\n",
    "ax.set_title('Model A and B Confusion Matrix')\n",
    "ax.set_xlabel('Hate Speech B')\n",
    "ax.set_ylabel('Hate Speech A')\n",
    "\n",
    "## Ticket labels - List must be in alphabetical order\n",
    "ax.xaxis.set_ticklabels(['False','True'])\n",
    "ax.yaxis.set_ticklabels(['False','True'])\n",
    "\n",
    "## Display the visualization of the Confusion Matrix.\n",
    "plt.savefig('plots/res/' + ax.title.get_text() + '.svg', format='svg', bbox_inches=\"tight\")\n",
    "plt.show()"
   ]
  },
  {
   "cell_type": "code",
   "execution_count": null,
   "id": "16240d13-7087-4743-abe7-bcc34d770e7d",
   "metadata": {},
   "outputs": [],
   "source": [
    "cf_matrix = confusion_matrix(merged_hate.hate_speech_a_label, merged_hate.hate_speech_b_label, normalize='pred') * 100\n",
    "cf_matrix\n",
    "\n",
    "ax = sns.heatmap(cf_matrix, annot=True, cmap='Blues', fmt='.2f')\n",
    "for t in ax.texts: t.set_text(t.get_text() + \" %\")\n",
    "\n",
    "ax.set_title('Model A and B Confusion Matrix (B Normalized)')\n",
    "ax.set_xlabel('Hate Speech B')\n",
    "ax.set_ylabel('Hate Speech A')\n",
    "\n",
    "## Ticket labels - List must be in alphabetical order\n",
    "ax.xaxis.set_ticklabels(['False','True'])\n",
    "ax.yaxis.set_ticklabels(['False','True'])\n",
    "\n",
    "## Display the visualization of the Confusion Matrix.\n",
    "plt.savefig('plots/res/' + ax.title.get_text() + '.svg', format='svg', bbox_inches=\"tight\")\n",
    "plt.show()"
   ]
  },
  {
   "cell_type": "code",
   "execution_count": null,
   "id": "fcc07fdc-99e9-4430-a44a-216f86a37177",
   "metadata": {},
   "outputs": [],
   "source": [
    "cf_matrix = confusion_matrix(merged_hate.hate_speech_a_label, merged_hate.hate_speech_b_label, normalize='true') * 100\n",
    "cf_matrix\n",
    "\n",
    "ax = sns.heatmap(cf_matrix, annot=True, cmap='Blues', fmt='.2f')\n",
    "for t in ax.texts: t.set_text(t.get_text() + \" %\")\n",
    "\n",
    "ax.set_title('Model A and B Confusion Matrix (A Normalized)')\n",
    "ax.set_xlabel('Hate Speech B')\n",
    "ax.set_ylabel('Hate Speech A')\n",
    "\n",
    "## Ticket labels - List must be in alphabetical order\n",
    "ax.xaxis.set_ticklabels(['False','True'])\n",
    "ax.yaxis.set_ticklabels(['False','True'])\n",
    "\n",
    "## Display the visualization of the Confusion Matrix.\n",
    "plt.savefig('plots/res/' + ax.title.get_text() + '.svg', format='svg', bbox_inches=\"tight\")\n",
    "plt.show()"
   ]
  },
  {
   "cell_type": "code",
   "execution_count": null,
   "id": "1eb796e2-00c8-422a-93a3-78e52c6edff9",
   "metadata": {},
   "outputs": [],
   "source": [
    "cf_matrix = confusion_matrix(merged_hate.hate_speech_a_label, merged_hate.hate_speech_b_label, normalize='all') * 100\n",
    "cf_matrix\n",
    "\n",
    "ax = sns.heatmap(cf_matrix, annot=True, cmap='Blues', fmt='.2f')\n",
    "for t in ax.texts: t.set_text(t.get_text() + \" %\")\n",
    "\n",
    "ax.set_title('Model A and B Confusion Matrix (Normalized)')\n",
    "ax.set_xlabel('Hate Speech B')\n",
    "ax.set_ylabel('Hate Speech A')\n",
    "\n",
    "## Ticket labels - List must be in alphabetical order\n",
    "ax.xaxis.set_ticklabels(['False','True'])\n",
    "ax.yaxis.set_ticklabels(['False','True'])\n",
    "\n",
    "## Display the visualization of the Confusion Matrix.\n",
    "plt.savefig('plots/res/' + ax.title.get_text() + '.svg', format='svg', bbox_inches=\"tight\")\n",
    "plt.show()"
   ]
  },
  {
   "cell_type": "markdown",
   "id": "f2573e18-165f-4159-a728-3f9695c40fdb",
   "metadata": {},
   "source": [
    "## Sample Creation per Label"
   ]
  },
  {
   "cell_type": "code",
   "execution_count": null,
   "id": "c917697d-cfa7-47c3-a962-24e9470b61a3",
   "metadata": {},
   "outputs": [],
   "source": [
    "df_tweets_classified = df_tweets.merge(merged_hate, on='id')[['id', 'text', 'NON_HATE_a', 'HATE_a', 'NON_HATE_softmax_a', 'HATE_softmax_a', 'NON_HATE_b', 'HATE_b', 'NON_HATE_softmax_b', 'HATE_softmax_b', 'hate_speech_a_label', 'hate_speech_b_label']]\n",
    "df_tweets_classified"
   ]
  },
  {
   "cell_type": "raw",
   "id": "e822aff0-062c-4aa4-8732-f3cf6acdb0d6",
   "metadata": {},
   "source": [
    "df_tweets_classified[df_tweets_classified.hate_speech_a_label & df_tweets_classified.hate_speech_b_label].sample(50).to_csv('data/hate_speech/hate_speech_classification_samples/TT.csv', index=None)"
   ]
  },
  {
   "cell_type": "raw",
   "id": "4a187b8f-3030-4a81-b33e-d88d63509a36",
   "metadata": {},
   "source": [
    "df_tweets_classified[df_tweets_classified.hate_speech_a_label & ~df_tweets_classified.hate_speech_b_label].sample(50).to_csv('data/hate_speech/hate_speech_classification_samples/TF.csv', index=None)"
   ]
  },
  {
   "cell_type": "raw",
   "id": "1f302a47-c5c4-407f-9de7-125515904b38",
   "metadata": {},
   "source": [
    "df_tweets_classified[~df_tweets_classified.hate_speech_a_label & df_tweets_classified.hate_speech_b_label].sample(50).to_csv('data/hate_speech/hate_speech_classification_samples/FT.csv', index=None)"
   ]
  },
  {
   "cell_type": "raw",
   "id": "7813ef08-8606-430a-9eca-60f559551558",
   "metadata": {},
   "source": [
    "df_tweets_classified[~df_tweets_classified.hate_speech_a_label & ~df_tweets_classified.hate_speech_b_label].sample(50).to_csv('data/hate_speech/hate_speech_classification_samples/FF.csv', index=None)"
   ]
  },
  {
   "cell_type": "markdown",
   "id": "7a71042d-f841-4460-9cd3-3fee5aafa692",
   "metadata": {},
   "source": [
    "## Load Sample Labels"
   ]
  },
  {
   "cell_type": "markdown",
   "id": "af29132c-eaff-479c-909b-cf6c2c882433",
   "metadata": {},
   "source": [
    "### TT"
   ]
  },
  {
   "cell_type": "code",
   "execution_count": null,
   "id": "13daa443-874e-4d66-89ff-9593ed02a4cf",
   "metadata": {},
   "outputs": [],
   "source": [
    "labeled_tt = pd.read_csv('data/hate_speech/hate_speech_classification_samples/TT_labelled.csv')\n",
    "labeled_tt.head()"
   ]
  },
  {
   "cell_type": "code",
   "execution_count": null,
   "id": "b40a6100-18bb-4327-86b2-68286cba2fd3",
   "metadata": {},
   "outputs": [],
   "source": [
    "labeled_tt['label'] = labeled_tt['Label'] == 1"
   ]
  },
  {
   "cell_type": "code",
   "execution_count": null,
   "id": "150cc023-1481-4248-b37b-cf45de8852fa",
   "metadata": {},
   "outputs": [],
   "source": [
    "ax = sns.scatterplot(data=labeled_tt, x='HATE_softmax_a', y='HATE_softmax_b', hue='label')\n",
    "ax.set_title('Tweets Labeled as Hate Speech by Model A and Model B')\n",
    "plt.savefig('plots/res/' + ax.title.get_text() + '.svg', format='svg', bbox_inches=\"tight\")\n",
    "plt.show()\n",
    "#plt.ylim(0, 1)\n",
    "#plt.xlim(0, 1)"
   ]
  },
  {
   "cell_type": "markdown",
   "id": "858037d2-52b2-4bcc-818e-4af055bab953",
   "metadata": {},
   "source": [
    "### TF"
   ]
  },
  {
   "cell_type": "code",
   "execution_count": null,
   "id": "e8a28faf-d0b5-4b16-8c3f-8d3cf313b873",
   "metadata": {},
   "outputs": [],
   "source": [
    "labeled_tf = pd.read_csv('data/hate_speech/hate_speech_classification_samples/TF_labelled.csv')\n",
    "labeled_tf.head()"
   ]
  },
  {
   "cell_type": "code",
   "execution_count": null,
   "id": "5688f2c5-cd42-40e5-9922-b74a9b80b1d7",
   "metadata": {},
   "outputs": [],
   "source": [
    "labeled_tf['label'] = labeled_tf['Label'] == 1"
   ]
  },
  {
   "cell_type": "code",
   "execution_count": null,
   "id": "fd5c00f5-4a78-44a7-b0c5-00c902f360b8",
   "metadata": {},
   "outputs": [],
   "source": [
    "ax = sns.scatterplot(data=labeled_tf, x='HATE_softmax_a', y='HATE_softmax_b', hue='label')\n",
    "ax.set_title('Tweets Labeled as Hate Speech by Model A\\nand Non-Hate Speech by Model B')\n",
    "plt.savefig('plots/res/' + ax.title.get_text() + '.svg', format='svg', bbox_inches=\"tight\")\n",
    "plt.show()\n",
    "#plt.ylim(0, 1)\n",
    "#plt.xlim(0, 1)"
   ]
  },
  {
   "cell_type": "markdown",
   "id": "f5b652eb-86d4-4273-b64e-8f749a75b018",
   "metadata": {},
   "source": [
    "### FT"
   ]
  },
  {
   "cell_type": "code",
   "execution_count": null,
   "id": "6b0fd195-d816-4df9-808b-84f4bff3aa18",
   "metadata": {},
   "outputs": [],
   "source": [
    "labeled_ft = pd.read_csv('data/hate_speech/hate_speech_classification_samples/FT_labelled.csv')\n",
    "labeled_ft.head()"
   ]
  },
  {
   "cell_type": "code",
   "execution_count": null,
   "id": "8ad172fd-a4dc-4de8-8391-55a728efae82",
   "metadata": {},
   "outputs": [],
   "source": [
    "labeled_ft['label'] = labeled_ft['Label'] == 1"
   ]
  },
  {
   "cell_type": "code",
   "execution_count": null,
   "id": "818aac91-7841-4f99-99a5-e012609e95af",
   "metadata": {},
   "outputs": [],
   "source": [
    "ax = sns.scatterplot(data=labeled_ft, x='HATE_softmax_a', y='HATE_softmax_b', hue='label')\n",
    "ax.set_title('Tweets Labeled as Non-Hate Speech by Model A\\nand Hate Speech by Model B')\n",
    "plt.savefig('plots/res/' + ax.title.get_text() + '.svg', format='svg', bbox_inches=\"tight\")\n",
    "plt.show()\n",
    "#plt.ylim(0, 1)\n",
    "#plt.xlim(0, 1)"
   ]
  },
  {
   "cell_type": "markdown",
   "id": "3a92179b-f1a2-44b8-8240-72122f2e6517",
   "metadata": {},
   "source": [
    "### FF"
   ]
  },
  {
   "cell_type": "code",
   "execution_count": null,
   "id": "51a83b5e-65a1-4f83-831a-7c03f419bee6",
   "metadata": {},
   "outputs": [],
   "source": [
    "labeled_ff = pd.read_csv('data/hate_speech/hate_speech_classification_samples/FF_labelled.csv')\n",
    "labeled_ff.head()"
   ]
  },
  {
   "cell_type": "code",
   "execution_count": null,
   "id": "7cb9ee84-5662-4e7f-b2dd-48d4756426a3",
   "metadata": {},
   "outputs": [],
   "source": [
    "labeled_ff['label'] = labeled_ff['Label'] == 1"
   ]
  },
  {
   "cell_type": "code",
   "execution_count": null,
   "id": "01a3aa5b-0f45-4635-aeeb-3a71667b4686",
   "metadata": {},
   "outputs": [],
   "source": [
    "ax = sns.scatterplot(data=labeled_ff, x='HATE_softmax_a', y='HATE_softmax_b', hue='label')\n",
    "ax.set_title('Tweets Labeled as Non-Hate Speech by Model A and Model B')\n",
    "plt.savefig('plots/res/' + ax.title.get_text() + '.svg', format='svg', bbox_inches=\"tight\")\n",
    "plt.show()\n",
    "#plt.ylim(0, 1)\n",
    "#plt.xlim(0, 1)"
   ]
  },
  {
   "cell_type": "markdown",
   "id": "1ee55203-c93c-40d8-a981-bd00c6f2706e",
   "metadata": {},
   "source": [
    "## Model Stats"
   ]
  },
  {
   "cell_type": "code",
   "execution_count": null,
   "id": "0767ebac-1644-4ab8-b5d8-b6d4538cfe20",
   "metadata": {},
   "outputs": [],
   "source": [
    "results = pd.concat([labeled_ff, labeled_ft, labeled_tf, labeled_tt], ignore_index=True)\n",
    "results.head()"
   ]
  },
  {
   "cell_type": "markdown",
   "id": "3c693c91-f52d-477a-a0bf-384a08f1c3c0",
   "metadata": {},
   "source": [
    "### Scatters"
   ]
  },
  {
   "cell_type": "code",
   "execution_count": null,
   "id": "96437334-59f9-45c8-97e3-bc9652479478",
   "metadata": {},
   "outputs": [],
   "source": [
    "results.label.value_counts()"
   ]
  },
  {
   "cell_type": "code",
   "execution_count": null,
   "id": "7ec3825a-c790-4eaa-867b-569d9f7521e9",
   "metadata": {},
   "outputs": [],
   "source": [
    "ax = sns.scatterplot(data=results, x='HATE_softmax_a', y='HATE_softmax_b', hue='label')\n",
    "ax.set_title('Tweets Scatter Using Softmax Scores Outputs\\nFrom Models A and B')\n",
    "plt.savefig('plots/res/' + ax.title.get_text() + '.svg', format='svg', bbox_inches=\"tight\")\n",
    "plt.show()"
   ]
  },
  {
   "cell_type": "code",
   "execution_count": null,
   "id": "2841b78f-ec75-44cc-bf44-62ce12a03c2c",
   "metadata": {},
   "outputs": [],
   "source": [
    "ax = sns.scatterplot(data=results, x='HATE_a', y='HATE_b', hue='label')\n",
    "#ax.set_title('Tweets Scatter Using Softmax Scores Outputs\\nFrom Models A and B')\n",
    "#plt.savefig('plots/res/' + ax.title.get_text() + '.svg', format='svg', bbox_inches=\"tight\")\n",
    "plt.show()"
   ]
  },
  {
   "cell_type": "markdown",
   "id": "8c82b453-b1fc-4942-827e-8bcc430b5ae0",
   "metadata": {},
   "source": [
    "### Stats"
   ]
  },
  {
   "cell_type": "code",
   "execution_count": null,
   "id": "314f0569-d61c-4da3-8f99-955a614666fa",
   "metadata": {},
   "outputs": [],
   "source": [
    "res_stats = pd.DataFrame()"
   ]
  },
  {
   "cell_type": "markdown",
   "id": "4480677e-6dff-4dc2-8f82-742a76ae40cb",
   "metadata": {},
   "source": [
    "#### Model A"
   ]
  },
  {
   "cell_type": "code",
   "execution_count": null,
   "id": "fc8a1a38-a571-4261-856c-9ed94f350fde",
   "metadata": {},
   "outputs": [],
   "source": [
    "model_a_results = results[['id', 'NON_HATE_softmax_a', 'hate_speech_a_label', 'label']]\n",
    "model_a_results"
   ]
  },
  {
   "cell_type": "code",
   "execution_count": null,
   "id": "8319a954-0450-49cc-9803-45e61685c3c7",
   "metadata": {},
   "outputs": [],
   "source": [
    "precision, recall, f1_score, support = precision_recall_fscore_support(model_a_results.label, model_a_results.hate_speech_a_label, average='weighted')\n",
    "\n",
    "res = {'model': 'A',\n",
    "       'precision': precision,\n",
    "       'recall': recall,\n",
    "       'f1_score': f1_score}\n",
    "\n",
    "res_stats = pd.concat([res_stats, pd.DataFrame([res])], ignore_index=True).drop_duplicates(subset=['model'], keep='last')\n",
    "res_stats"
   ]
  },
  {
   "cell_type": "code",
   "execution_count": null,
   "id": "6df67b16-f6a2-43b7-8278-3c68b5e69158",
   "metadata": {},
   "outputs": [],
   "source": [
    "cf_matrix = confusion_matrix(model_a_results.label, model_a_results.hate_speech_a_label)\n",
    "cf_matrix\n",
    "\n",
    "ax = sns.heatmap(cf_matrix, annot=True, cmap='Blues', fmt='g')\n",
    "\n",
    "ax.set_title('Model A Confusion Matrix')\n",
    "ax.set_xlabel('Model Prediction')\n",
    "ax.set_ylabel('Label')\n",
    "\n",
    "## Ticket labels - List must be in alphabetical order\n",
    "ax.xaxis.set_ticklabels(['False','True'])\n",
    "ax.yaxis.set_ticklabels(['False','True'])\n",
    "\n",
    "## Display the visualization of the Confusion Matrix.\n",
    "plt.savefig('plots/res/' + ax.title.get_text() + '.svg', format='svg', bbox_inches=\"tight\")\n",
    "plt.show()"
   ]
  },
  {
   "cell_type": "markdown",
   "id": "636d5f65-f439-4ea8-b580-f904ef9d6a8d",
   "metadata": {},
   "source": [
    "#### Model B"
   ]
  },
  {
   "cell_type": "code",
   "execution_count": null,
   "id": "200cd29e-c834-43be-81d0-7f26f21eea6c",
   "metadata": {},
   "outputs": [],
   "source": [
    "model_b_results = results[['id', 'NON_HATE_softmax_b', 'hate_speech_b_label', 'label']]\n",
    "model_b_results"
   ]
  },
  {
   "cell_type": "code",
   "execution_count": null,
   "id": "09055a46-e015-4803-ade3-31546171c266",
   "metadata": {},
   "outputs": [],
   "source": [
    "precision, recall, f1_score, support = precision_recall_fscore_support(model_b_results.label, model_b_results.hate_speech_b_label, average='weighted')\n",
    "\n",
    "res = {'model': 'B',\n",
    "       'precision': precision,\n",
    "       'recall': recall,\n",
    "       'f1_score': f1_score}\n",
    "\n",
    "res_stats = pd.concat([res_stats, pd.DataFrame([res])], ignore_index=True).drop_duplicates(subset=['model'], keep='last')\n",
    "res_stats"
   ]
  },
  {
   "cell_type": "code",
   "execution_count": null,
   "id": "d4444086-1bc2-406b-a6f5-4c4376ea3341",
   "metadata": {},
   "outputs": [],
   "source": [
    "cf_matrix = confusion_matrix(model_b_results.label, model_b_results.hate_speech_b_label)\n",
    "cf_matrix\n",
    "\n",
    "ax = sns.heatmap(cf_matrix, annot=True, cmap='Blues', fmt='g')\n",
    "\n",
    "ax.set_title('Model B Confusion Matrix')\n",
    "ax.set_xlabel('Model Prediction')\n",
    "ax.set_ylabel('Label')\n",
    "\n",
    "## Ticket labels - List must be in alphabetical order\n",
    "ax.xaxis.set_ticklabels(['False','True'])\n",
    "ax.yaxis.set_ticklabels(['False','True'])\n",
    "\n",
    "## Display the visualization of the Confusion Matrix.\n",
    "plt.savefig('plots/res/' + ax.title.get_text() + '.svg', format='svg', bbox_inches=\"tight\")\n",
    "plt.show()"
   ]
  },
  {
   "cell_type": "markdown",
   "id": "1fd3059f-d5ce-4ab8-a25e-055f4db147a8",
   "metadata": {},
   "source": [
    "#### Joint Model"
   ]
  },
  {
   "cell_type": "code",
   "execution_count": null,
   "id": "75bfff09-0e19-4bde-9a0e-46243cee772c",
   "metadata": {},
   "outputs": [],
   "source": [
    "model_j_results = results[['id', 'label']].copy()\n",
    "model_j_results['pred'] = results['hate_speech_a_label'] & results['hate_speech_b_label']\n",
    "model_j_results"
   ]
  },
  {
   "cell_type": "code",
   "execution_count": null,
   "id": "308bc56f-e7ee-42c7-a743-fff698049acd",
   "metadata": {},
   "outputs": [],
   "source": [
    "precision, recall, f1_score, support = precision_recall_fscore_support(model_j_results.label, model_j_results.pred, average='weighted')\n",
    "\n",
    "res = {'model': 'Intersection',\n",
    "       'precision': precision,\n",
    "       'recall': recall,\n",
    "       'f1_score': f1_score}\n",
    "\n",
    "res_stats = pd.concat([res_stats, pd.DataFrame([res])], ignore_index=True).drop_duplicates(subset=['model'], keep='last')\n",
    "res_stats"
   ]
  },
  {
   "cell_type": "code",
   "execution_count": null,
   "id": "8de1f50b-1153-4ef9-98a9-701db555060c",
   "metadata": {},
   "outputs": [],
   "source": [
    "cf_matrix = confusion_matrix(model_j_results.label, model_j_results.pred)\n",
    "cf_matrix\n",
    "\n",
    "ax = sns.heatmap(cf_matrix, annot=True, cmap='Blues', fmt='g')\n",
    "\n",
    "ax.set_title('Models Conjunction Confusion Matrix')\n",
    "ax.set_xlabel('Model Prediction')\n",
    "ax.set_ylabel('Label')\n",
    "\n",
    "## Ticket labels - List must be in alphabetical order\n",
    "ax.xaxis.set_ticklabels(['False','True'])\n",
    "ax.yaxis.set_ticklabels(['False','True'])\n",
    "\n",
    "## Display the visualization of the Confusion Matrix.\n",
    "plt.savefig('plots/res/' + ax.title.get_text() + '.svg', format='svg', bbox_inches=\"tight\")\n",
    "plt.show()"
   ]
  },
  {
   "cell_type": "markdown",
   "id": "2b037e6c-655d-4577-91fe-47a9cc0a4cac",
   "metadata": {},
   "source": [
    "#### Union Model"
   ]
  },
  {
   "cell_type": "code",
   "execution_count": null,
   "id": "6e3da523-6420-4111-bb81-68e9b4c4b0c4",
   "metadata": {},
   "outputs": [],
   "source": [
    "model_u_results = results[['id', 'label']].copy()\n",
    "model_u_results['pred'] = results['hate_speech_a_label'] | results['hate_speech_b_label']\n",
    "model_u_results"
   ]
  },
  {
   "cell_type": "code",
   "execution_count": null,
   "id": "0331ca90-6e7a-4859-aabf-c4d699d209aa",
   "metadata": {},
   "outputs": [],
   "source": [
    "precision, recall, f1_score, support = precision_recall_fscore_support(model_u_results.label, model_u_results.pred, average='weighted')\n",
    "\n",
    "res = {'model': 'Union',\n",
    "       'precision': precision,\n",
    "       'recall': recall,\n",
    "       'f1_score': f1_score}\n",
    "\n",
    "res_stats = pd.concat([res_stats, pd.DataFrame([res])], ignore_index=True).drop_duplicates(subset=['model'], keep='last')\n",
    "res_stats"
   ]
  },
  {
   "cell_type": "code",
   "execution_count": null,
   "id": "d3a99469-98ad-4715-9ec2-8cdc679484d5",
   "metadata": {},
   "outputs": [],
   "source": [
    "cf_matrix = confusion_matrix(model_u_results.label, model_u_results.pred)\n",
    "cf_matrix\n",
    "\n",
    "ax = sns.heatmap(cf_matrix, annot=True, cmap='Blues', fmt='g')\n",
    "\n",
    "ax.set_title('Models Disjunction Confusion Matrix')\n",
    "ax.set_xlabel('Model Prediction')\n",
    "ax.set_ylabel('Label')\n",
    "\n",
    "## Ticket labels - List must be in alphabetical order\n",
    "ax.xaxis.set_ticklabels(['False','True'])\n",
    "ax.yaxis.set_ticklabels(['False','True'])\n",
    "\n",
    "## Display the visualization of the Confusion Matrix.\n",
    "plt.savefig('plots/res/' + ax.title.get_text() + '.svg', format='svg', bbox_inches=\"tight\")\n",
    "plt.show()"
   ]
  },
  {
   "cell_type": "markdown",
   "id": "dd013219-80c1-4965-a4c7-0204dfc53313",
   "metadata": {},
   "source": [
    "#### Product Model"
   ]
  },
  {
   "cell_type": "code",
   "execution_count": null,
   "id": "44c08fff-06cd-4575-aac8-6712fb9c2aa5",
   "metadata": {},
   "outputs": [],
   "source": [
    "model_p_results = results[['id', 'label']].copy()\n",
    "model_p_results['pred'] = np.sqrt(results['NON_HATE_softmax_a'] * results['NON_HATE_softmax_b']) >= 0.5\n",
    "model_p_results"
   ]
  },
  {
   "cell_type": "code",
   "execution_count": null,
   "id": "fe382ce5-bbd0-46dd-a92f-8c0b605e0632",
   "metadata": {},
   "outputs": [],
   "source": [
    "precision, recall, f1_score, support = precision_recall_fscore_support(model_p_results.label, model_p_results.pred, average='weighted')\n",
    "\n",
    "res = {'model': 'Product',\n",
    "       'precision': precision,\n",
    "       'recall': recall,\n",
    "       'f1_score': f1_score}\n",
    "\n",
    "res_stats = pd.concat([res_stats, pd.DataFrame([res])], ignore_index=True).drop_duplicates(subset=['model'], keep='last')\n",
    "res_stats"
   ]
  },
  {
   "cell_type": "code",
   "execution_count": null,
   "id": "5351725f-837b-4293-9325-6239aa198a71",
   "metadata": {},
   "outputs": [],
   "source": [
    "cf_matrix = confusion_matrix(model_p_results.label, model_p_results.pred)\n",
    "cf_matrix\n",
    "\n",
    "ax = sns.heatmap(cf_matrix, annot=True, cmap='Blues', fmt='g')\n",
    "\n",
    "ax.set_title('Models Softmax Product Confusion Matrix')\n",
    "ax.set_xlabel('Model Prediction')\n",
    "ax.set_ylabel('Label')\n",
    "\n",
    "## Ticket labels - List must be in alphabetical order\n",
    "ax.xaxis.set_ticklabels(['False','True'])\n",
    "ax.yaxis.set_ticklabels(['False','True'])\n",
    "\n",
    "## Display the visualization of the Confusion Matrix.\n",
    "plt.savefig('plots/res/' + ax.title.get_text() + '.svg', format='svg', bbox_inches=\"tight\")\n",
    "plt.show()"
   ]
  },
  {
   "cell_type": "markdown",
   "id": "59eabe33-1307-40ae-b8ea-1bb15aa17e79",
   "metadata": {},
   "source": [
    "#### Random Forest Model"
   ]
  },
  {
   "cell_type": "code",
   "execution_count": null,
   "id": "d4e1a077-eb52-482c-b7f4-2aa9ac06a314",
   "metadata": {},
   "outputs": [],
   "source": [
    "from sklearn.ensemble import RandomForestClassifier\n",
    "from sklearn.model_selection import train_test_split\n",
    "from tqdm import tqdm"
   ]
  },
  {
   "cell_type": "code",
   "execution_count": null,
   "id": "acf4cb2b-35bf-4c52-a727-61f0f93f56a2",
   "metadata": {},
   "outputs": [],
   "source": [
    "X = results[['NON_HATE_a', 'HATE_a', 'NON_HATE_b', 'HATE_b']].values\n",
    "y = results['label'].values"
   ]
  },
  {
   "cell_type": "code",
   "execution_count": null,
   "id": "918471df-b86d-49c9-820a-4f116ce9c55d",
   "metadata": {},
   "outputs": [],
   "source": [
    "_test_precision, _test_recall, _test_f1_score = [], [], []\n",
    "_precision, _recall, _f1_score = [], [], []\n",
    "test_preds_cmatrix = []\n",
    "for i in tqdm(range(2000)):\n",
    "    X_train, X_test, y_train, y_test = train_test_split(X, y, test_size=0.25)\n",
    "    classifier = RandomForestClassifier(n_estimators=100, max_depth=5).fit(X_train, y_train)\n",
    "    test_pred = classifier.predict(X_test)\n",
    "    \n",
    "    test_precision, test_recall, test_f1_score, test_support = precision_recall_fscore_support(y_test, test_pred, average='weighted', zero_division=0)\n",
    "    \n",
    "    _test_precision.append(test_precision)\n",
    "    _test_recall.append(test_recall)\n",
    "    _test_f1_score.append(test_f1_score)\n",
    "    \n",
    "    cmatrix = confusion_matrix(y_test, test_pred)\n",
    "    test_preds_cmatrix.append(cmatrix)"
   ]
  },
  {
   "cell_type": "code",
   "execution_count": null,
   "id": "cfdd87c7-37dd-41f1-bb28-99367772c549",
   "metadata": {},
   "outputs": [],
   "source": [
    "sns.displot(_test_precision, kde=True, height=4, aspect=1.5, bins=20, stat='probability')\n",
    "title = plt.title('Random Forest Precision Distribution on Test Sets')\n",
    "plt.savefig('plots/res/' + title.get_text() + '.svg', format='svg', bbox_inches=\"tight\")\n",
    "plt.show()"
   ]
  },
  {
   "cell_type": "code",
   "execution_count": null,
   "id": "9f7f56c6-8d19-4075-8005-3f05b6adfe34",
   "metadata": {},
   "outputs": [],
   "source": [
    "sns.displot(_test_recall, kde=True, height=4, aspect=1.5, bins=20, stat='probability')\n",
    "title = plt.title('Random Forest Recall Distribution on Test Sets')\n",
    "plt.savefig('plots/res/' + title.get_text() + '.svg', format='svg', bbox_inches=\"tight\")\n",
    "plt.show()"
   ]
  },
  {
   "cell_type": "code",
   "execution_count": null,
   "id": "177239f7-4997-4788-9705-72804a491714",
   "metadata": {},
   "outputs": [],
   "source": [
    "sns.displot(_test_f1_score, kde=True, height=4, aspect=1.5, bins=20, stat='probability')\n",
    "title = plt.title('Random Forest F1-Score Distribution on Test Sets')\n",
    "plt.savefig('plots/res/' + title.get_text() + '.svg', format='svg', bbox_inches=\"tight\")\n",
    "plt.show()"
   ]
  },
  {
   "cell_type": "code",
   "execution_count": null,
   "id": "27fc43e4-c876-4362-b4af-d3475210031a",
   "metadata": {},
   "outputs": [],
   "source": [
    "res = {'model': 'Random Forest*',\n",
    "       'precision': np.mean(_test_precision),\n",
    "       'recall': np.mean(_test_recall),\n",
    "       'f1_score': np.mean(_test_f1_score)}\n",
    "\n",
    "res_stats = pd.concat([res_stats, pd.DataFrame([res])], ignore_index=True).drop_duplicates(subset=['model'], keep='last')\n",
    "res_stats"
   ]
  },
  {
   "cell_type": "raw",
   "id": "931fc962-644e-409d-b185-7a685d151cc6",
   "metadata": {},
   "source": [
    "cf_matrix = np.array(test_preds_cmatrix).mean(0)\n",
    "print(cf_matrix)\n",
    "cf_matrix = cf_matrix / cf_matrix.sum() * 100\n",
    "cf_matrix\n",
    "\n",
    "ax = sns.heatmap(cf_matrix, annot=True, cmap='Blues', fmt='.2f')\n",
    "for t in ax.texts: t.set_text(t.get_text() + \" %\")\n",
    "\n",
    "ax.set_title('Random Forest on Models Scores Confusion Matrix\\n(Normalized)')\n",
    "ax.set_xlabel('Model Prediction')\n",
    "ax.set_ylabel('Label')\n",
    "\n",
    "## Ticket labels - List must be in alphabetical order\n",
    "ax.xaxis.set_ticklabels(['False','True'])\n",
    "ax.yaxis.set_ticklabels(['False','True'])\n",
    "\n",
    "## Display the visualization of the Confusion Matrix.\n",
    "plt.savefig('plots/res/' + ax.title.get_text() + '.svg', format='svg', bbox_inches=\"tight\")\n",
    "plt.show()"
   ]
  },
  {
   "cell_type": "code",
   "execution_count": null,
   "id": "a322d0cf-aa60-4c1c-84c1-a7c083e2bd86",
   "metadata": {},
   "outputs": [],
   "source": [
    "res_stats.round(4)"
   ]
  },
  {
   "cell_type": "code",
   "execution_count": null,
   "id": "326dd893-de6f-439f-8a54-e6ee2f14cca9",
   "metadata": {},
   "outputs": [],
   "source": [
    "print(res_stats.round(3).to_latex(index=None))"
   ]
  },
  {
   "cell_type": "code",
   "execution_count": null,
   "id": "1925a29a-630a-4a61-8116-59e9e75af397",
   "metadata": {},
   "outputs": [],
   "source": []
  }
 ],
 "metadata": {
  "kernelspec": {
   "display_name": "Python 3 (ipykernel)",
   "language": "python",
   "name": "python3"
  },
  "language_info": {
   "codemirror_mode": {
    "name": "ipython",
    "version": 3
   },
   "file_extension": ".py",
   "mimetype": "text/x-python",
   "name": "python",
   "nbconvert_exporter": "python",
   "pygments_lexer": "ipython3",
   "version": "3.8.13"
  },
  "toc-autonumbering": true
 },
 "nbformat": 4,
 "nbformat_minor": 5
}
