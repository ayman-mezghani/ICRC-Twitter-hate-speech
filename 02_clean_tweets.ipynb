{
 "cells": [
  {
   "cell_type": "code",
   "execution_count": null,
   "id": "ed24f9be-b2b8-458c-a73c-0cbc076809b0",
   "metadata": {},
   "outputs": [],
   "source": [
    "import json\n",
    "import os\n",
    "import pandas as pd"
   ]
  },
  {
   "cell_type": "code",
   "execution_count": null,
   "id": "4ed21874-317e-408e-ab89-76477e5dad07",
   "metadata": {},
   "outputs": [],
   "source": [
    "dump_path = 'data/dump/'"
   ]
  },
  {
   "cell_type": "code",
   "execution_count": null,
   "id": "01de175a-3f6e-4846-8da7-4cb4155050ba",
   "metadata": {},
   "outputs": [],
   "source": [
    "dirs = [dump_path + f + '/' for f in os.listdir(dump_path) if f[0].isnumeric()]"
   ]
  },
  {
   "cell_type": "code",
   "execution_count": null,
   "id": "e55c3b1d-81da-49a5-ae5a-e7ecd11e79ef",
   "metadata": {},
   "outputs": [],
   "source": [
    "dirs = [d for d in dirs if os.listdir(d)]"
   ]
  },
  {
   "cell_type": "code",
   "execution_count": null,
   "id": "93c76d07-3c9a-4d6d-bafe-49e6e12697f4",
   "metadata": {},
   "outputs": [],
   "source": [
    "dirs"
   ]
  },
  {
   "cell_type": "code",
   "execution_count": null,
   "id": "924d88c2-167e-43b1-986e-f621f78d2391",
   "metadata": {},
   "outputs": [],
   "source": [
    "all_tweets = []"
   ]
  },
  {
   "cell_type": "code",
   "execution_count": null,
   "id": "d02f0ff3-e67f-43d1-859a-4a46b3b73176",
   "metadata": {},
   "outputs": [],
   "source": [
    "for d in dirs:\n",
    "    with open(d + 'clean.json', 'rb') as fin:\n",
    "        res = json.load(fin)\n",
    "        all_tweets += res"
   ]
  },
  {
   "cell_type": "code",
   "execution_count": null,
   "id": "8431f9af-4684-45cf-8021-eaecbf913391",
   "metadata": {},
   "outputs": [],
   "source": [
    "len(all_tweets)"
   ]
  },
  {
   "cell_type": "code",
   "execution_count": null,
   "id": "2cbe6784-1aa2-4a06-b936-67a7da1b3c6e",
   "metadata": {},
   "outputs": [],
   "source": [
    "id_tweet_dict = {}\n",
    "\n",
    "for tweet in all_tweets:\n",
    "    if tweet['id'] in id_tweet_dict.keys():\n",
    "        id_tweet_dict[tweet['id']].append(tweet)\n",
    "    else:\n",
    "        id_tweet_dict[tweet['id']] = [tweet]"
   ]
  },
  {
   "cell_type": "code",
   "execution_count": null,
   "id": "d7035a15-6442-4f05-a877-2e72f427f3c9",
   "metadata": {},
   "outputs": [],
   "source": [
    "len(id_tweet_dict)"
   ]
  },
  {
   "cell_type": "code",
   "execution_count": null,
   "id": "d523534d-5829-477a-b0d0-2775d43f49f7",
   "metadata": {},
   "outputs": [],
   "source": [
    "res = [v[0] for v in id_tweet_dict.values()]"
   ]
  },
  {
   "cell_type": "code",
   "execution_count": null,
   "id": "435b18ce-9658-45e4-84ee-aa4ea069eaf7",
   "metadata": {},
   "outputs": [],
   "source": [
    "with open('data/dump/_all_cleaned/tweets.json', 'w') as fout:\n",
    "    json.dump(res, fout)"
   ]
  },
  {
   "cell_type": "code",
   "execution_count": null,
   "id": "ee0f850a-9a11-4a4e-980c-dbe3e7eb80f5",
   "metadata": {},
   "outputs": [],
   "source": [
    "pd.DataFrame(res).to_parquet('data/dump/_all_cleaned/tweets.parquet')"
   ]
  },
  {
   "cell_type": "code",
   "execution_count": null,
   "id": "b4e689b3-9fef-4a44-9a2c-3217b8304d63",
   "metadata": {},
   "outputs": [],
   "source": []
  }
 ],
 "metadata": {
  "kernelspec": {
   "display_name": "Python 3 (ipykernel)",
   "language": "python",
   "name": "python3"
  },
  "language_info": {
   "codemirror_mode": {
    "name": "ipython",
    "version": 3
   },
   "file_extension": ".py",
   "mimetype": "text/x-python",
   "name": "python",
   "nbconvert_exporter": "python",
   "pygments_lexer": "ipython3",
   "version": "3.8.12"
  }
 },
 "nbformat": 4,
 "nbformat_minor": 5
}
