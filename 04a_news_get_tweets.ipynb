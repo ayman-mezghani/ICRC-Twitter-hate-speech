{
 "cells": [
  {
   "cell_type": "markdown",
   "id": "e244aa5f-3644-4fef-89db-801c166451fa",
   "metadata": {},
   "source": [
    "# Get News Tweets"
   ]
  },
  {
   "cell_type": "code",
   "execution_count": 1,
   "id": "dbcd8512-ac1f-49f4-aa08-d84eb1ce1049",
   "metadata": {},
   "outputs": [],
   "source": [
    "import pandas as pd\n",
    "import scraper\n",
    "import json\n",
    "\n",
    "from datetime import datetime"
   ]
  },
  {
   "cell_type": "code",
   "execution_count": 2,
   "id": "588b969d-566f-4186-94b9-197026dc54bd",
   "metadata": {},
   "outputs": [
    {
     "data": {
      "text/html": [
       "<div>\n",
       "<style scoped>\n",
       "    .dataframe tbody tr th:only-of-type {\n",
       "        vertical-align: middle;\n",
       "    }\n",
       "\n",
       "    .dataframe tbody tr th {\n",
       "        vertical-align: top;\n",
       "    }\n",
       "\n",
       "    .dataframe thead th {\n",
       "        text-align: right;\n",
       "    }\n",
       "</style>\n",
       "<table border=\"1\" class=\"dataframe\">\n",
       "  <thead>\n",
       "    <tr style=\"text-align: right;\">\n",
       "      <th></th>\n",
       "      <th>handle</th>\n",
       "      <th>id</th>\n",
       "      <th>website</th>\n",
       "    </tr>\n",
       "  </thead>\n",
       "  <tbody>\n",
       "    <tr>\n",
       "      <th>0</th>\n",
       "      <td>20min</td>\n",
       "      <td>15786941</td>\n",
       "      <td>20min.ch</td>\n",
       "    </tr>\n",
       "    <tr>\n",
       "      <th>1</th>\n",
       "      <td>20Minutes</td>\n",
       "      <td>2649991</td>\n",
       "      <td>20minutes.fr</td>\n",
       "    </tr>\n",
       "    <tr>\n",
       "      <th>2</th>\n",
       "      <td>20m</td>\n",
       "      <td>31090827</td>\n",
       "      <td>20minutos.es</td>\n",
       "    </tr>\n",
       "    <tr>\n",
       "      <th>3</th>\n",
       "      <td>7NewsSydney</td>\n",
       "      <td>156464691</td>\n",
       "      <td>7news.com.au/</td>\n",
       "    </tr>\n",
       "    <tr>\n",
       "      <th>4</th>\n",
       "      <td>9NewsAUS</td>\n",
       "      <td>22993014</td>\n",
       "      <td>9news.com.au/</td>\n",
       "    </tr>\n",
       "    <tr>\n",
       "      <th>...</th>\n",
       "      <td>...</td>\n",
       "      <td>...</td>\n",
       "      <td>...</td>\n",
       "    </tr>\n",
       "    <tr>\n",
       "      <th>973</th>\n",
       "      <td>MinuteHebdo</td>\n",
       "      <td>300844766</td>\n",
       "      <td>minute-hebdo.fr</td>\n",
       "    </tr>\n",
       "    <tr>\n",
       "      <th>974</th>\n",
       "      <td>canardenchaine</td>\n",
       "      <td>596420812</td>\n",
       "      <td>lecanardenchaine.fr</td>\n",
       "    </tr>\n",
       "    <tr>\n",
       "      <th>975</th>\n",
       "      <td>courrierinter</td>\n",
       "      <td>83864876</td>\n",
       "      <td>courrierinternational.com</td>\n",
       "    </tr>\n",
       "    <tr>\n",
       "      <th>976</th>\n",
       "      <td>humanite_fr</td>\n",
       "      <td>53029114</td>\n",
       "      <td>humanite.fr</td>\n",
       "    </tr>\n",
       "    <tr>\n",
       "      <th>977</th>\n",
       "      <td>leJDD</td>\n",
       "      <td>49678509</td>\n",
       "      <td>lejdd.fr</td>\n",
       "    </tr>\n",
       "  </tbody>\n",
       "</table>\n",
       "<p>978 rows × 3 columns</p>\n",
       "</div>"
      ],
      "text/plain": [
       "             handle         id                    website\n",
       "0             20min   15786941                   20min.ch\n",
       "1         20Minutes    2649991               20minutes.fr\n",
       "2               20m   31090827               20minutos.es\n",
       "3       7NewsSydney  156464691              7news.com.au/\n",
       "4          9NewsAUS   22993014              9news.com.au/\n",
       "..              ...        ...                        ...\n",
       "973     MinuteHebdo  300844766            minute-hebdo.fr\n",
       "974  canardenchaine  596420812        lecanardenchaine.fr\n",
       "975   courrierinter   83864876  courrierinternational.com\n",
       "976     humanite_fr   53029114                humanite.fr\n",
       "977           leJDD   49678509                   lejdd.fr\n",
       "\n",
       "[978 rows x 3 columns]"
      ]
     },
     "execution_count": 2,
     "metadata": {},
     "output_type": "execute_result"
    }
   ],
   "source": [
    "news_accounts = pd.read_csv('data/news/twitter_users_news.csv', header=None, names=['handle', 'id', 'website'])\n",
    "news_accounts"
   ]
  },
  {
   "cell_type": "code",
   "execution_count": 3,
   "id": "454dc94e-580e-4c1c-950a-d3f6cae34f9f",
   "metadata": {},
   "outputs": [
    {
     "data": {
      "text/plain": [
       "handle     object\n",
       "id          int64\n",
       "website    object\n",
       "dtype: object"
      ]
     },
     "execution_count": 3,
     "metadata": {},
     "output_type": "execute_result"
    }
   ],
   "source": [
    "news_accounts.dtypes"
   ]
  },
  {
   "cell_type": "code",
   "execution_count": 4,
   "id": "b10e938f-8121-418f-a183-1d24ed1dfe75",
   "metadata": {},
   "outputs": [],
   "source": [
    "start_date = datetime.strptime('2022-03-16', '%Y-%m-%d')"
   ]
  },
  {
   "cell_type": "code",
   "execution_count": 5,
   "id": "7d9287f2-4bc6-4040-86f2-d7309af11dd9",
   "metadata": {},
   "outputs": [],
   "source": [
    "end_date = datetime.strptime('2022-04-01', '%Y-%m-%d')"
   ]
  },
  {
   "cell_type": "code",
   "execution_count": 6,
   "id": "3dce600f-36df-4305-8a2d-269ec33ebc5b",
   "metadata": {},
   "outputs": [],
   "source": [
    "dump_path = f'data/news/news_tweets/{start_date.strftime(\"%Y-%m-%d\")}__{end_date.strftime(\"%Y-%m-%d\")}/'"
   ]
  },
  {
   "cell_type": "code",
   "execution_count": 7,
   "id": "f52a04c1-171a-410c-80b0-986a7a212eb2",
   "metadata": {},
   "outputs": [
    {
     "data": {
      "text/plain": [
       "'data/news/news_tweets/2022-03-16__2022-04-01/'"
      ]
     },
     "execution_count": 7,
     "metadata": {},
     "output_type": "execute_result"
    }
   ],
   "source": [
    "dump_path"
   ]
  },
  {
   "cell_type": "code",
   "execution_count": 9,
   "id": "d2f66693-f32e-4f2e-b765-76e2cf6641e1",
   "metadata": {},
   "outputs": [
    {
     "name": "stdout",
     "output_type": "stream",
     "text": [
      "978\n",
      "None\n",
      "None\n"
     ]
    },
    {
     "name": "stderr",
     "output_type": "stream",
     "text": [
      "100%|████████████████████████████████████████████████████████████████| 978/978 [1:18:41<00:00,  4.83s/it]\n"
     ]
    }
   ],
   "source": [
    "client = scraper.create_client(scraper.init())\n",
    "\n",
    "tweets, users = scraper.get_users_tweets(client=client,\n",
    "                                         user_ids=news_accounts['id'].tolist())"
   ]
  },
  {
   "cell_type": "code",
   "execution_count": 10,
   "id": "4c540038-788d-438c-b0e5-2f68f58683c0",
   "metadata": {},
   "outputs": [],
   "source": [
    "with open(dump_path + 'tweets.json', 'w') as fout:\n",
    "    json.dump(tweets, fout)\n",
    "\n",
    "with open(dump_path + 'users.json', 'w') as fout:\n",
    "    json.dump(users, fout)"
   ]
  },
  {
   "cell_type": "code",
   "execution_count": null,
   "id": "787f8336-81e0-4a51-b015-d4247545e22b",
   "metadata": {},
   "outputs": [],
   "source": []
  }
 ],
 "metadata": {
  "kernelspec": {
   "display_name": "Python 3 (ipykernel)",
   "language": "python",
   "name": "python3"
  },
  "language_info": {
   "codemirror_mode": {
    "name": "ipython",
    "version": 3
   },
   "file_extension": ".py",
   "mimetype": "text/x-python",
   "name": "python",
   "nbconvert_exporter": "python",
   "pygments_lexer": "ipython3",
   "version": "3.8.12"
  }
 },
 "nbformat": 4,
 "nbformat_minor": 5
}
