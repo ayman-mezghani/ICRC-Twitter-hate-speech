{
 "cells": [
  {
   "cell_type": "markdown",
   "id": "e244aa5f-3644-4fef-89db-801c166451fa",
   "metadata": {},
   "source": [
    "# Get News Tweets"
   ]
  },
  {
   "cell_type": "code",
   "execution_count": null,
   "id": "dbcd8512-ac1f-49f4-aa08-d84eb1ce1049",
   "metadata": {},
   "outputs": [],
   "source": [
    "import pandas as pd\n",
    "import scraper\n",
    "import json\n",
    "\n",
    "from datetime import datetime"
   ]
  },
  {
   "cell_type": "code",
   "execution_count": null,
   "id": "588b969d-566f-4186-94b9-197026dc54bd",
   "metadata": {},
   "outputs": [],
   "source": [
    "news_accounts = pd.read_csv('data/news/twitter_users_news.csv', header=None, names=['handle', 'id', 'website'])\n",
    "news_accounts"
   ]
  },
  {
   "cell_type": "code",
   "execution_count": null,
   "id": "454dc94e-580e-4c1c-950a-d3f6cae34f9f",
   "metadata": {},
   "outputs": [],
   "source": [
    "news_accounts.dtypes"
   ]
  },
  {
   "cell_type": "code",
   "execution_count": null,
   "id": "b10e938f-8121-418f-a183-1d24ed1dfe75",
   "metadata": {},
   "outputs": [],
   "source": [
    "start_date = datetime.strptime('2022-03-16', '%Y-%m-%d')"
   ]
  },
  {
   "cell_type": "code",
   "execution_count": null,
   "id": "7d9287f2-4bc6-4040-86f2-d7309af11dd9",
   "metadata": {},
   "outputs": [],
   "source": [
    "end_date = datetime.strptime('2022-04-01', '%Y-%m-%d')"
   ]
  },
  {
   "cell_type": "code",
   "execution_count": null,
   "id": "3dce600f-36df-4305-8a2d-269ec33ebc5b",
   "metadata": {},
   "outputs": [],
   "source": [
    "dump_path = f'data/news/news_tweets/{start_date.strftime(\"%Y-%m-%d\")}__{end_date.strftime(\"%Y-%m-%d\")}/'"
   ]
  },
  {
   "cell_type": "code",
   "execution_count": null,
   "id": "f52a04c1-171a-410c-80b0-986a7a212eb2",
   "metadata": {},
   "outputs": [],
   "source": [
    "dump_path"
   ]
  },
  {
   "cell_type": "code",
   "execution_count": null,
   "id": "d2f66693-f32e-4f2e-b765-76e2cf6641e1",
   "metadata": {},
   "outputs": [],
   "source": [
    "client = scraper.create_client(scraper.init())\n",
    "\n",
    "tweets, users = scraper.get_users_tweets(client=client,\n",
    "                                         user_ids=news_accounts['id'].tolist())"
   ]
  },
  {
   "cell_type": "code",
   "execution_count": null,
   "id": "4c540038-788d-438c-b0e5-2f68f58683c0",
   "metadata": {},
   "outputs": [],
   "source": [
    "with open(dump_path + 'tweets.json', 'w') as fout:\n",
    "    json.dump(tweets, fout)\n",
    "\n",
    "with open(dump_path + 'users.json', 'w') as fout:\n",
    "    json.dump(users, fout)"
   ]
  },
  {
   "cell_type": "code",
   "execution_count": null,
   "id": "787f8336-81e0-4a51-b015-d4247545e22b",
   "metadata": {},
   "outputs": [],
   "source": []
  }
 ],
 "metadata": {
  "kernelspec": {
   "display_name": "Python 3 (ipykernel)",
   "language": "python",
   "name": "python3"
  },
  "language_info": {
   "codemirror_mode": {
    "name": "ipython",
    "version": 3
   },
   "file_extension": ".py",
   "mimetype": "text/x-python",
   "name": "python",
   "nbconvert_exporter": "python",
   "pygments_lexer": "ipython3",
   "version": "3.8.12"
  }
 },
 "nbformat": 4,
 "nbformat_minor": 5
}
