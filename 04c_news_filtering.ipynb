{
 "cells": [
  {
   "cell_type": "markdown",
   "id": "00f12848-9b2a-458a-af43-149dc6c64332",
   "metadata": {},
   "source": [
    "# News Filtering"
   ]
  },
  {
   "cell_type": "code",
   "execution_count": null,
   "id": "2e9a9561-3906-497e-a8f0-f30fdb221022",
   "metadata": {},
   "outputs": [],
   "source": [
    "import pandas as pd\n",
    "from pandarallel import pandarallel\n",
    "pandarallel.initialize(progress_bar=False)\n",
    "\n",
    "import os\n",
    "\n",
    "import emoji\n",
    "import string\n",
    "\n",
    "import fasttext\n",
    "\n",
    "import nltk\n",
    "nltk.download('stopwords')\n",
    "nltk.download('punkt')\n",
    "nltk.download('omw-1.4')\n",
    "nltk.download('averaged_perceptron_tagger')\n",
    "nltk.download('wordnet')\n",
    "from nltk import pos_tag\n",
    "from nltk.corpus import stopwords, wordnet\n",
    "from nltk.tokenize import word_tokenize\n",
    "from nltk.stem import WordNetLemmatizer\n",
    "\n",
    "import seaborn as sns\n",
    "import matplotlib.pyplot as plt"
   ]
  },
  {
   "cell_type": "code",
   "execution_count": null,
   "id": "0238042b-28ae-4c01-9a89-7bf01a221b2e",
   "metadata": {},
   "outputs": [],
   "source": [
    "!python -m spacy download en_core_web_sm"
   ]
  },
  {
   "cell_type": "code",
   "execution_count": null,
   "id": "a56accbe-ea5d-43b7-a6e1-9966ea6309db",
   "metadata": {},
   "outputs": [],
   "source": [
    "import spacy\n",
    "sp = spacy.load('en_core_web_sm')"
   ]
  },
  {
   "cell_type": "markdown",
   "id": "66f2f22c-769d-49ea-b5be-50d39604d5d0",
   "metadata": {
    "tags": []
   },
   "source": [
    "## Reading Data"
   ]
  },
  {
   "cell_type": "markdown",
   "id": "2e4efdc8-4935-4e39-b468-90a35599cc0d",
   "metadata": {},
   "source": [
    "### Tweets"
   ]
  },
  {
   "cell_type": "code",
   "execution_count": null,
   "id": "e6b0aa27-022a-42af-8a84-8aa3e6a1f34f",
   "metadata": {},
   "outputs": [],
   "source": [
    "data = pd.read_parquet('data/tweets/_all_cleaned/tweets.parquet')\n",
    "data.head()"
   ]
  },
  {
   "cell_type": "code",
   "execution_count": null,
   "id": "a40a9e55-fa69-47ea-a1c3-8f2e6324f1d2",
   "metadata": {},
   "outputs": [],
   "source": [
    "data.head(20)"
   ]
  },
  {
   "cell_type": "markdown",
   "id": "d7ea0ac0-fd4c-43eb-80a5-3258c8334f60",
   "metadata": {},
   "source": [
    "### Profane Vocabulary"
   ]
  },
  {
   "cell_type": "code",
   "execution_count": null,
   "id": "346e81a9-368c-41ea-9bfc-19616f1fe84c",
   "metadata": {},
   "outputs": [],
   "source": [
    "path = 'data/bad_words/'\n",
    "files = [path + f for f in sorted(os.listdir(path)) if 'csv' in f]\n",
    "files"
   ]
  },
  {
   "cell_type": "code",
   "execution_count": null,
   "id": "63e5f14c-23c4-4a83-9bf6-6683c856fb56",
   "metadata": {},
   "outputs": [],
   "source": [
    "bad_words = []\n",
    "for f in files:\n",
    "    d = pd.read_csv(f, header=None, names=['words'])\n",
    "    d['lang'] = f.split('/')[-1].split('_')[0]\n",
    "    bad_words.append(d)"
   ]
  },
  {
   "cell_type": "code",
   "execution_count": null,
   "id": "b46e4d00-d0ea-4414-976f-bc903f5412d0",
   "metadata": {},
   "outputs": [],
   "source": [
    "bad_words = pd.concat(bad_words, ignore_index=True).drop_duplicates()"
   ]
  },
  {
   "cell_type": "code",
   "execution_count": null,
   "id": "318ffba4-7ffa-42c8-9fe5-560540c58636",
   "metadata": {},
   "outputs": [],
   "source": [
    "bad_words"
   ]
  },
  {
   "cell_type": "markdown",
   "id": "88c12f2d-483e-4485-82b7-048b6252adee",
   "metadata": {},
   "source": [
    "## Pre-Processing "
   ]
  },
  {
   "cell_type": "markdown",
   "id": "414a9f6b-6397-4a55-9aa6-3dbc8698ed6e",
   "metadata": {},
   "source": [
    "### Language Identification"
   ]
  },
  {
   "cell_type": "code",
   "execution_count": null,
   "id": "a1028c0d-2bbd-4908-9ab6-593a6c249ac9",
   "metadata": {},
   "outputs": [],
   "source": [
    "model = fasttext.load_model('data/lid.176.bin')"
   ]
  },
  {
   "cell_type": "markdown",
   "id": "a072e3df-2cd5-4920-8837-c73bb0165548",
   "metadata": {},
   "source": [
    "Remove redundant spaces, links and emojis"
   ]
  },
  {
   "cell_type": "code",
   "execution_count": null,
   "id": "8ef1723c-267c-40cc-9d10-9fe3b174da89",
   "metadata": {},
   "outputs": [],
   "source": [
    "data_clean_text = data.text.str.replace(r'\\s+', ' ', regex=True).str.replace(r'http\\S+', '', regex=True).str.strip().parallel_apply(lambda s: emoji.replace_emoji(s, replace=''))\n",
    "data_clean_text"
   ]
  },
  {
   "cell_type": "code",
   "execution_count": null,
   "id": "4fdecf09-109e-4612-914e-ccc253da74e7",
   "metadata": {},
   "outputs": [],
   "source": [
    "langs = model.predict(data_clean_text.tolist(), k=2)"
   ]
  },
  {
   "cell_type": "code",
   "execution_count": null,
   "id": "829a8a1b-988d-4d50-9a86-8d63ed3a8db0",
   "metadata": {},
   "outputs": [],
   "source": [
    "df = pd.DataFrame(list(zip(*langs)), columns=['pred_lang', 'pred_conf'])\n",
    "df"
   ]
  },
  {
   "cell_type": "code",
   "execution_count": null,
   "id": "38e4aa94-458a-40f9-b818-6df9e318b123",
   "metadata": {},
   "outputs": [],
   "source": [
    "df[['pred_lang', 'pred_lang_2']] = pd.DataFrame(df.pred_lang.values.tolist(), index=df.index)\n",
    "df['pred_lang'] = df.pred_lang.str.replace('__label__', '')\n",
    "df['pred_lang_2'] = df.pred_lang_2.str.replace('__label__', '')\n",
    "df[['pred_conf', 'pred_conf_2']] = pd.DataFrame(df.pred_conf.values.tolist(), index=df.index)\n",
    "df"
   ]
  },
  {
   "cell_type": "code",
   "execution_count": null,
   "id": "40a1ef67-70d2-4426-be2b-cd8b2ddeb3ee",
   "metadata": {},
   "outputs": [],
   "source": [
    "df.pred_conf.hist()"
   ]
  },
  {
   "cell_type": "code",
   "execution_count": null,
   "id": "9cf7d20c-b612-4ae1-872f-99b2e2b88c19",
   "metadata": {},
   "outputs": [],
   "source": [
    "sns.displot(df.pred_conf, kde=True, height=4, aspect=1.5, bins=20, stat='probability')\n",
    "title = plt.title('Language Identification Confidence')\n",
    "plt.savefig('plots/lang_id/' + title.get_text() + '.svg', format='svg', bbox_inches=\"tight\")\n",
    "plt.show()"
   ]
  },
  {
   "cell_type": "code",
   "execution_count": null,
   "id": "3bcc28b9-a230-4864-8ec0-03093dbdaaef",
   "metadata": {},
   "outputs": [],
   "source": [
    "data = data.join(df)\n",
    "data"
   ]
  },
  {
   "cell_type": "code",
   "execution_count": null,
   "id": "bff9ae37-d94d-4101-a6b4-b969bed71561",
   "metadata": {},
   "outputs": [],
   "source": [
    "(data.lang == data.pred_lang).value_counts(normalize=False)"
   ]
  },
  {
   "cell_type": "code",
   "execution_count": null,
   "id": "fddba3e1-4617-4c81-9f3f-0ec5ab450f39",
   "metadata": {},
   "outputs": [],
   "source": [
    "(data.lang == data.pred_lang).value_counts(normalize=True)"
   ]
  },
  {
   "cell_type": "code",
   "execution_count": null,
   "id": "514108d8-0293-4475-a27e-4b499d8678e5",
   "metadata": {},
   "outputs": [],
   "source": [
    "data[data.pred_conf < 0.5]"
   ]
  },
  {
   "cell_type": "code",
   "execution_count": null,
   "id": "9982df8d-ebaf-4989-b9fe-2573a8f78372",
   "metadata": {},
   "outputs": [],
   "source": [
    "data = data[(data.pred_conf >= 0.5) & (data_clean_text.apply(len) > 0)]\n",
    "len(data)"
   ]
  },
  {
   "cell_type": "markdown",
   "id": "ebd5c399-311b-4366-a306-6d5c0fa29b91",
   "metadata": {},
   "source": [
    "### English Tweets"
   ]
  },
  {
   "cell_type": "code",
   "execution_count": null,
   "id": "e60f2fdb-ae47-4d7a-a291-44a5a304f84d",
   "metadata": {},
   "outputs": [],
   "source": [
    "en_bad_words = bad_words[bad_words.lang == 'en'].words.tolist()\n",
    "len(en_bad_words)"
   ]
  },
  {
   "cell_type": "code",
   "execution_count": null,
   "id": "30382d23-938d-446c-aa56-d136baa75bff",
   "metadata": {},
   "outputs": [],
   "source": [
    "data_en = data[data.pred_lang == 'en'].copy()\n",
    "data_en.shape"
   ]
  },
  {
   "cell_type": "code",
   "execution_count": null,
   "id": "fc0169b0-9243-4e04-91b1-a7132bf1b8d9",
   "metadata": {},
   "outputs": [],
   "source": [
    "data_en[data_en.lang != 'en'][['lang', 'text']].head(30)"
   ]
  },
  {
   "cell_type": "code",
   "execution_count": null,
   "id": "cb595b72-725f-4a1c-9488-8f0985953d9c",
   "metadata": {},
   "outputs": [],
   "source": [
    "print(data_en.loc[681].text)"
   ]
  },
  {
   "cell_type": "code",
   "execution_count": null,
   "id": "761d15fc-303f-450d-9178-77497fc7c2ff",
   "metadata": {},
   "outputs": [],
   "source": [
    "print(data_en.loc[3183].text)"
   ]
  },
  {
   "cell_type": "code",
   "execution_count": null,
   "id": "f8ab61eb-2e07-4389-98f7-2ac2b7d5f1c8",
   "metadata": {},
   "outputs": [],
   "source": [
    "print(data_en.loc[3004].text)"
   ]
  },
  {
   "cell_type": "code",
   "execution_count": null,
   "id": "268a7298-b76d-4049-8712-9e3c9bd65711",
   "metadata": {},
   "outputs": [],
   "source": [
    "data_en.to_parquet('data/tweets/en/english_tweets.parquet')"
   ]
  },
  {
   "cell_type": "markdown",
   "id": "fccdaeef-4bd9-43d2-bcbc-bdd43d3f6538",
   "metadata": {
    "tags": []
   },
   "source": [
    "## News Identification Using Users"
   ]
  },
  {
   "cell_type": "code",
   "execution_count": null,
   "id": "839b4588-fd06-48ce-a512-ccdd23de4042",
   "metadata": {},
   "outputs": [],
   "source": [
    "news_users = pd.read_csv('data/news/twitter_users_news.csv', names=['handle', 'id', 'website'])"
   ]
  },
  {
   "cell_type": "code",
   "execution_count": null,
   "id": "b218ac50-5395-4429-9eaf-ce5264e67e9a",
   "metadata": {},
   "outputs": [],
   "source": [
    "data_en['news_user'] = data_en.author_id.astype(int).isin(news_users['id'])"
   ]
  },
  {
   "cell_type": "markdown",
   "id": "ff42a292-8ea1-42fc-8ea9-20abcedc56b7",
   "metadata": {
    "tags": []
   },
   "source": [
    "## News Identifiction Using Text Attributes"
   ]
  },
  {
   "cell_type": "markdown",
   "id": "a7f6f37f-4f39-4c01-a579-d6127461fc59",
   "metadata": {},
   "source": [
    "### Text Cleaning"
   ]
  },
  {
   "cell_type": "markdown",
   "id": "614c9905-fc49-4b15-aed1-4d1398463e70",
   "metadata": {},
   "source": [
    "### Remove redundant spaces, links and emojis"
   ]
  },
  {
   "cell_type": "code",
   "execution_count": null,
   "id": "4fb30efe-fdf4-46e9-bab0-c7b926081545",
   "metadata": {},
   "outputs": [],
   "source": [
    "data_en_texts = data_en.text"
   ]
  },
  {
   "cell_type": "code",
   "execution_count": null,
   "id": "75280b8d-45e4-403e-a019-04ebc92d688b",
   "metadata": {},
   "outputs": [],
   "source": [
    "data_en_texts = data_en_texts.str.replace(r'\\s+', ' ', regex=True)\\\n",
    "                             .str.replace(r'http\\S+', '', regex=True)\\\n",
    "                             .str.strip()\\\n",
    "                             .parallel_apply(lambda s: emoji.replace_emoji(s, replace=''))\n",
    "data_en_texts"
   ]
  },
  {
   "cell_type": "markdown",
   "id": "62ac1472-c864-43b8-8627-a8c7dcf8e5d5",
   "metadata": {},
   "source": [
    "### Tokenize"
   ]
  },
  {
   "cell_type": "code",
   "execution_count": null,
   "id": "b3709688-30ec-48db-a7e6-81a214a5e2ae",
   "metadata": {},
   "outputs": [],
   "source": [
    "from time import time"
   ]
  },
  {
   "cell_type": "code",
   "execution_count": null,
   "id": "26b93543-abaf-44be-8476-2da17638fe4d",
   "metadata": {},
   "outputs": [],
   "source": [
    "%%time\n",
    "data_en_tokens = data_en_texts.parallel_apply(word_tokenize)\n",
    "data_en_tokens"
   ]
  },
  {
   "cell_type": "markdown",
   "id": "4f4fcc07-b657-48e8-8d6f-2f1bf45107b4",
   "metadata": {},
   "source": [
    "### Tag Tokens"
   ]
  },
  {
   "cell_type": "code",
   "execution_count": null,
   "id": "d6b7d03b-bef9-44d9-934f-8f0cebb65980",
   "metadata": {},
   "outputs": [],
   "source": [
    "%%time\n",
    "data_en_tokens_tags = data_en_tokens.parallel_apply(pos_tag)\n",
    "data_en_tokens_tags"
   ]
  },
  {
   "cell_type": "markdown",
   "id": "cb346067-7848-4132-a01e-fcff8e6e08ea",
   "metadata": {},
   "source": [
    "### Separate Text from Mentions and Hashtags"
   ]
  },
  {
   "cell_type": "code",
   "execution_count": null,
   "id": "7601bf87-858a-45aa-b30f-ec71e3f122f0",
   "metadata": {},
   "outputs": [],
   "source": [
    "def separate(ls):\n",
    "    res = {'text': [],\n",
    "           'hashtags': [],\n",
    "           'mentions': []}\n",
    "    \n",
    "    hashtag = False\n",
    "    mention = False\n",
    "    \n",
    "    for s, t in ls:\n",
    "        if hashtag:\n",
    "            hashtag = False\n",
    "            res['hashtags'].append('#' + s)\n",
    "        elif mention:\n",
    "            mention = False\n",
    "            res['mentions'].append('@' + s)\n",
    "        else:\n",
    "            if s == '#':\n",
    "                hashtag = True\n",
    "            elif s == '@':\n",
    "                mention = True\n",
    "            else:    \n",
    "                res['text'].append((s, t))\n",
    "            \n",
    "    return res"
   ]
  },
  {
   "cell_type": "code",
   "execution_count": null,
   "id": "b55d48af-35de-4377-97ec-dbf57f72cf48",
   "metadata": {},
   "outputs": [],
   "source": [
    "english_tokens_list = data_en_tokens_tags.parallel_apply(separate)\n",
    "df_english_tokens = pd.DataFrame(english_tokens_list.tolist(), index=data_en_tokens_tags.index)\n",
    "df_english_tokens"
   ]
  },
  {
   "cell_type": "markdown",
   "id": "01a4e658-b7c7-4674-a01b-a5d9cc9faa8a",
   "metadata": {},
   "source": [
    "### Translate Tags"
   ]
  },
  {
   "cell_type": "code",
   "execution_count": null,
   "id": "8dd05af6-47ba-45f0-ab03-5187db5720ae",
   "metadata": {},
   "outputs": [],
   "source": [
    "df_english_token_texts = df_english_tokens.text.explode().dropna()\n",
    "df_english_token_texts"
   ]
  },
  {
   "cell_type": "code",
   "execution_count": null,
   "id": "febebf95-5c68-4603-8af6-7d13aee1e5ef",
   "metadata": {},
   "outputs": [],
   "source": [
    "# https://www.geeksforgeeks.org/python-lemmatization-approaches-with-examples/\n",
    "def pos_tagger(nltk_tag):\n",
    "    if nltk_tag.startswith('J'):\n",
    "        return wordnet.ADJ\n",
    "    elif nltk_tag.startswith('V'):\n",
    "        return wordnet.VERB\n",
    "    elif nltk_tag.startswith('N'):\n",
    "        return wordnet.NOUN\n",
    "    elif nltk_tag.startswith('R'):\n",
    "        return wordnet.ADV\n",
    "    else:         \n",
    "        return None"
   ]
  },
  {
   "cell_type": "code",
   "execution_count": null,
   "id": "b0b2aeb4-d693-4a14-bdbb-96426b2b095f",
   "metadata": {},
   "outputs": [],
   "source": [
    "df_english_token_texts = df_english_token_texts.parallel_apply(lambda x: (x[0].lower(), pos_tagger(x[1])))\n",
    "df_english_token_texts"
   ]
  },
  {
   "cell_type": "code",
   "execution_count": null,
   "id": "7e6d2974-7ee2-4182-b512-0ab27e7c6769",
   "metadata": {},
   "outputs": [],
   "source": [
    "df_english_tagged_tokens = pd.DataFrame(df_english_token_texts.tolist(), index=df_english_token_texts.index, columns=['token', 'tag'])\n",
    "df_english_tagged_tokens"
   ]
  },
  {
   "cell_type": "markdown",
   "id": "532bd7f8-2b88-429e-a214-36af594e8906",
   "metadata": {},
   "source": [
    "### Clean Text"
   ]
  },
  {
   "cell_type": "markdown",
   "id": "f194c2a1-6cf4-4fea-94e5-13ed8ec01bfc",
   "metadata": {},
   "source": [
    "#### Remove Punctuations"
   ]
  },
  {
   "cell_type": "code",
   "execution_count": null,
   "id": "8965c137-2a33-4fae-92f9-9a793c5ffa33",
   "metadata": {},
   "outputs": [],
   "source": [
    "all_punct_regex ='^([^\\w\\s]+|_)$'"
   ]
  },
  {
   "cell_type": "code",
   "execution_count": null,
   "id": "bb87e134-3652-45b4-9540-9ce77f12cb4f",
   "metadata": {},
   "outputs": [],
   "source": [
    "df_english_tagged_tokens = df_english_tagged_tokens[(~df_english_tagged_tokens.token.isin(list(string.punctuation))) & (~df_english_tagged_tokens.token.str.match(all_punct_regex))]\n",
    "df_english_tagged_tokens"
   ]
  },
  {
   "cell_type": "markdown",
   "id": "f1155729-fd24-4309-8799-894ddedebb5f",
   "metadata": {},
   "source": [
    "#### Remove All Numbers"
   ]
  },
  {
   "cell_type": "code",
   "execution_count": null,
   "id": "52d8df7d-4107-4687-8090-4f76e7a5f431",
   "metadata": {},
   "outputs": [],
   "source": [
    "df_english_tagged_tokens = df_english_tagged_tokens[(~df_english_tagged_tokens.token.str.isnumeric())]\n",
    "df_english_tagged_tokens"
   ]
  },
  {
   "cell_type": "markdown",
   "id": "441e1ff4-963d-4d0a-b851-701405a4fbcc",
   "metadata": {},
   "source": [
    "#### Remove Stopwords"
   ]
  },
  {
   "cell_type": "code",
   "execution_count": null,
   "id": "d00810fa-4de1-49e9-9d7e-555b6018c7c1",
   "metadata": {},
   "outputs": [],
   "source": [
    "df_english_tagged_tokens = df_english_tagged_tokens[(~df_english_tagged_tokens.token.str.lower().isin(stopwords.words())) & (~df_english_tagged_tokens.token.str.lower().isin(sp.Defaults.stop_words))]\n",
    "df_english_tagged_tokens"
   ]
  },
  {
   "cell_type": "markdown",
   "id": "9f45a542-41b2-41d2-956c-61d0f19c1abc",
   "metadata": {},
   "source": [
    "### Lemmatize"
   ]
  },
  {
   "cell_type": "code",
   "execution_count": null,
   "id": "b780ace9-2844-4ad3-a251-de463c698dff",
   "metadata": {},
   "outputs": [],
   "source": [
    "lemmatizer = WordNetLemmatizer()\n",
    "def lemmatize(word, tag):\n",
    "    if tag is None:\n",
    "        # if there is no available tag, append the token as is\n",
    "        return word\n",
    "    else:       \n",
    "        # else use the tag to lemmatize the token\n",
    "        return lemmatizer.lemmatize(word, tag)"
   ]
  },
  {
   "cell_type": "code",
   "execution_count": null,
   "id": "dde7d2b4-ef78-4b75-b032-9a3c0e99f0c8",
   "metadata": {},
   "outputs": [],
   "source": [
    "df_english_tagged_tokens = df_english_tagged_tokens.copy()\n",
    "df_english_tagged_tokens['token'] = df_english_tagged_tokens.parallel_apply(lambda row: lemmatize(row['token'], row['tag']), axis=1)\n",
    "df_english_tagged_tokens"
   ]
  },
  {
   "cell_type": "markdown",
   "id": "91b12380-97f2-4e76-8f83-c18b7774b47f",
   "metadata": {},
   "source": [
    "### News Words Identification"
   ]
  },
  {
   "cell_type": "code",
   "execution_count": null,
   "id": "91a76970-df55-4fe3-9880-13dfd5e5bcde",
   "metadata": {},
   "outputs": [],
   "source": [
    "news_words = pd.read_csv('data/news/news_words.csv').rename(columns={'index': 'words'})['words'].values\n",
    "news_words"
   ]
  },
  {
   "cell_type": "code",
   "execution_count": null,
   "id": "8852ad06-1bd5-4d7c-9aa0-b75c8f593b79",
   "metadata": {},
   "outputs": [],
   "source": [
    "news_series = df_english_tagged_tokens.token.isin(news_words).fillna(False).groupby(level=0).agg(any).rename('news_words')\n",
    "news_series"
   ]
  },
  {
   "cell_type": "code",
   "execution_count": null,
   "id": "8b6e0756-2cab-4ab4-9d2f-3151d7a20e7c",
   "metadata": {},
   "outputs": [],
   "source": [
    "data_en = data_en.join(news_series)"
   ]
  },
  {
   "cell_type": "markdown",
   "id": "503567c5-cacd-4a0c-a4c2-6b30d62392f1",
   "metadata": {
    "tags": []
   },
   "source": [
    "## Candidate News Tweets"
   ]
  },
  {
   "cell_type": "code",
   "execution_count": null,
   "id": "be9e297c-8acc-4304-a253-6886ffe4f3f2",
   "metadata": {},
   "outputs": [],
   "source": [
    "data_en.head()"
   ]
  },
  {
   "cell_type": "code",
   "execution_count": null,
   "id": "7f24fd29-1a58-4c30-9959-0d6b1166cd77",
   "metadata": {},
   "outputs": [],
   "source": [
    "len(data_en[data_en.news_user])"
   ]
  },
  {
   "cell_type": "code",
   "execution_count": null,
   "id": "ba1c0688-79cc-4d94-934b-3f308634b16b",
   "metadata": {},
   "outputs": [],
   "source": [
    "len(data_en[data_en.news_words.fillna(False)])"
   ]
  },
  {
   "cell_type": "code",
   "execution_count": null,
   "id": "4d76f9bf-3b12-496b-86a2-0f14b79ac96e",
   "metadata": {},
   "outputs": [],
   "source": [
    "candidate_news = data_en[(data_en.news_words.fillna(False)) | (data_en.news_user)].copy()\n",
    "len(candidate_news)"
   ]
  },
  {
   "cell_type": "markdown",
   "id": "630ab3a7-17e4-4f75-8b86-d16eb6a9702f",
   "metadata": {
    "tags": []
   },
   "source": [
    "## Structure Filtering"
   ]
  },
  {
   "cell_type": "code",
   "execution_count": null,
   "id": "1bfa95dd-3daf-422e-95ab-ae0dd8a4e80b",
   "metadata": {},
   "outputs": [],
   "source": [
    "candidate_news.head()"
   ]
  },
  {
   "cell_type": "code",
   "execution_count": null,
   "id": "15ddbe09-5bee-4afc-9a9b-a78ae70e53dc",
   "metadata": {},
   "outputs": [],
   "source": [
    "candidate_news['text_url'] = candidate_news.text.str.split('http')\\\n",
    "                                                .apply(lambda l: [len(x.split()) for x in l])\\\n",
    "                                                .apply(lambda l: len(l) == 2 and l[-1] == 1)"
   ]
  },
  {
   "cell_type": "markdown",
   "id": "3806e4a5-8bdd-400e-8bfb-14192139dd06",
   "metadata": {
    "tags": []
   },
   "source": [
    "## Profanity and Emoji Filtering"
   ]
  },
  {
   "cell_type": "code",
   "execution_count": null,
   "id": "16935611-a701-4b1a-8f14-71f0f9702f29",
   "metadata": {},
   "outputs": [],
   "source": [
    "candidate_news['profane_words'] = candidate_news.text.parallel_apply(lambda s: [w for w in s.split() if w in en_bad_words])"
   ]
  },
  {
   "cell_type": "code",
   "execution_count": null,
   "id": "32cef840-83ff-4528-9b86-51e62fe50eec",
   "metadata": {},
   "outputs": [],
   "source": [
    "candidate_news['not_profane'] = candidate_news['profane_words'].apply(len) < 1"
   ]
  },
  {
   "cell_type": "code",
   "execution_count": null,
   "id": "7d620e9f-5340-418f-8f03-7e8ed353bcbc",
   "metadata": {},
   "outputs": [],
   "source": [
    "candidate_news.head()"
   ]
  },
  {
   "cell_type": "markdown",
   "id": "9a80031d-3133-4812-920a-c4d95f7ed275",
   "metadata": {
    "tags": []
   },
   "source": [
    "## News"
   ]
  },
  {
   "cell_type": "code",
   "execution_count": null,
   "id": "d7ce06b5-1a01-49d2-a98b-3a88448323df",
   "metadata": {},
   "outputs": [],
   "source": [
    "len(candidate_news[candidate_news.text_url & candidate_news.not_profane])"
   ]
  },
  {
   "cell_type": "code",
   "execution_count": null,
   "id": "94701712-eeea-4ccb-8866-5883d238ac48",
   "metadata": {},
   "outputs": [],
   "source": [
    "candidate_news[candidate_news.text_url & candidate_news.not_profane].text"
   ]
  },
  {
   "cell_type": "code",
   "execution_count": null,
   "id": "dfb5855e-0249-4305-94d6-de57638e6812",
   "metadata": {},
   "outputs": [],
   "source": [
    "candidate_news[candidate_news.text_url & candidate_news.not_profane]['id'].to_csv('data/news/news_indexes.csv', index=None, header=False)"
   ]
  },
  {
   "cell_type": "code",
   "execution_count": null,
   "id": "ce44022c-d801-4993-ad15-d72b1cc64b09",
   "metadata": {},
   "outputs": [],
   "source": []
  }
 ],
 "metadata": {
  "kernelspec": {
   "display_name": "Python 3 (ipykernel)",
   "language": "python",
   "name": "python3"
  },
  "language_info": {
   "codemirror_mode": {
    "name": "ipython",
    "version": 3
   },
   "file_extension": ".py",
   "mimetype": "text/x-python",
   "name": "python",
   "nbconvert_exporter": "python",
   "pygments_lexer": "ipython3",
   "version": "3.8.13"
  },
  "toc-autonumbering": true
 },
 "nbformat": 4,
 "nbformat_minor": 5
}
