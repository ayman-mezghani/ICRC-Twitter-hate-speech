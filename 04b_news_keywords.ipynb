{
 "cells": [
  {
   "cell_type": "markdown",
   "id": "9337e6bf-d4b5-4d9f-b748-5512c18b45d8",
   "metadata": {},
   "source": [
    "# News Keywords Extraction"
   ]
  },
  {
   "cell_type": "code",
   "execution_count": null,
   "id": "503892f6-030b-4c5e-850c-1ca10ab2f3c1",
   "metadata": {},
   "outputs": [],
   "source": [
    "import pandas as pd\n",
    "import numpy as np\n",
    "from pandarallel import pandarallel\n",
    "pandarallel.initialize(progress_bar=False)\n",
    "import plotly.express as px\n",
    "\n",
    "from sklearn.feature_extraction.text import TfidfVectorizer\n",
    "\n",
    "import fasttext\n",
    "\n",
    "import nltk\n",
    "nltk.download('stopwords')\n",
    "nltk.download('omw-1.4')\n",
    "nltk.download('averaged_perceptron_tagger')\n",
    "nltk.download('wordnet')\n",
    "from nltk import pos_tag\n",
    "from nltk.corpus import stopwords, wordnet\n",
    "from nltk.tokenize import word_tokenize\n",
    "from nltk.stem import WordNetLemmatizer\n",
    "\n",
    "import spacy\n",
    "sp = spacy.load('en_core_web_sm')\n",
    "\n",
    "import emoji\n",
    "import string"
   ]
  },
  {
   "cell_type": "markdown",
   "id": "019c5882-a561-4879-9ca2-896ce01911d5",
   "metadata": {
    "tags": []
   },
   "source": [
    "## Reading Data"
   ]
  },
  {
   "cell_type": "code",
   "execution_count": null,
   "id": "34325749-303b-4ace-a30c-59ba8e569ff2",
   "metadata": {},
   "outputs": [],
   "source": [
    "df_tweets = pd.read_json('data/news/news_tweets/2022-03-16__2022-04-01/tweets.json')\n",
    "df_tweets"
   ]
  },
  {
   "cell_type": "code",
   "execution_count": null,
   "id": "056d605e-b79d-4339-8299-6205c5444d13",
   "metadata": {},
   "outputs": [],
   "source": [
    "df_authors = pd.read_json('data/news/news_tweets/2022-03-16__2022-04-01/users.json')\n",
    "df_authors"
   ]
  },
  {
   "cell_type": "markdown",
   "id": "b03c6342-3a47-4cb5-8890-07b093d93dfb",
   "metadata": {
    "tags": []
   },
   "source": [
    "## Data Exploration"
   ]
  },
  {
   "cell_type": "markdown",
   "id": "26220a7a-a049-4e46-8243-36d392361390",
   "metadata": {},
   "source": [
    "### Counts and IDs"
   ]
  },
  {
   "cell_type": "code",
   "execution_count": null,
   "id": "f2e051ce-0553-4d45-903e-f477b60cdb7d",
   "metadata": {},
   "outputs": [],
   "source": [
    "ids = pd.read_csv('data/news/twitter_users_news.csv', header=None, names=['handle', 'id', 'website'])['id']\n",
    "ids"
   ]
  },
  {
   "cell_type": "code",
   "execution_count": null,
   "id": "94d204db-2bcc-46dd-ad30-87133339e1e7",
   "metadata": {},
   "outputs": [],
   "source": [
    "src_count = df_tweets.groupby('author_id')['id'].count()\n",
    "src_count"
   ]
  },
  {
   "cell_type": "code",
   "execution_count": null,
   "id": "b85b700c-7954-4be3-a3da-566335258953",
   "metadata": {},
   "outputs": [],
   "source": [
    "src_count.value_counts()"
   ]
  },
  {
   "cell_type": "markdown",
   "id": "268b9a64-62c6-4e7b-9f74-6a8f97606775",
   "metadata": {},
   "source": [
    "#### Some users have less thant 90 tweets"
   ]
  },
  {
   "cell_type": "code",
   "execution_count": null,
   "id": "4432e4ed-513c-431d-90a7-746826a3b205",
   "metadata": {},
   "outputs": [],
   "source": [
    "src_count[src_count < 90]"
   ]
  },
  {
   "cell_type": "code",
   "execution_count": null,
   "id": "600a03f2-89f7-43f7-b361-465a309755c1",
   "metadata": {},
   "outputs": [],
   "source": [
    "df_authors[df_authors['id'] == 247723476]"
   ]
  },
  {
   "cell_type": "markdown",
   "id": "838bb5ba-76d6-4f01-b67e-d7d3c611912d",
   "metadata": {},
   "source": [
    "#### Some users are extracted although not asked to be extracted"
   ]
  },
  {
   "cell_type": "code",
   "execution_count": null,
   "id": "32aaf169-64d5-4a3d-b831-b0d3bbdf7400",
   "metadata": {},
   "outputs": [],
   "source": [
    "df_authors[~df_authors['id'].isin(ids.values)]"
   ]
  },
  {
   "cell_type": "code",
   "execution_count": null,
   "id": "1e8352b5-89cd-4d0d-8e37-b975b2e327eb",
   "metadata": {},
   "outputs": [],
   "source": [
    "df_tweets[~df_tweets.author_id.isin(ids.values)].author_id.unique()"
   ]
  },
  {
   "cell_type": "markdown",
   "id": "398eb4ad-6f40-44fb-ab52-703b95131502",
   "metadata": {},
   "source": [
    "### Exploring Withheld"
   ]
  },
  {
   "cell_type": "code",
   "execution_count": null,
   "id": "57adb683-861b-4acc-ae0f-580b5c0cc767",
   "metadata": {},
   "outputs": [],
   "source": [
    "df_tweets[~df_tweets.withheld.isna()].head()"
   ]
  },
  {
   "cell_type": "code",
   "execution_count": null,
   "id": "69764f4b-2a25-4133-a70d-fb1711f7cfa2",
   "metadata": {},
   "outputs": [],
   "source": [
    "df_authors[df_authors['id'].isin(df_tweets[~df_tweets.withheld.isna()].author_id.unique())]"
   ]
  },
  {
   "cell_type": "code",
   "execution_count": null,
   "id": "d09bad75-e333-4561-bb13-2b20f88f6582",
   "metadata": {},
   "outputs": [],
   "source": [
    "df_authors[~df_authors.withheld.isna()]"
   ]
  },
  {
   "cell_type": "markdown",
   "id": "b08658da-24cf-497e-9d24-e80482e81c0b",
   "metadata": {},
   "source": [
    "### Data Language Statistics "
   ]
  },
  {
   "cell_type": "code",
   "execution_count": null,
   "id": "5054d2f5-c81f-422f-b591-2c7d3b9de3fa",
   "metadata": {},
   "outputs": [],
   "source": [
    "lang_count = df_tweets.groupby('lang')[['id']].count().reset_index()\n",
    "lang_count['id'] = lang_count['id'] / lang_count['id'].sum()\n",
    "fig = px.pie(lang_count, names='lang', values='id', title='Language proportions'.title(), height=700, hover_name=(lang_count['id']*100).round(2).apply(str) + '%')\n",
    "fig.update_traces(textposition='inside', textinfo='percent+label')\n",
    "fig.update_layout(uniformtext_minsize=12, uniformtext_mode='hide', title_x=0.5,)\n",
    "fig.show()"
   ]
  },
  {
   "cell_type": "markdown",
   "id": "6a748f28-9e8d-4663-b25d-f43fa8d2af56",
   "metadata": {},
   "source": [
    "### Language Verification"
   ]
  },
  {
   "cell_type": "code",
   "execution_count": null,
   "id": "521dedc2-f628-49a1-8a66-81c0b3853b1f",
   "metadata": {},
   "outputs": [],
   "source": [
    "df_english = df_tweets[df_tweets.lang == 'en'].copy()\n",
    "df_english"
   ]
  },
  {
   "cell_type": "code",
   "execution_count": null,
   "id": "9a04b96d-f2ad-41c7-9f22-21240f57a52f",
   "metadata": {},
   "outputs": [],
   "source": [
    "df_english.text[:5].tolist()"
   ]
  },
  {
   "cell_type": "markdown",
   "id": "d409ab68-4605-481a-95e0-1123f1247e24",
   "metadata": {
    "tags": []
   },
   "source": [
    "## Language Identification"
   ]
  },
  {
   "cell_type": "code",
   "execution_count": null,
   "id": "ee4c2e15-1010-4692-ac0b-054676b666f5",
   "metadata": {},
   "outputs": [],
   "source": [
    "model = fasttext.load_model('data/lid.176.bin')"
   ]
  },
  {
   "cell_type": "markdown",
   "id": "dfe284e4-42e2-4195-ac06-a40981621aee",
   "metadata": {},
   "source": [
    "Remove redundant spaces, links and emojis"
   ]
  },
  {
   "cell_type": "code",
   "execution_count": null,
   "id": "b87d3317-f308-4a9a-9692-90c1a44c3736",
   "metadata": {},
   "outputs": [],
   "source": [
    "df_tweets['clean_text'] = df_tweets.text.str.replace(r'\\s+', ' ', regex=True).str.replace(r'http\\S+', '', regex=True).str.strip().apply(lambda s: emoji.replace_emoji(s, replace=''))\n",
    "df_tweets['clean_text']"
   ]
  },
  {
   "cell_type": "code",
   "execution_count": null,
   "id": "67eaf5b5-da0e-478a-900b-4e03e697fd86",
   "metadata": {},
   "outputs": [],
   "source": [
    "langs = model.predict(df_tweets['clean_text'].tolist(), k=2)"
   ]
  },
  {
   "cell_type": "code",
   "execution_count": null,
   "id": "8535f49f-7665-42b4-a018-18d90194d759",
   "metadata": {},
   "outputs": [],
   "source": [
    "df = pd.DataFrame(list(zip(*langs)), columns=['pred_lang', 'pred_conf'])\n",
    "df"
   ]
  },
  {
   "cell_type": "code",
   "execution_count": null,
   "id": "e66e1f26-3fce-44ca-89ab-22bc32a9bdbd",
   "metadata": {},
   "outputs": [],
   "source": [
    "df[['pred_lang', 'pred_lang_2']] = pd.DataFrame(df.pred_lang.values.tolist(), index=df.index)\n",
    "df['pred_lang'] = df.pred_lang.str.replace('__label__', '')\n",
    "df['pred_lang_2'] = df.pred_lang_2.str.replace('__label__', '')\n",
    "df[['pred_conf', 'pred_conf_2']] = pd.DataFrame(df.pred_conf.values.tolist(), index=df.index)\n",
    "df"
   ]
  },
  {
   "cell_type": "code",
   "execution_count": null,
   "id": "b345791b-ba18-4fe0-8d5d-a370e67173ec",
   "metadata": {},
   "outputs": [],
   "source": [
    "df.pred_conf.hist()"
   ]
  },
  {
   "cell_type": "code",
   "execution_count": null,
   "id": "3910c5c3-133e-42ec-9cb2-be2ab4439916",
   "metadata": {},
   "outputs": [],
   "source": [
    "df_tweets = df_tweets.join(df)\n",
    "df_tweets"
   ]
  },
  {
   "cell_type": "code",
   "execution_count": null,
   "id": "a1bba940-cf9f-43b0-b8d7-403344eb2833",
   "metadata": {},
   "outputs": [],
   "source": [
    "(df_tweets.lang == df_tweets.pred_lang).value_counts(normalize=False)"
   ]
  },
  {
   "cell_type": "code",
   "execution_count": null,
   "id": "6b07b17e-4ded-45bd-b48f-bcff2dafdce3",
   "metadata": {},
   "outputs": [],
   "source": [
    "(df_tweets.lang == df_tweets.pred_lang).value_counts(normalize=True)"
   ]
  },
  {
   "cell_type": "code",
   "execution_count": null,
   "id": "30a5788c-2226-4a61-b877-a8dad72f2c9a",
   "metadata": {},
   "outputs": [],
   "source": [
    "df_tweets[df_tweets.pred_conf < 0.5]"
   ]
  },
  {
   "cell_type": "code",
   "execution_count": null,
   "id": "1f7e9a70-5266-4831-859e-ebf02d21ae9d",
   "metadata": {},
   "outputs": [],
   "source": [
    "df_tweets = df_tweets[(df_tweets.pred_conf >= 0.5) & (df_tweets.clean_text.apply(len) > 0)]\n",
    "len(df_tweets)"
   ]
  },
  {
   "cell_type": "markdown",
   "id": "ece56297-5661-4f35-b2cc-b74ef6c08fdb",
   "metadata": {
    "tags": []
   },
   "source": [
    "## English Keywords"
   ]
  },
  {
   "cell_type": "code",
   "execution_count": null,
   "id": "c9d904a0-3e6d-4c61-9c90-b05bfb1d3510",
   "metadata": {},
   "outputs": [],
   "source": [
    "df_english = df_tweets[df_tweets.pred_lang == 'en'].copy()\n",
    "df_english"
   ]
  },
  {
   "cell_type": "markdown",
   "id": "130b7714-bbc7-4521-9c1a-e67755484f24",
   "metadata": {
    "tags": []
   },
   "source": [
    "### Remove Retweets, Quotes and Replies"
   ]
  },
  {
   "cell_type": "code",
   "execution_count": null,
   "id": "5701f9ba-f7d6-4f6e-ba09-24aa0f2d9981",
   "metadata": {},
   "outputs": [],
   "source": [
    "df_english['tweet_type'] = df_english['referenced_tweets'].apply(lambda l: tuple(sorted([d['type'] for d in l])) if type(l) == list else l)\n",
    "df_english.head()"
   ]
  },
  {
   "cell_type": "code",
   "execution_count": null,
   "id": "f2448eca-c80d-4283-8b70-d9c2082352fb",
   "metadata": {},
   "outputs": [],
   "source": [
    "df_english.tweet_type.value_counts(dropna=False)"
   ]
  },
  {
   "cell_type": "code",
   "execution_count": null,
   "id": "2c6c1fa7-a054-4da8-8bf9-b56ff10ec318",
   "metadata": {},
   "outputs": [],
   "source": [
    "df_english = df_english[df_english['tweet_type'].isna()]\n",
    "df_english.head()"
   ]
  },
  {
   "cell_type": "markdown",
   "id": "f5a52977-4447-4186-8274-6e48b03e6421",
   "metadata": {
    "tags": []
   },
   "source": [
    "### Text Cleaning"
   ]
  },
  {
   "cell_type": "code",
   "execution_count": null,
   "id": "5c69698c-410f-4aa3-aba5-cf50c288bb49",
   "metadata": {},
   "outputs": [],
   "source": [
    "english_texts = df_english.text\n",
    "english_texts"
   ]
  },
  {
   "cell_type": "markdown",
   "id": "ff2c16fc-8118-4ca8-817f-86237d1a6dbe",
   "metadata": {},
   "source": [
    "#### Remove redundant spaces, links and emojis"
   ]
  },
  {
   "cell_type": "code",
   "execution_count": null,
   "id": "faad22b7-a2be-46df-96e7-b11dc50e7199",
   "metadata": {},
   "outputs": [],
   "source": [
    "english_texts = english_texts.str.replace(r'\\s+', ' ', regex=True).str.replace(r'http\\S+', '', regex=True).str.strip().apply(lambda s: emoji.replace_emoji(s, replace=''))\n",
    "english_texts"
   ]
  },
  {
   "cell_type": "markdown",
   "id": "bec0871a-f98d-40b9-90ed-ac8d151df29b",
   "metadata": {},
   "source": [
    "#### Tokenize"
   ]
  },
  {
   "cell_type": "code",
   "execution_count": null,
   "id": "0b9c0c80-c5d8-4725-97a4-32a719af8638",
   "metadata": {},
   "outputs": [],
   "source": [
    "english_tokens = english_texts.parallel_apply(word_tokenize)\n",
    "english_tokens"
   ]
  },
  {
   "cell_type": "markdown",
   "id": "475f5b53-53c6-4eb7-952f-eaed233feaf9",
   "metadata": {},
   "source": [
    "#### Tag Tokens"
   ]
  },
  {
   "cell_type": "code",
   "execution_count": null,
   "id": "37d4869b-1d11-4938-8518-b1ddf4cb4cee",
   "metadata": {},
   "outputs": [],
   "source": [
    "english_annotated_tokens = english_tokens.parallel_apply(pos_tag)\n",
    "english_annotated_tokens"
   ]
  },
  {
   "cell_type": "markdown",
   "id": "3e99618b-cad6-458c-8e46-53045c9b5097",
   "metadata": {},
   "source": [
    "#### Separate Text from Mentions and Hashtags"
   ]
  },
  {
   "cell_type": "code",
   "execution_count": null,
   "id": "1c6d2e0c-62f0-4ca1-a8af-323d3d48edec",
   "metadata": {},
   "outputs": [],
   "source": [
    "def separate(ls):\n",
    "    res = {'text': [],\n",
    "           'hashtags': [],\n",
    "           'mentions': []}\n",
    "    \n",
    "    hashtag = False\n",
    "    mention = False\n",
    "    \n",
    "    for s, t in ls:\n",
    "        if hashtag:\n",
    "            hashtag = False\n",
    "            res['hashtags'].append('#' + s)\n",
    "        elif mention:\n",
    "            mention = False\n",
    "            res['mentions'].append('@' + s)\n",
    "        else:\n",
    "            if s == '#':\n",
    "                hashtag = True\n",
    "            elif s == '@':\n",
    "                mention = True\n",
    "            else:    \n",
    "                res['text'].append((s, t))\n",
    "            \n",
    "    return res"
   ]
  },
  {
   "cell_type": "code",
   "execution_count": null,
   "id": "a402e9de-d550-48ce-9d06-8dc7fce84bc2",
   "metadata": {},
   "outputs": [],
   "source": [
    "separate(english_annotated_tokens.iloc[0])"
   ]
  },
  {
   "cell_type": "code",
   "execution_count": null,
   "id": "2255c331-ff5f-4bcd-990a-a17bc820cd35",
   "metadata": {},
   "outputs": [],
   "source": [
    "df_english_tokens = pd.DataFrame(english_annotated_tokens.apply(separate).tolist(), index=english_annotated_tokens.index)\n",
    "df_english_tokens"
   ]
  },
  {
   "cell_type": "markdown",
   "id": "32467d16-f418-4c73-9e14-2cf3bdcde3f2",
   "metadata": {},
   "source": [
    "#### Translate Tags"
   ]
  },
  {
   "cell_type": "code",
   "execution_count": null,
   "id": "38782f3d-d75d-46a7-8dff-ca5448cb3c73",
   "metadata": {},
   "outputs": [],
   "source": [
    "df_english_token_texts = df_english_tokens.text.explode().dropna()\n",
    "df_english_token_texts"
   ]
  },
  {
   "cell_type": "code",
   "execution_count": null,
   "id": "20dff19e-3061-47c9-a055-38f8e0f49b0e",
   "metadata": {},
   "outputs": [],
   "source": [
    "# https://www.geeksforgeeks.org/python-lemmatization-approaches-with-examples/\n",
    "def pos_tagger(nltk_tag):\n",
    "    if nltk_tag.startswith('J'):\n",
    "        return wordnet.ADJ\n",
    "    elif nltk_tag.startswith('V'):\n",
    "        return wordnet.VERB\n",
    "    elif nltk_tag.startswith('N'):\n",
    "        return wordnet.NOUN\n",
    "    elif nltk_tag.startswith('R'):\n",
    "        return wordnet.ADV\n",
    "    else:         \n",
    "        return None"
   ]
  },
  {
   "cell_type": "code",
   "execution_count": null,
   "id": "37dcd07b-d12b-4aab-8c3d-9ef42946c02e",
   "metadata": {},
   "outputs": [],
   "source": [
    "df_english_token_texts = df_english_token_texts.apply(lambda x: (x[0].lower(), pos_tagger(x[1])))\n",
    "df_english_token_texts"
   ]
  },
  {
   "cell_type": "code",
   "execution_count": null,
   "id": "da481d89-7ce3-413e-852b-a4fb81071f7f",
   "metadata": {},
   "outputs": [],
   "source": [
    "df_english_tagged_tokens = pd.DataFrame(df_english_token_texts.tolist(), index=df_english_token_texts.index, columns=['token', 'tag'])\n",
    "df_english_tagged_tokens"
   ]
  },
  {
   "cell_type": "markdown",
   "id": "09b06739-8925-43a4-8016-3a7295129e42",
   "metadata": {},
   "source": [
    "#### Remove punctuations"
   ]
  },
  {
   "cell_type": "code",
   "execution_count": null,
   "id": "04f28039-990c-4a81-b72e-20cbc0733a96",
   "metadata": {},
   "outputs": [],
   "source": [
    "all_punct_regex ='^([^\\w\\s]+|_)$'"
   ]
  },
  {
   "cell_type": "code",
   "execution_count": null,
   "id": "7fa1c6fd-3ef8-413c-9133-16fd79622c59",
   "metadata": {},
   "outputs": [],
   "source": [
    "df_english_tagged_tokens = df_english_tagged_tokens[(~df_english_tagged_tokens.token.isin(list(string.punctuation))) & (~df_english_tagged_tokens.token.str.match(all_punct_regex))]\n",
    "df_english_tagged_tokens"
   ]
  },
  {
   "cell_type": "markdown",
   "id": "87cbc103-5d76-4f60-af9a-d3ac637c36d9",
   "metadata": {},
   "source": [
    "Remove all numbers"
   ]
  },
  {
   "cell_type": "code",
   "execution_count": null,
   "id": "caad2b68-f609-42e4-9620-6b3f17e0cb11",
   "metadata": {},
   "outputs": [],
   "source": [
    "df_english_tagged_tokens = df_english_tagged_tokens[(~df_english_tagged_tokens.token.str.isnumeric())]\n",
    "df_english_tagged_tokens"
   ]
  },
  {
   "cell_type": "markdown",
   "id": "f1237fa3-fa5a-4239-8e57-d3f0f925949e",
   "metadata": {},
   "source": [
    "Remove stopwords"
   ]
  },
  {
   "cell_type": "code",
   "execution_count": null,
   "id": "aa718739-b93d-48fb-a3f9-d892e72f5397",
   "metadata": {},
   "outputs": [],
   "source": [
    "df_english_tagged_tokens = df_english_tagged_tokens[(~df_english_tagged_tokens.token.str.lower().isin(stopwords.words())) & (~df_english_tagged_tokens.token.str.lower().isin(sp.Defaults.stop_words))]\n",
    "df_english_tagged_tokens"
   ]
  },
  {
   "cell_type": "markdown",
   "id": "314c13bb-6cf3-41c8-8f5d-6e65de69d597",
   "metadata": {},
   "source": [
    "#### Lemmatize"
   ]
  },
  {
   "cell_type": "code",
   "execution_count": null,
   "id": "ae42fcda-764a-49a3-9452-08283c0bce52",
   "metadata": {},
   "outputs": [],
   "source": [
    "lemmatizer = WordNetLemmatizer()\n",
    "def lemmatize(word, tag):\n",
    "    if tag is None:\n",
    "        # if there is no available tag, append the token as is\n",
    "        return word\n",
    "    else:       \n",
    "        # else use the tag to lemmatize the token\n",
    "        return lemmatizer.lemmatize(word, tag)"
   ]
  },
  {
   "cell_type": "code",
   "execution_count": null,
   "id": "8b682e31-85c0-4cab-8e19-50c43552bda5",
   "metadata": {},
   "outputs": [],
   "source": [
    "df_english_tagged_tokens = df_english_tagged_tokens.copy()\n",
    "df_english_tagged_tokens['token'] = df_english_tagged_tokens.parallel_apply(lambda row: lemmatize(row['token'], row['tag']), axis=1)\n",
    "df_english_tagged_tokens"
   ]
  },
  {
   "cell_type": "markdown",
   "id": "f4d4ded7-e077-4a3a-a713-ba42700b13bb",
   "metadata": {
    "tags": []
   },
   "source": [
    "### Value Counts"
   ]
  },
  {
   "cell_type": "code",
   "execution_count": null,
   "id": "d0f5bd51-4da3-4219-801d-cdab7595d48b",
   "metadata": {},
   "outputs": [],
   "source": [
    "df_english_tagged_tokens['tuple'] = list(zip(df_english_tagged_tokens.token, df_english_tagged_tokens.tag))\n",
    "df_english_tagged_tokens"
   ]
  },
  {
   "cell_type": "code",
   "execution_count": null,
   "id": "10e48b1f-bcef-4f10-927a-773ed884b81f",
   "metadata": {},
   "outputs": [],
   "source": [
    "token_counts = df_english_tagged_tokens.tuple.value_counts()\n",
    "token_counts"
   ]
  },
  {
   "cell_type": "code",
   "execution_count": null,
   "id": "82910b89-f0b9-47a8-bdb7-e1c32afab688",
   "metadata": {},
   "outputs": [],
   "source": [
    "token_counts = token_counts[token_counts > 3]\n",
    "token_counts"
   ]
  },
  {
   "cell_type": "code",
   "execution_count": null,
   "id": "d2bbf6db-3038-4400-8066-949a83a2ab9b",
   "metadata": {},
   "outputs": [],
   "source": [
    "df_token_counts = token_counts.to_frame(name='count').reset_index().rename(columns={'index': 'token'})\n",
    "df_token_counts"
   ]
  },
  {
   "cell_type": "code",
   "execution_count": null,
   "id": "391cf140-9dfa-49f1-8e43-547c23d55e5e",
   "metadata": {},
   "outputs": [],
   "source": [
    "df_token_counts[['token', 'tag']] = pd.DataFrame(df_token_counts.token.tolist(), index=df_token_counts.index)\n",
    "df_token_counts"
   ]
  },
  {
   "cell_type": "code",
   "execution_count": null,
   "id": "9a85c40d-021b-4361-8751-cfff3d1ad5e1",
   "metadata": {},
   "outputs": [],
   "source": [
    "df_token_counts.to_csv('dump/token_count.csv')"
   ]
  },
  {
   "cell_type": "code",
   "execution_count": null,
   "id": "1337d252-30b1-405c-99d0-ba3f805185b3",
   "metadata": {},
   "outputs": [],
   "source": [
    "df_token_counts.groupby('tag').apply(lambda x: x.nlargest(15, ['count'])).reset_index(drop=True)"
   ]
  },
  {
   "cell_type": "code",
   "execution_count": null,
   "id": "d69a6c0f-c225-427e-ab11-b237d783132a",
   "metadata": {},
   "outputs": [],
   "source": [
    "df_token_counts[df_token_counts.token == 'breaking']"
   ]
  },
  {
   "cell_type": "markdown",
   "id": "65ea6fa5-43af-401f-97da-1eae8f1c0712",
   "metadata": {},
   "source": [
    "### TF-IDF"
   ]
  },
  {
   "cell_type": "markdown",
   "id": "067f8276-d10e-4740-90fa-6c9698a0e6cd",
   "metadata": {},
   "source": [
    "#### Read Random Tweets"
   ]
  },
  {
   "cell_type": "raw",
   "id": "df2230d6-bc4e-44e0-b033-4ac020732799",
   "metadata": {},
   "source": [
    "df_random_tweets = pd.read_parquet('data/tweets/_all_cleaned/tweets.parquet')\n",
    "len(df_random_tweets)\n",
    "\n",
    "df_random_tweets = df_random_tweets[~df_random_tweets['id'].isin(df_tweets['id'])].sample(n=100000, random_state=0, ignore_index=True)\n",
    "df_random_tweets.to_parquet('data/news/random_tweets.parquet')"
   ]
  },
  {
   "cell_type": "code",
   "execution_count": null,
   "id": "4ed078a7-4c56-46fc-a64d-c7847f7d67a5",
   "metadata": {},
   "outputs": [],
   "source": [
    "df_random_tweets = pd.read_parquet('data/news/random_tweets.parquet')\n",
    "df_random_tweets"
   ]
  },
  {
   "cell_type": "markdown",
   "id": "951f07a1-a2ae-4ee3-8e12-290f5d7d1c49",
   "metadata": {},
   "source": [
    "#### Clean Random Tweet Texts"
   ]
  },
  {
   "cell_type": "markdown",
   "id": "1c689d35-cdd1-4713-976b-fa24d0fb558d",
   "metadata": {
    "tags": []
   },
   "source": [
    "##### Language Identification"
   ]
  },
  {
   "cell_type": "markdown",
   "id": "4e994b44-2a11-433e-a598-4d8faa004609",
   "metadata": {},
   "source": [
    "Remove redundant spaces, links and emojis"
   ]
  },
  {
   "cell_type": "code",
   "execution_count": null,
   "id": "8972ad56-fcd0-4f88-a19b-eb95da5aa34e",
   "metadata": {},
   "outputs": [],
   "source": [
    "df_random_tweets['clean_text'] = df_random_tweets.text.str.replace(r'\\s+', ' ', regex=True).str.replace(r'http\\S+', '', regex=True).str.strip().apply(lambda s: emoji.replace_emoji(s, replace=''))\n",
    "df_random_tweets['clean_text']"
   ]
  },
  {
   "cell_type": "code",
   "execution_count": null,
   "id": "8da7f9c4-a0b9-47cb-a8ac-0cd895f83dcb",
   "metadata": {},
   "outputs": [],
   "source": [
    "random_langs = model.predict(df_random_tweets['clean_text'].tolist(), k=2)"
   ]
  },
  {
   "cell_type": "code",
   "execution_count": null,
   "id": "2c0d95c3-0332-40db-80d6-6b10e78f0071",
   "metadata": {},
   "outputs": [],
   "source": [
    "df_random_langs = pd.DataFrame(list(zip(*random_langs)), columns=['pred_lang', 'pred_conf'])\n",
    "df_random_langs"
   ]
  },
  {
   "cell_type": "code",
   "execution_count": null,
   "id": "642f3b08-3726-4553-993c-e7349f6c36d8",
   "metadata": {},
   "outputs": [],
   "source": [
    "df_random_langs[['pred_lang', 'pred_lang_2']] = pd.DataFrame(df_random_langs.pred_lang.values.tolist(), index=df_random_langs.index)\n",
    "df_random_langs['pred_lang'] = df_random_langs.pred_lang.str.replace('__label__', '')\n",
    "df_random_langs['pred_lang_2'] = df_random_langs.pred_lang_2.str.replace('__label__', '')\n",
    "df_random_langs[['pred_conf', 'pred_conf_2']] = pd.DataFrame(df_random_langs.pred_conf.values.tolist(), index=df_random_langs.index)\n",
    "df_random_langs"
   ]
  },
  {
   "cell_type": "code",
   "execution_count": null,
   "id": "6089b84b-99ef-4681-a00a-125d7297529b",
   "metadata": {},
   "outputs": [],
   "source": [
    "df_random_langs.pred_conf.hist()"
   ]
  },
  {
   "cell_type": "code",
   "execution_count": null,
   "id": "61e5dbd5-a3af-46b7-bae8-a6cc0e42d9f2",
   "metadata": {},
   "outputs": [],
   "source": [
    "df_random_tweets = df_random_tweets.join(df_random_langs)\n",
    "df_random_tweets"
   ]
  },
  {
   "cell_type": "code",
   "execution_count": null,
   "id": "4eb90c2d-ba70-4ce0-9b21-2a52eb147f9b",
   "metadata": {},
   "outputs": [],
   "source": [
    "(df_random_tweets.lang == df_random_tweets.pred_lang).value_counts(normalize=False)"
   ]
  },
  {
   "cell_type": "code",
   "execution_count": null,
   "id": "40113795-71df-41a2-8da4-747e3b75bdab",
   "metadata": {},
   "outputs": [],
   "source": [
    "(df_random_tweets.lang == df_random_tweets.pred_lang).value_counts(normalize=True)"
   ]
  },
  {
   "cell_type": "code",
   "execution_count": null,
   "id": "7df0fc42-ab48-4af7-b2fa-18995563e38f",
   "metadata": {},
   "outputs": [],
   "source": [
    "df_random_tweets = df_random_tweets[(df_random_tweets.pred_conf >= 0.5) & (df_random_tweets.clean_text.apply(len) > 0)]\n",
    "len(df_random_tweets)"
   ]
  },
  {
   "cell_type": "code",
   "execution_count": null,
   "id": "02d0b271-cf9a-4c86-9125-4efc35659c6a",
   "metadata": {},
   "outputs": [],
   "source": [
    "df_random_english = df_random_tweets[df_random_tweets.pred_lang == 'en'].copy()\n",
    "df_random_english"
   ]
  },
  {
   "cell_type": "markdown",
   "id": "2e0cad6f-b2c6-46b0-a2ee-f0872b65da36",
   "metadata": {
    "tags": []
   },
   "source": [
    "##### Remove Retweets, Quotes and Replies"
   ]
  },
  {
   "cell_type": "code",
   "execution_count": null,
   "id": "6a4b9453-07c0-43fa-8599-7887865fe721",
   "metadata": {},
   "outputs": [],
   "source": [
    "df_random_english['tweet_type'] = df_random_english['referenced_tweets'].apply(lambda l: tuple(sorted([d['type'] for d in l])) if type(l) == list or type(l) == np.ndarray else l)\n",
    "df_random_english.head()"
   ]
  },
  {
   "cell_type": "code",
   "execution_count": null,
   "id": "bbce8964-c1bb-4523-b1b3-2d083720b0e3",
   "metadata": {},
   "outputs": [],
   "source": [
    "df_random_english.tweet_type.value_counts(dropna=False)"
   ]
  },
  {
   "cell_type": "code",
   "execution_count": null,
   "id": "7d5ff271-3045-42ed-b469-97408e30bc28",
   "metadata": {},
   "outputs": [],
   "source": [
    "df_random_english = df_random_english[df_random_english['tweet_type'].isna()]\n",
    "df_random_english.head()"
   ]
  },
  {
   "cell_type": "markdown",
   "id": "f6ed14d7-931c-4023-b13c-cdf6183fe1a7",
   "metadata": {
    "tags": []
   },
   "source": [
    "##### Text Cleaning"
   ]
  },
  {
   "cell_type": "code",
   "execution_count": null,
   "id": "4a55b5f2-22bf-4534-82db-2f88d9b28146",
   "metadata": {},
   "outputs": [],
   "source": [
    "random_english_texts = df_random_english.text\n",
    "random_english_texts"
   ]
  },
  {
   "cell_type": "markdown",
   "id": "11aa1d7c-c918-4518-9a09-e7f251375c10",
   "metadata": {},
   "source": [
    "###### Remove redundant spaces, links and emojis"
   ]
  },
  {
   "cell_type": "code",
   "execution_count": null,
   "id": "b0b477ca-9760-497d-9a67-049783ac8257",
   "metadata": {},
   "outputs": [],
   "source": [
    "random_english_texts = random_english_texts.str.replace(r'\\s+', ' ', regex=True).str.replace(r'http\\S+', '', regex=True).str.strip().apply(lambda s: emoji.replace_emoji(s, replace=''))\n",
    "random_english_texts"
   ]
  },
  {
   "cell_type": "markdown",
   "id": "d4ba1599-bb33-454f-b424-a97b2b8947c1",
   "metadata": {},
   "source": [
    "###### Tokenize"
   ]
  },
  {
   "cell_type": "code",
   "execution_count": null,
   "id": "d48eb634-741d-45e4-a135-8b0dfb311921",
   "metadata": {},
   "outputs": [],
   "source": [
    "random_english_tokens = random_english_texts.parallel_apply(word_tokenize)\n",
    "random_english_tokens"
   ]
  },
  {
   "cell_type": "markdown",
   "id": "4d92a418-c661-4cbb-b19c-0dd515c90165",
   "metadata": {},
   "source": [
    "###### Tag Tokens"
   ]
  },
  {
   "cell_type": "code",
   "execution_count": null,
   "id": "94aa46d7-875b-4c5d-a566-83cd044f3751",
   "metadata": {},
   "outputs": [],
   "source": [
    "random_english_annotated_tokens = random_english_tokens.parallel_apply(pos_tag)\n",
    "random_english_annotated_tokens"
   ]
  },
  {
   "cell_type": "markdown",
   "id": "b0aa0d59-bbaf-4ae3-8265-bebedaca9ae4",
   "metadata": {},
   "source": [
    "###### Separate Text from Mentions and Hashtags"
   ]
  },
  {
   "cell_type": "code",
   "execution_count": null,
   "id": "2b740d72-c19b-42ec-9f8b-5d7b8de4d5f1",
   "metadata": {},
   "outputs": [],
   "source": [
    "separate(random_english_annotated_tokens.iloc[0])"
   ]
  },
  {
   "cell_type": "code",
   "execution_count": null,
   "id": "06b71dc3-4161-4d06-bad6-e8d977f38b8f",
   "metadata": {},
   "outputs": [],
   "source": [
    "df_random_english_tokens = pd.DataFrame(random_english_annotated_tokens.apply(separate).tolist(), index=random_english_annotated_tokens.index)\n",
    "df_random_english_tokens"
   ]
  },
  {
   "cell_type": "markdown",
   "id": "29da5eba-1e73-4819-8b1f-c79e4bb36a1a",
   "metadata": {},
   "source": [
    "###### Translate Tags"
   ]
  },
  {
   "cell_type": "code",
   "execution_count": null,
   "id": "823d35c2-afdb-41ac-a26d-8b82e6779392",
   "metadata": {},
   "outputs": [],
   "source": [
    "df_random_english_token_texts = df_random_english_tokens.text.explode().dropna()\n",
    "df_random_english_token_texts"
   ]
  },
  {
   "cell_type": "code",
   "execution_count": null,
   "id": "927b1672-ca9d-4e7e-82a3-90d18ae09a2f",
   "metadata": {},
   "outputs": [],
   "source": [
    "df_random_english_token_texts = df_random_english_token_texts.apply(lambda x: (x[0].lower(), pos_tagger(x[1])))\n",
    "df_random_english_token_texts"
   ]
  },
  {
   "cell_type": "code",
   "execution_count": null,
   "id": "4a812b66-d60e-4c9a-a55d-e907ebb26d84",
   "metadata": {},
   "outputs": [],
   "source": [
    "df_random_english_tagged_tokens = pd.DataFrame(df_random_english_token_texts.tolist(), index=df_random_english_token_texts.index, columns=['token', 'tag'])\n",
    "df_random_english_tagged_tokens"
   ]
  },
  {
   "cell_type": "markdown",
   "id": "7111478b-f35c-483b-9925-840e0e50e8f1",
   "metadata": {},
   "source": [
    "###### Remove punctuations"
   ]
  },
  {
   "cell_type": "code",
   "execution_count": null,
   "id": "5b4d6afa-16d8-4822-b9d7-dd4df6a2480a",
   "metadata": {},
   "outputs": [],
   "source": [
    "all_punct_regex ='^([^\\w\\s]+|_)$'"
   ]
  },
  {
   "cell_type": "code",
   "execution_count": null,
   "id": "1a6b0e58-4f20-4058-a652-4872e167a44c",
   "metadata": {},
   "outputs": [],
   "source": [
    "df_random_english_tagged_tokens = df_random_english_tagged_tokens[(~df_random_english_tagged_tokens.token.isin(list(string.punctuation))) & (~df_random_english_tagged_tokens.token.str.match(all_punct_regex))]\n",
    "df_random_english_tagged_tokens"
   ]
  },
  {
   "cell_type": "markdown",
   "id": "596c220e-e3ef-42ac-8879-8af40f46a136",
   "metadata": {},
   "source": [
    "Remove all numbers"
   ]
  },
  {
   "cell_type": "code",
   "execution_count": null,
   "id": "8d352d31-26bf-4cc2-bfb2-6627507bfdc2",
   "metadata": {},
   "outputs": [],
   "source": [
    "df_random_english_tagged_tokens = df_random_english_tagged_tokens[(~df_random_english_tagged_tokens.token.str.isnumeric())]\n",
    "df_random_english_tagged_tokens"
   ]
  },
  {
   "cell_type": "markdown",
   "id": "a27a4708-8c2f-4b99-980a-99ada26daff9",
   "metadata": {},
   "source": [
    "Remove stopwords"
   ]
  },
  {
   "cell_type": "code",
   "execution_count": null,
   "id": "85a5df49-5339-4449-a703-6289e5d351a9",
   "metadata": {},
   "outputs": [],
   "source": [
    "df_random_english_tagged_tokens = df_random_english_tagged_tokens[(~df_random_english_tagged_tokens.token.str.lower().isin(stopwords.words())) & (~df_random_english_tagged_tokens.token.str.lower().isin(sp.Defaults.stop_words))]\n",
    "df_random_english_tagged_tokens"
   ]
  },
  {
   "cell_type": "markdown",
   "id": "c18fd6f1-d57a-4188-95d3-0f1089c11303",
   "metadata": {},
   "source": [
    "###### Lemmatize"
   ]
  },
  {
   "cell_type": "code",
   "execution_count": null,
   "id": "3a047e0c-e0fe-4820-ae80-619cc9160c84",
   "metadata": {},
   "outputs": [],
   "source": [
    "df_random_english_tagged_tokens = df_random_english_tagged_tokens.copy()\n",
    "df_random_english_tagged_tokens['token'] = df_random_english_tagged_tokens.parallel_apply(lambda row: lemmatize(row['token'], row['tag']), axis=1)\n",
    "df_random_english_tagged_tokens"
   ]
  },
  {
   "cell_type": "markdown",
   "id": "8d3bd074-690f-40c2-a7f2-902e7a85d9ad",
   "metadata": {},
   "source": [
    "#### Create 2 Documents"
   ]
  },
  {
   "cell_type": "code",
   "execution_count": null,
   "id": "d0deb012-2671-4a49-9eb6-92efaf946cf7",
   "metadata": {},
   "outputs": [],
   "source": [
    "news_doc_list = df_english_tagged_tokens[~df_english_tagged_tokens.token.isna()].token.to_list()\n",
    "news_doc = ' '.join(news_doc_list)\n",
    "len(news_doc)"
   ]
  },
  {
   "cell_type": "code",
   "execution_count": null,
   "id": "d409d835-388d-47b6-80aa-d2150aebd1fd",
   "metadata": {},
   "outputs": [],
   "source": [
    "random_doc_list = df_random_english_tagged_tokens[~df_random_english_tagged_tokens.tag.isna()].token.to_list()\n",
    "random_doc = ' '.join(random_doc_list)\n",
    "len(random_doc)"
   ]
  },
  {
   "cell_type": "markdown",
   "id": "ac9a7631-2eb6-4d88-8a2c-3fc997276cfb",
   "metadata": {},
   "source": [
    "#### TF-IDF"
   ]
  },
  {
   "cell_type": "code",
   "execution_count": null,
   "id": "b17171e3-61fb-49f3-98f4-150c955d7911",
   "metadata": {},
   "outputs": [],
   "source": [
    "vect = TfidfVectorizer(tokenizer=lambda x: x, preprocessor=lambda x: x, lowercase=False)\n",
    "tf_idf = vect.fit_transform([news_doc_list, random_doc_list])"
   ]
  },
  {
   "cell_type": "code",
   "execution_count": null,
   "id": "2f69b5ca-bb3d-49e6-a556-e16fdcfe5bb2",
   "metadata": {},
   "outputs": [],
   "source": [
    "tf_idf.shape"
   ]
  },
  {
   "cell_type": "code",
   "execution_count": null,
   "id": "5bcc4355-0a73-46aa-be8b-d2d2df2559cb",
   "metadata": {},
   "outputs": [],
   "source": [
    "res = pd.DataFrame(tf_idf.toarray().T, index=vect.get_feature_names_out(), columns=['news', 'not_news'])\n",
    "res"
   ]
  },
  {
   "cell_type": "code",
   "execution_count": null,
   "id": "b7773180-d6d3-4ea5-b6d8-85e3481574e0",
   "metadata": {},
   "outputs": [],
   "source": [
    "res['diff'] = res['news'] - res['not_news']"
   ]
  },
  {
   "cell_type": "code",
   "execution_count": null,
   "id": "366d4cfe-73a7-48f3-b6e5-7e14dabba6ab",
   "metadata": {},
   "outputs": [],
   "source": [
    "res['news'].nlargest(20)"
   ]
  },
  {
   "cell_type": "code",
   "execution_count": null,
   "id": "e9fd388b-2ca7-434a-9000-d64ddbca73f5",
   "metadata": {},
   "outputs": [],
   "source": [
    "res['not_news'].nlargest(20)"
   ]
  },
  {
   "cell_type": "code",
   "execution_count": null,
   "id": "dcf7e74b-d089-4008-a9a0-85898bd4e6ca",
   "metadata": {},
   "outputs": [],
   "source": [
    "res.loc['breaking']"
   ]
  },
  {
   "cell_type": "code",
   "execution_count": null,
   "id": "f9eb802a-3bf4-44af-8bd3-3024dad442ea",
   "metadata": {},
   "outputs": [],
   "source": [
    "res['diff'].nlargest(60)"
   ]
  },
  {
   "cell_type": "code",
   "execution_count": null,
   "id": "6817338f-31a0-4939-90f5-35a156fc013d",
   "metadata": {},
   "outputs": [],
   "source": [
    "res['diff'].loc['breaking']"
   ]
  },
  {
   "cell_type": "code",
   "execution_count": null,
   "id": "6b3e8014-c418-496e-a39a-cdb83af7642a",
   "metadata": {},
   "outputs": [],
   "source": [
    "res['diff'].nlargest(60).reset_index()['index'].to_csv('data/news/news_words.csv', index=None)"
   ]
  },
  {
   "cell_type": "code",
   "execution_count": null,
   "id": "9e6e11a8-64e5-4564-a66d-f5e23cd827bb",
   "metadata": {},
   "outputs": [],
   "source": []
  }
 ],
 "metadata": {
  "kernelspec": {
   "display_name": "Python 3 (ipykernel)",
   "language": "python",
   "name": "python3"
  },
  "language_info": {
   "codemirror_mode": {
    "name": "ipython",
    "version": 3
   },
   "file_extension": ".py",
   "mimetype": "text/x-python",
   "name": "python",
   "nbconvert_exporter": "python",
   "pygments_lexer": "ipython3",
   "version": "3.8.12"
  },
  "toc-autonumbering": true,
  "toc-showtags": false
 },
 "nbformat": 4,
 "nbformat_minor": 5
}
