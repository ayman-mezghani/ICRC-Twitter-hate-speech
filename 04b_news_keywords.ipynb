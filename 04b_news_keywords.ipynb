{
 "cells": [
  {
   "cell_type": "markdown",
   "id": "9337e6bf-d4b5-4d9f-b748-5512c18b45d8",
   "metadata": {},
   "source": [
    "# News Keywords Extraction"
   ]
  },
  {
   "cell_type": "code",
   "execution_count": null,
   "id": "503892f6-030b-4c5e-850c-1ca10ab2f3c1",
   "metadata": {},
   "outputs": [],
   "source": [
    "import pandas as pd\n",
    "from pandarallel import pandarallel\n",
    "pandarallel.initialize(progress_bar=False)\n",
    "import plotly.express as px\n",
    "\n",
    "import fasttext\n",
    "\n",
    "import nltk\n",
    "nltk.download('stopwords')\n",
    "nltk.download('omw-1.4')\n",
    "nltk.download('averaged_perceptron_tagger')\n",
    "nltk.download('wordnet')\n",
    "from nltk import pos_tag\n",
    "from nltk.corpus import stopwords, wordnet\n",
    "from nltk.tokenize import word_tokenize\n",
    "from nltk.stem import WordNetLemmatizer\n",
    "\n",
    "import spacy\n",
    "sp = spacy.load('en_core_web_sm')\n",
    "\n",
    "import emoji\n",
    "import string"
   ]
  },
  {
   "cell_type": "markdown",
   "id": "019c5882-a561-4879-9ca2-896ce01911d5",
   "metadata": {
    "tags": []
   },
   "source": [
    "## Reading Data"
   ]
  },
  {
   "cell_type": "code",
   "execution_count": null,
   "id": "34325749-303b-4ace-a30c-59ba8e569ff2",
   "metadata": {},
   "outputs": [],
   "source": [
    "df_tweets = pd.read_json('data/news/news_tweets/2022-03-16__2022-04-01/tweets.json')\n",
    "df_tweets"
   ]
  },
  {
   "cell_type": "code",
   "execution_count": null,
   "id": "056d605e-b79d-4339-8299-6205c5444d13",
   "metadata": {},
   "outputs": [],
   "source": [
    "df_authors = pd.read_json('data/news/news_tweets/2022-03-16__2022-04-01/users.json')\n",
    "df_authors"
   ]
  },
  {
   "cell_type": "markdown",
   "id": "b03c6342-3a47-4cb5-8890-07b093d93dfb",
   "metadata": {
    "tags": []
   },
   "source": [
    "## Data Exploration"
   ]
  },
  {
   "cell_type": "markdown",
   "id": "26220a7a-a049-4e46-8243-36d392361390",
   "metadata": {},
   "source": [
    "### Counts and IDs"
   ]
  },
  {
   "cell_type": "code",
   "execution_count": null,
   "id": "f2e051ce-0553-4d45-903e-f477b60cdb7d",
   "metadata": {},
   "outputs": [],
   "source": [
    "ids = pd.read_csv('data/news/twitter_users_news.csv', header=None, names=['handle', 'id', 'website'])['id']\n",
    "ids"
   ]
  },
  {
   "cell_type": "code",
   "execution_count": null,
   "id": "94d204db-2bcc-46dd-ad30-87133339e1e7",
   "metadata": {},
   "outputs": [],
   "source": [
    "src_count = df_tweets.groupby('author_id')['id'].count()\n",
    "src_count"
   ]
  },
  {
   "cell_type": "code",
   "execution_count": null,
   "id": "b85b700c-7954-4be3-a3da-566335258953",
   "metadata": {},
   "outputs": [],
   "source": [
    "src_count.value_counts()"
   ]
  },
  {
   "cell_type": "markdown",
   "id": "268b9a64-62c6-4e7b-9f74-6a8f97606775",
   "metadata": {},
   "source": [
    "Some users have less thant 90 tweets"
   ]
  },
  {
   "cell_type": "code",
   "execution_count": null,
   "id": "4432e4ed-513c-431d-90a7-746826a3b205",
   "metadata": {},
   "outputs": [],
   "source": [
    "src_count[src_count < 90]"
   ]
  },
  {
   "cell_type": "code",
   "execution_count": null,
   "id": "600a03f2-89f7-43f7-b361-465a309755c1",
   "metadata": {},
   "outputs": [],
   "source": [
    "df_authors[df_authors['id'] == 247723476]"
   ]
  },
  {
   "cell_type": "markdown",
   "id": "838bb5ba-76d6-4f01-b67e-d7d3c611912d",
   "metadata": {},
   "source": [
    "Some users are extracted although not asked to be extracted"
   ]
  },
  {
   "cell_type": "code",
   "execution_count": null,
   "id": "32aaf169-64d5-4a3d-b831-b0d3bbdf7400",
   "metadata": {},
   "outputs": [],
   "source": [
    "df_authors[~df_authors['id'].isin(ids.values)]"
   ]
  },
  {
   "cell_type": "code",
   "execution_count": null,
   "id": "1e8352b5-89cd-4d0d-8e37-b975b2e327eb",
   "metadata": {},
   "outputs": [],
   "source": [
    "df_tweets[~df_tweets.author_id.isin(ids.values)].author_id.unique()"
   ]
  },
  {
   "cell_type": "markdown",
   "id": "398eb4ad-6f40-44fb-ab52-703b95131502",
   "metadata": {},
   "source": [
    "### Exploring Withheld"
   ]
  },
  {
   "cell_type": "code",
   "execution_count": null,
   "id": "57adb683-861b-4acc-ae0f-580b5c0cc767",
   "metadata": {},
   "outputs": [],
   "source": [
    "df_tweets[~df_tweets.withheld.isna()].head()"
   ]
  },
  {
   "cell_type": "code",
   "execution_count": null,
   "id": "69764f4b-2a25-4133-a70d-fb1711f7cfa2",
   "metadata": {},
   "outputs": [],
   "source": [
    "df_authors[df_authors['id'].isin(df_tweets[~df_tweets.withheld.isna()].author_id.unique())]"
   ]
  },
  {
   "cell_type": "code",
   "execution_count": null,
   "id": "d09bad75-e333-4561-bb13-2b20f88f6582",
   "metadata": {},
   "outputs": [],
   "source": [
    "df_authors[~df_authors.withheld.isna()]"
   ]
  },
  {
   "cell_type": "markdown",
   "id": "b08658da-24cf-497e-9d24-e80482e81c0b",
   "metadata": {},
   "source": [
    "### Data Language Statistics "
   ]
  },
  {
   "cell_type": "code",
   "execution_count": null,
   "id": "5054d2f5-c81f-422f-b591-2c7d3b9de3fa",
   "metadata": {},
   "outputs": [],
   "source": [
    "lang_count = df_tweets.groupby('lang')[['id']].count().reset_index()\n",
    "lang_count['id'] = lang_count['id'] / lang_count['id'].sum()\n",
    "fig = px.pie(lang_count, names='lang', values='id', title='Language proportions'.title(), height=700, hover_name=(lang_count['id']*100).round(2).apply(str) + '%')\n",
    "fig.update_traces(textposition='inside', textinfo='percent+label')\n",
    "fig.update_layout(uniformtext_minsize=12, uniformtext_mode='hide', title_x=0.5,)\n",
    "fig.show()"
   ]
  },
  {
   "cell_type": "markdown",
   "id": "6a748f28-9e8d-4663-b25d-f43fa8d2af56",
   "metadata": {},
   "source": [
    "### Language Verification"
   ]
  },
  {
   "cell_type": "code",
   "execution_count": null,
   "id": "521dedc2-f628-49a1-8a66-81c0b3853b1f",
   "metadata": {},
   "outputs": [],
   "source": [
    "df_english = df_tweets[df_tweets.lang == 'en'].copy()\n",
    "df_english"
   ]
  },
  {
   "cell_type": "code",
   "execution_count": null,
   "id": "9a04b96d-f2ad-41c7-9f22-21240f57a52f",
   "metadata": {},
   "outputs": [],
   "source": [
    "df_english.text[:5].tolist()"
   ]
  },
  {
   "cell_type": "markdown",
   "id": "d409ab68-4605-481a-95e0-1123f1247e24",
   "metadata": {
    "jp-MarkdownHeadingCollapsed": true,
    "tags": []
   },
   "source": [
    "## Language Identification"
   ]
  },
  {
   "cell_type": "code",
   "execution_count": null,
   "id": "ee4c2e15-1010-4692-ac0b-054676b666f5",
   "metadata": {},
   "outputs": [],
   "source": [
    "model = fasttext.load_model('lid.176.bin')"
   ]
  },
  {
   "cell_type": "markdown",
   "id": "dfe284e4-42e2-4195-ac06-a40981621aee",
   "metadata": {},
   "source": [
    "Remove redundant spaces, links and emojis"
   ]
  },
  {
   "cell_type": "code",
   "execution_count": null,
   "id": "b87d3317-f308-4a9a-9692-90c1a44c3736",
   "metadata": {},
   "outputs": [],
   "source": [
    "df_tweets['clean_text'] = df_tweets.text.str.replace(r'\\s+', ' ', regex=True).str.replace(r'http\\S+', '', regex=True).str.strip().apply(lambda s: emoji.replace_emoji(s, replace=''))\n",
    "df_tweets['clean_text']"
   ]
  },
  {
   "cell_type": "code",
   "execution_count": null,
   "id": "67eaf5b5-da0e-478a-900b-4e03e697fd86",
   "metadata": {},
   "outputs": [],
   "source": [
    "langs = model.predict(df_tweets['clean_text'].tolist(), k=2)"
   ]
  },
  {
   "cell_type": "code",
   "execution_count": null,
   "id": "8535f49f-7665-42b4-a018-18d90194d759",
   "metadata": {},
   "outputs": [],
   "source": [
    "df = pd.DataFrame(list(zip(*langs)), columns=['pred_lang', 'pred_conf'])\n",
    "df"
   ]
  },
  {
   "cell_type": "code",
   "execution_count": null,
   "id": "e66e1f26-3fce-44ca-89ab-22bc32a9bdbd",
   "metadata": {},
   "outputs": [],
   "source": [
    "df[['pred_lang', 'pred_lang_2']] = pd.DataFrame(df.pred_lang.values.tolist(), index=df.index)\n",
    "df['pred_lang'] = df.pred_lang.str.replace('__label__', '')\n",
    "df['pred_lang_2'] = df.pred_lang_2.str.replace('__label__', '')\n",
    "df[['pred_conf', 'pred_conf_2']] = pd.DataFrame(df.pred_conf.values.tolist(), index=df.index)\n",
    "df"
   ]
  },
  {
   "cell_type": "code",
   "execution_count": null,
   "id": "b345791b-ba18-4fe0-8d5d-a370e67173ec",
   "metadata": {},
   "outputs": [],
   "source": [
    "df.pred_conf.hist()"
   ]
  },
  {
   "cell_type": "code",
   "execution_count": null,
   "id": "3910c5c3-133e-42ec-9cb2-be2ab4439916",
   "metadata": {},
   "outputs": [],
   "source": [
    "df_tweets = df_tweets.join(df)\n",
    "df_tweets"
   ]
  },
  {
   "cell_type": "code",
   "execution_count": null,
   "id": "a1bba940-cf9f-43b0-b8d7-403344eb2833",
   "metadata": {},
   "outputs": [],
   "source": [
    "(df_tweets.lang == df_tweets.pred_lang).value_counts(normalize=False)"
   ]
  },
  {
   "cell_type": "code",
   "execution_count": null,
   "id": "6b07b17e-4ded-45bd-b48f-bcff2dafdce3",
   "metadata": {},
   "outputs": [],
   "source": [
    "(df_tweets.lang == df_tweets.pred_lang).value_counts(normalize=True)"
   ]
  },
  {
   "cell_type": "code",
   "execution_count": null,
   "id": "30a5788c-2226-4a61-b877-a8dad72f2c9a",
   "metadata": {},
   "outputs": [],
   "source": [
    "df_tweets[df_tweets.pred_conf < 0.5]"
   ]
  },
  {
   "cell_type": "code",
   "execution_count": null,
   "id": "1f7e9a70-5266-4831-859e-ebf02d21ae9d",
   "metadata": {},
   "outputs": [],
   "source": [
    "df_tweets = df_tweets[(df_tweets.pred_conf >= 0.5) & (df_tweets.clean_text.apply(len) > 0)]\n",
    "len(df_tweets)"
   ]
  },
  {
   "cell_type": "markdown",
   "id": "ece56297-5661-4f35-b2cc-b74ef6c08fdb",
   "metadata": {},
   "source": [
    "## English Keywords"
   ]
  },
  {
   "cell_type": "code",
   "execution_count": null,
   "id": "c9d904a0-3e6d-4c61-9c90-b05bfb1d3510",
   "metadata": {},
   "outputs": [],
   "source": [
    "df_english = df_tweets[df_tweets.pred_lang == 'en'].copy()\n",
    "df_english"
   ]
  },
  {
   "cell_type": "markdown",
   "id": "130b7714-bbc7-4521-9c1a-e67755484f24",
   "metadata": {},
   "source": [
    "### Remove Retweets, Quotes and Replies"
   ]
  },
  {
   "cell_type": "code",
   "execution_count": null,
   "id": "5701f9ba-f7d6-4f6e-ba09-24aa0f2d9981",
   "metadata": {},
   "outputs": [],
   "source": [
    "df_english['tweet_type'] = df_english['referenced_tweets'].apply(lambda l: tuple(sorted([d['type'] for d in l])) if type(l) == list else l)\n",
    "df_english.head()"
   ]
  },
  {
   "cell_type": "code",
   "execution_count": null,
   "id": "f2448eca-c80d-4283-8b70-d9c2082352fb",
   "metadata": {},
   "outputs": [],
   "source": [
    "df_english.tweet_type.value_counts(dropna=False)"
   ]
  },
  {
   "cell_type": "code",
   "execution_count": null,
   "id": "2c6c1fa7-a054-4da8-8bf9-b56ff10ec318",
   "metadata": {},
   "outputs": [],
   "source": [
    "df_english = df_english[df_english['tweet_type'].isna()]\n",
    "df_english.head()"
   ]
  },
  {
   "cell_type": "markdown",
   "id": "f5a52977-4447-4186-8274-6e48b03e6421",
   "metadata": {},
   "source": [
    "### Text Cleaning"
   ]
  },
  {
   "cell_type": "code",
   "execution_count": null,
   "id": "5c69698c-410f-4aa3-aba5-cf50c288bb49",
   "metadata": {},
   "outputs": [],
   "source": [
    "english_texts = df_english.text\n",
    "english_texts"
   ]
  },
  {
   "cell_type": "markdown",
   "id": "ff2c16fc-8118-4ca8-817f-86237d1a6dbe",
   "metadata": {},
   "source": [
    "#### Remove redundant spaces, links and emojis"
   ]
  },
  {
   "cell_type": "code",
   "execution_count": null,
   "id": "faad22b7-a2be-46df-96e7-b11dc50e7199",
   "metadata": {},
   "outputs": [],
   "source": [
    "english_texts = english_texts.str.replace(r'\\s+', ' ', regex=True).str.replace(r'http\\S+', '', regex=True).str.strip().apply(lambda s: emoji.replace_emoji(s, replace=''))\n",
    "english_texts"
   ]
  },
  {
   "cell_type": "markdown",
   "id": "bec0871a-f98d-40b9-90ed-ac8d151df29b",
   "metadata": {},
   "source": [
    "#### Tokenize"
   ]
  },
  {
   "cell_type": "code",
   "execution_count": null,
   "id": "0b9c0c80-c5d8-4725-97a4-32a719af8638",
   "metadata": {},
   "outputs": [],
   "source": [
    "english_tokens = english_texts.parallel_apply(word_tokenize)\n",
    "english_tokens"
   ]
  },
  {
   "cell_type": "markdown",
   "id": "475f5b53-53c6-4eb7-952f-eaed233feaf9",
   "metadata": {},
   "source": [
    "#### Tag Tokens"
   ]
  },
  {
   "cell_type": "code",
   "execution_count": null,
   "id": "37d4869b-1d11-4938-8518-b1ddf4cb4cee",
   "metadata": {},
   "outputs": [],
   "source": [
    "english_annotated_tokens = english_tokens.parallel_apply(pos_tag)\n",
    "english_annotated_tokens"
   ]
  },
  {
   "cell_type": "markdown",
   "id": "3e99618b-cad6-458c-8e46-53045c9b5097",
   "metadata": {},
   "source": [
    "#### Separate Text from Mentions and Hashtags"
   ]
  },
  {
   "cell_type": "code",
   "execution_count": null,
   "id": "1c6d2e0c-62f0-4ca1-a8af-323d3d48edec",
   "metadata": {},
   "outputs": [],
   "source": [
    "def separate(ls):\n",
    "    res = {'text': [],\n",
    "           'hashtags': [],\n",
    "           'mentions': []}\n",
    "    \n",
    "    hashtag = False\n",
    "    mention = False\n",
    "    \n",
    "    for s, t in ls:\n",
    "        if hashtag:\n",
    "            hashtag = False\n",
    "            res['hashtags'].append('#' + s)\n",
    "        elif mention:\n",
    "            mention = False\n",
    "            res['mentions'].append('@' + s)\n",
    "        else:\n",
    "            if s == '#':\n",
    "                hashtag = True\n",
    "            elif s == '@':\n",
    "                mention = True\n",
    "            else:    \n",
    "                res['text'].append((s, t))\n",
    "            \n",
    "    return res"
   ]
  },
  {
   "cell_type": "code",
   "execution_count": null,
   "id": "a402e9de-d550-48ce-9d06-8dc7fce84bc2",
   "metadata": {},
   "outputs": [],
   "source": [
    "separate(english_annotated_tokens.iloc[0])"
   ]
  },
  {
   "cell_type": "code",
   "execution_count": null,
   "id": "2255c331-ff5f-4bcd-990a-a17bc820cd35",
   "metadata": {},
   "outputs": [],
   "source": [
    "df_english_tokens = pd.DataFrame(english_annotated_tokens.apply(separate).tolist(), index=english_annotated_tokens.index)\n",
    "df_english_tokens"
   ]
  },
  {
   "cell_type": "markdown",
   "id": "32467d16-f418-4c73-9e14-2cf3bdcde3f2",
   "metadata": {},
   "source": [
    "#### Translate Tags"
   ]
  },
  {
   "cell_type": "code",
   "execution_count": null,
   "id": "38782f3d-d75d-46a7-8dff-ca5448cb3c73",
   "metadata": {},
   "outputs": [],
   "source": [
    "df_english_token_texts = df_english_tokens.text.explode().dropna()\n",
    "df_english_token_texts"
   ]
  },
  {
   "cell_type": "code",
   "execution_count": null,
   "id": "20dff19e-3061-47c9-a055-38f8e0f49b0e",
   "metadata": {},
   "outputs": [],
   "source": [
    "# https://www.geeksforgeeks.org/python-lemmatization-approaches-with-examples/\n",
    "def pos_tagger(nltk_tag):\n",
    "    if nltk_tag.startswith('J'):\n",
    "        return wordnet.ADJ\n",
    "    elif nltk_tag.startswith('V'):\n",
    "        return wordnet.VERB\n",
    "    elif nltk_tag.startswith('N'):\n",
    "        return wordnet.NOUN\n",
    "    elif nltk_tag.startswith('R'):\n",
    "        return wordnet.ADV\n",
    "    else:         \n",
    "        return None"
   ]
  },
  {
   "cell_type": "code",
   "execution_count": null,
   "id": "37dcd07b-d12b-4aab-8c3d-9ef42946c02e",
   "metadata": {},
   "outputs": [],
   "source": [
    "df_english_token_texts = df_english_token_texts.apply(lambda x: (x[0].lower(), pos_tagger(x[1])))\n",
    "df_english_token_texts"
   ]
  },
  {
   "cell_type": "code",
   "execution_count": null,
   "id": "da481d89-7ce3-413e-852b-a4fb81071f7f",
   "metadata": {},
   "outputs": [],
   "source": [
    "df_english_tagged_tokens = pd.DataFrame(df_english_token_texts.tolist(), index=df_english_token_texts.index, columns=['token', 'tag'])\n",
    "df_english_tagged_tokens"
   ]
  },
  {
   "cell_type": "markdown",
   "id": "09b06739-8925-43a4-8016-3a7295129e42",
   "metadata": {},
   "source": [
    "#### Remove punctuations"
   ]
  },
  {
   "cell_type": "code",
   "execution_count": null,
   "id": "04f28039-990c-4a81-b72e-20cbc0733a96",
   "metadata": {},
   "outputs": [],
   "source": [
    "all_punct_regex ='^([^\\w\\s]+|_)$'"
   ]
  },
  {
   "cell_type": "code",
   "execution_count": null,
   "id": "7fa1c6fd-3ef8-413c-9133-16fd79622c59",
   "metadata": {},
   "outputs": [],
   "source": [
    "df_english_tagged_tokens = df_english_tagged_tokens[(~df_english_tagged_tokens.token.isin(list(string.punctuation))) & (~df_english_tagged_tokens.token.str.match(all_punct_regex))]\n",
    "df_english_tagged_tokens"
   ]
  },
  {
   "cell_type": "markdown",
   "id": "87cbc103-5d76-4f60-af9a-d3ac637c36d9",
   "metadata": {},
   "source": [
    "Remove all numbers"
   ]
  },
  {
   "cell_type": "code",
   "execution_count": null,
   "id": "caad2b68-f609-42e4-9620-6b3f17e0cb11",
   "metadata": {},
   "outputs": [],
   "source": [
    "df_english_tagged_tokens = df_english_tagged_tokens[(~df_english_tagged_tokens.token.str.isnumeric())]\n",
    "df_english_tagged_tokens"
   ]
  },
  {
   "cell_type": "markdown",
   "id": "f1237fa3-fa5a-4239-8e57-d3f0f925949e",
   "metadata": {},
   "source": [
    "Remove stopwords"
   ]
  },
  {
   "cell_type": "code",
   "execution_count": null,
   "id": "aa718739-b93d-48fb-a3f9-d892e72f5397",
   "metadata": {},
   "outputs": [],
   "source": [
    "df_english_tagged_tokens = df_english_tagged_tokens[(~df_english_tagged_tokens.token.str.lower().isin(stopwords.words())) & (~df_english_tagged_tokens.token.str.lower().isin(sp.Defaults.stop_words))]\n",
    "df_english_tagged_tokens"
   ]
  },
  {
   "cell_type": "markdown",
   "id": "314c13bb-6cf3-41c8-8f5d-6e65de69d597",
   "metadata": {},
   "source": [
    "#### Lemmatize"
   ]
  },
  {
   "cell_type": "code",
   "execution_count": null,
   "id": "ae42fcda-764a-49a3-9452-08283c0bce52",
   "metadata": {},
   "outputs": [],
   "source": [
    "lemmatizer = WordNetLemmatizer()\n",
    "def lemmatize(word, tag):\n",
    "    if tag is None:\n",
    "        # if there is no available tag, append the token as is\n",
    "        return word\n",
    "    else:       \n",
    "        # else use the tag to lemmatize the token\n",
    "        return lemmatizer.lemmatize(word, tag)"
   ]
  },
  {
   "cell_type": "code",
   "execution_count": null,
   "id": "8b682e31-85c0-4cab-8e19-50c43552bda5",
   "metadata": {},
   "outputs": [],
   "source": [
    "df_english_tagged_tokens = df_english_tagged_tokens.copy()\n",
    "df_english_tagged_tokens['token'] = df_english_tagged_tokens.parallel_apply(lambda row: lemmatize(row['token'], row['tag']), axis=1)\n",
    "df_english_tagged_tokens"
   ]
  },
  {
   "cell_type": "markdown",
   "id": "f4d4ded7-e077-4a3a-a713-ba42700b13bb",
   "metadata": {},
   "source": [
    "### Value Counts"
   ]
  },
  {
   "cell_type": "code",
   "execution_count": null,
   "id": "d0f5bd51-4da3-4219-801d-cdab7595d48b",
   "metadata": {},
   "outputs": [],
   "source": [
    "df_english_tagged_tokens['tuple'] = list(zip(df_english_tagged_tokens.token, df_english_tagged_tokens.tag))\n",
    "df_english_tagged_tokens"
   ]
  },
  {
   "cell_type": "code",
   "execution_count": null,
   "id": "10e48b1f-bcef-4f10-927a-773ed884b81f",
   "metadata": {},
   "outputs": [],
   "source": [
    "token_counts = df_english_tagged_tokens.tuple.value_counts()\n",
    "token_counts"
   ]
  },
  {
   "cell_type": "code",
   "execution_count": null,
   "id": "82910b89-f0b9-47a8-bdb7-e1c32afab688",
   "metadata": {},
   "outputs": [],
   "source": [
    "token_counts = token_counts[token_counts > 3]\n",
    "token_counts"
   ]
  },
  {
   "cell_type": "code",
   "execution_count": null,
   "id": "d2bbf6db-3038-4400-8066-949a83a2ab9b",
   "metadata": {},
   "outputs": [],
   "source": [
    "df_token_counts = token_counts.to_frame(name='count').reset_index().rename(columns={'index': 'token'})\n",
    "df_token_counts"
   ]
  },
  {
   "cell_type": "code",
   "execution_count": null,
   "id": "391cf140-9dfa-49f1-8e43-547c23d55e5e",
   "metadata": {},
   "outputs": [],
   "source": [
    "df_token_counts[['token', 'tag']] = pd.DataFrame(df_token_counts.token.tolist(), index=df_token_counts.index)\n",
    "df_token_counts"
   ]
  },
  {
   "cell_type": "code",
   "execution_count": null,
   "id": "9a85c40d-021b-4361-8751-cfff3d1ad5e1",
   "metadata": {},
   "outputs": [],
   "source": [
    "df_token_counts.to_csv('dump/token_count.csv')"
   ]
  },
  {
   "cell_type": "code",
   "execution_count": null,
   "id": "f7429e8b-91c8-4348-8ac7-e10e39ff5ffe",
   "metadata": {},
   "outputs": [],
   "source": []
  },
  {
   "cell_type": "code",
   "execution_count": null,
   "id": "198f3b14-5158-4375-9e4c-13ecbcfe590b",
   "metadata": {},
   "outputs": [],
   "source": []
  },
  {
   "cell_type": "code",
   "execution_count": null,
   "id": "0455d070-09d1-4497-945b-ba97a1bfec1c",
   "metadata": {},
   "outputs": [],
   "source": []
  },
  {
   "cell_type": "code",
   "execution_count": null,
   "id": "1337d252-30b1-405c-99d0-ba3f805185b3",
   "metadata": {},
   "outputs": [],
   "source": [
    "df_token_counts.groupby('tag').apply(lambda x: x.nlargest(15, ['count'])).reset_index(drop=True)"
   ]
  },
  {
   "cell_type": "code",
   "execution_count": null,
   "id": "d69a6c0f-c225-427e-ab11-b237d783132a",
   "metadata": {},
   "outputs": [],
   "source": [
    "df_token_counts[df_token_counts.token == 'breaking']"
   ]
  },
  {
   "cell_type": "code",
   "execution_count": null,
   "id": "ac1def4d-3a7d-439c-b9f1-f3c77ca33b85",
   "metadata": {},
   "outputs": [],
   "source": []
  }
 ],
 "metadata": {
  "kernelspec": {
   "display_name": "Python 3 (ipykernel)",
   "language": "python",
   "name": "python3"
  },
  "language_info": {
   "codemirror_mode": {
    "name": "ipython",
    "version": 3
   },
   "file_extension": ".py",
   "mimetype": "text/x-python",
   "name": "python",
   "nbconvert_exporter": "python",
   "pygments_lexer": "ipython3",
   "version": "3.8.12"
  },
  "toc-autonumbering": true
 },
 "nbformat": 4,
 "nbformat_minor": 5
}
