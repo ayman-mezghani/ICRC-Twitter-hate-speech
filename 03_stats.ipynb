{
 "cells": [
  {
   "cell_type": "markdown",
   "id": "12ace440-3cd5-49f1-b3b7-c10a90ca5aec",
   "metadata": {
    "tags": []
   },
   "source": [
    "# Stats"
   ]
  },
  {
   "cell_type": "code",
   "execution_count": null,
   "id": "fcdd3a99-3e9b-48f6-ad29-a18dd5b89216",
   "metadata": {},
   "outputs": [],
   "source": [
    "import pandas as pd\n",
    "from datetime import datetime\n",
    "import time\n",
    "import plotly.express as px\n",
    "import plotly.graph_objects as go\n",
    "import seaborn as sns\n",
    "import matplotlib.pyplot as plt\n",
    "import ruptures as rpt"
   ]
  },
  {
   "cell_type": "code",
   "execution_count": null,
   "id": "8c19bd2f-139a-4c4c-a68d-670f92792851",
   "metadata": {},
   "outputs": [],
   "source": [
    "import kaleido"
   ]
  },
  {
   "cell_type": "code",
   "execution_count": null,
   "id": "20f07593-3b4f-4244-a89a-4d7d8551291c",
   "metadata": {},
   "outputs": [],
   "source": [
    "from twitter_id_mapper import get_handle"
   ]
  },
  {
   "cell_type": "markdown",
   "id": "9822c9a7-8aa6-4ad9-a4f8-1915f159309d",
   "metadata": {},
   "source": [
    "## Read Data"
   ]
  },
  {
   "cell_type": "code",
   "execution_count": null,
   "id": "0223546f-9ecd-4e72-bcb2-58dab2723c23",
   "metadata": {},
   "outputs": [],
   "source": [
    "df_tweets = pd.read_parquet('data/tweets/_all_cleaned/tweets.parquet')"
   ]
  },
  {
   "cell_type": "code",
   "execution_count": null,
   "id": "2c7355c7-ce38-40f4-bff4-2110892c568f",
   "metadata": {},
   "outputs": [],
   "source": [
    "df_tweets['created_at'] = pd.to_datetime(df_tweets.created_at)\n",
    "df_tweets['created_year_month'] = df_tweets.created_at.dt.year.astype(str) + '_' + df_tweets.created_at.dt.month.astype(str).str.zfill(2)\n",
    "df_tweets['created_date'] = df_tweets.created_at.dt.date"
   ]
  },
  {
   "cell_type": "code",
   "execution_count": null,
   "id": "14fc6c9d-8783-4616-841a-ca37096a1ef3",
   "metadata": {},
   "outputs": [],
   "source": [
    "print(df_tweets.created_at.min())\n",
    "print(df_tweets.created_at.max())"
   ]
  },
  {
   "cell_type": "code",
   "execution_count": null,
   "id": "1cb0fa3c-4331-4452-ba17-63a0231d2819",
   "metadata": {},
   "outputs": [],
   "source": [
    "df_tweets"
   ]
  },
  {
   "cell_type": "code",
   "execution_count": null,
   "id": "978ade38-1d18-4354-ad76-676177cbf872",
   "metadata": {},
   "outputs": [],
   "source": [
    "df_users = pd.read_parquet('data/tweets/_all_cleaned/users.parquet')"
   ]
  },
  {
   "cell_type": "code",
   "execution_count": null,
   "id": "ee861e99-2e46-4798-8aaa-a37aadd6b249",
   "metadata": {},
   "outputs": [],
   "source": [
    "df_users"
   ]
  },
  {
   "cell_type": "markdown",
   "id": "1cc3fa39-a5ce-4e08-a3cf-dd82f67bf2a1",
   "metadata": {},
   "source": [
    "## Tweets Per User"
   ]
  },
  {
   "cell_type": "code",
   "execution_count": null,
   "id": "f372903b-c8ef-4b0d-9cfd-e7e2cd461f9c",
   "metadata": {},
   "outputs": [],
   "source": [
    "auth_count = df_tweets.groupby(by=['author_id']).agg({'id': 'count'}).reset_index().rename(columns={'id': 'count'})\n",
    "auth_count"
   ]
  },
  {
   "cell_type": "code",
   "execution_count": null,
   "id": "16f61c94-7637-4312-8786-b1c0d4a1a568",
   "metadata": {},
   "outputs": [],
   "source": [
    "sns.displot(auth_count, log_scale=(False, 10), height=4, aspect=1.5, bins=100, stat='count')\n",
    "title = plt.title('Distribution of Tweet Counts')\n",
    "plt.xlabel('Tweet Counts')\n",
    "plt.ylabel('Number of Users')\n",
    "plt.savefig('plots/stats/' + title.get_text() + '.svg', format='svg', bbox_inches=\"tight\")\n",
    "plt.show()"
   ]
  },
  {
   "cell_type": "code",
   "execution_count": null,
   "id": "76fbd8d1-af10-4542-8817-416aa875aaad",
   "metadata": {},
   "outputs": [],
   "source": [
    "fig = px.histogram(auth_count, x='count', log_y=True, nbins=200, title='Number of users per tweet count'.title(), height=700)\n",
    "fig.update_layout(\n",
    "    xaxis_title=\"Tweet Count\",\n",
    "    yaxis_title=\"Author Count\",\n",
    "    title_x=0.5,\n",
    ")"
   ]
  },
  {
   "cell_type": "code",
   "execution_count": null,
   "id": "0f83bda7-c082-4cf0-81e2-7da3264c8b6b",
   "metadata": {},
   "outputs": [],
   "source": [
    "df_users.merge(auth_count[auth_count['count'] > 1000], left_on='id', right_on='author_id', how='inner').sort_values(by='count')"
   ]
  },
  {
   "cell_type": "markdown",
   "id": "29659de0-8f9a-4499-ac5a-3844969e6dc1",
   "metadata": {},
   "source": [
    "## Language Stats"
   ]
  },
  {
   "cell_type": "code",
   "execution_count": null,
   "id": "5ef587f1-3854-4c7e-8dcf-74d7036c92c0",
   "metadata": {},
   "outputs": [],
   "source": [
    "lang_count = df_tweets.groupby(by='lang')['id'].count().reset_index().rename(columns={'id': 'count'})"
   ]
  },
  {
   "cell_type": "code",
   "execution_count": null,
   "id": "dd0a60cc-0b5a-4632-9539-1b2658038693",
   "metadata": {},
   "outputs": [],
   "source": [
    "lang_count"
   ]
  },
  {
   "cell_type": "code",
   "execution_count": null,
   "id": "24f7c8e8-05bb-46ec-bfa7-1d11195445bc",
   "metadata": {},
   "outputs": [],
   "source": [
    "lang_count.sort_values(by='count', ascending=False, inplace=True)"
   ]
  },
  {
   "cell_type": "code",
   "execution_count": null,
   "id": "f29f2059-5cbe-4a4f-aba7-0046373d977f",
   "metadata": {},
   "outputs": [],
   "source": [
    "lang_count"
   ]
  },
  {
   "cell_type": "code",
   "execution_count": null,
   "id": "45a603f3-4ac6-4b8f-bfe2-3e4d95bb0036",
   "metadata": {},
   "outputs": [],
   "source": [
    "g = sns.catplot(data=lang_count, x='lang', y='count', height=4, aspect=4, kind='bar', color='cadetblue')\n",
    "#for ax in g.axes.flat:\n",
    "#    ax.bar_label(ax.containers[0])\n",
    "title = plt.title('Tweet Count Per Language')\n",
    "plt.xlabel('Language Code')\n",
    "plt.ylabel('Tweet Count')\n",
    "plt.yscale('log')\n",
    "plt.savefig('plots/stats/' + title.get_text() + '.svg', format='svg', bbox_inches=\"tight\")\n",
    "plt.show()"
   ]
  },
  {
   "cell_type": "code",
   "execution_count": null,
   "id": "bb823b5f-ddb0-4a51-852b-b229bb851723",
   "metadata": {},
   "outputs": [],
   "source": [
    "fig = px.bar(lang_count, x='lang', y='count', log_y=True, title='tweet count per language'.title(), height=700)\n",
    "fig.update_layout(\n",
    "    xaxis_title=\"Language\",\n",
    "    yaxis_title=\"Tweet Count\",\n",
    "    title_x=0.5,\n",
    ")\n",
    "fig.update_xaxes(tickangle=0)"
   ]
  },
  {
   "cell_type": "code",
   "execution_count": null,
   "id": "c93f2834-c2af-45d4-8cbe-9860dff74309",
   "metadata": {},
   "outputs": [],
   "source": [
    "fig = px.pie(df_tweets, names='lang', title='Language proportions'.title(), height=500)\n",
    "fig.update_traces(textposition='inside', textinfo='percent+label')\n",
    "fig.update_layout(uniformtext_minsize=12, uniformtext_mode='hide', title_x=0.49,)\n",
    "fig.write_image(f\"plots/stats/{fig.layout.title.text}.svg\")\n",
    "fig.show()"
   ]
  },
  {
   "cell_type": "code",
   "execution_count": null,
   "id": "e06873fe-7ad8-48b4-9f9b-5f8349d8ba9a",
   "metadata": {},
   "outputs": [],
   "source": [
    "for y_m in sorted(df_tweets.created_year_month.unique()):\n",
    "    fig = px.pie(df_tweets[df_tweets.created_year_month == y_m], names='lang', title=f'Language proportions month {y_m}'.title(), height=700)\n",
    "    fig.update_traces(textposition='inside', textinfo='percent+label')\n",
    "    fig.update_layout(uniformtext_minsize=12, uniformtext_mode='hide', title_x=0.5,)\n",
    "    fig.show()"
   ]
  },
  {
   "cell_type": "markdown",
   "id": "54a82433-0086-4f5b-b841-88d3fc3509a0",
   "metadata": {},
   "source": [
    "## Tweets Per Day"
   ]
  },
  {
   "cell_type": "code",
   "execution_count": null,
   "id": "0dccf667-2b3c-465c-949d-dfa28ce91e65",
   "metadata": {},
   "outputs": [],
   "source": [
    "tweets_per_day = df_tweets[['created_date', 'id']].groupby('created_date').count().reset_index().rename(columns={'id': 'count'})"
   ]
  },
  {
   "cell_type": "code",
   "execution_count": null,
   "id": "482e1c92-08f9-4f30-9483-88013710f630",
   "metadata": {},
   "outputs": [],
   "source": [
    "sns.relplot(data=tweets_per_day, x=\"created_date\", y=\"count\", height=4, aspect=1.5, kind='line', color='cadetblue')\n",
    "title = plt.title('Tweet Counts per Day')\n",
    "plt.xlabel('Date')\n",
    "plt.ylabel('Tweet Count')\n",
    "plt.xticks(rotation=15)\n",
    "#plt.yscale('log')\n",
    "plt.savefig('plots/stats/' + title.get_text() + '.svg', format='svg', bbox_inches=\"tight\")\n",
    "plt.show()"
   ]
  },
  {
   "cell_type": "code",
   "execution_count": null,
   "id": "56ebb07f-7acd-405a-be1a-01c59baade2b",
   "metadata": {},
   "outputs": [],
   "source": [
    "fig = px.line(tweets_per_day, x=\"created_date\", y=\"count\", title='Tweet Counts per Day'.title(), height=700)\n",
    "\"\"\"fig.add_vline(\n",
    "            x=time.mktime(datetime.strptime('2022-02-23', '%Y-%m-%d').timetuple())*10**3,\n",
    "            line_width=1,\n",
    "            line_dash='dash',\n",
    "            line_color='grey',\n",
    "            annotation_text='Ukrainian Invasion Start',\n",
    "            annotation_font_color='grey',\n",
    "            annotation_position='top left',\n",
    "            annotation_textangle=-90,\n",
    "        )\"\"\"\n",
    "fig.update_layout(title_x=0.5,)\n",
    "fig.show()"
   ]
  },
  {
   "cell_type": "code",
   "execution_count": null,
   "id": "ea096993-03de-47de-a123-11029d8f67aa",
   "metadata": {},
   "outputs": [],
   "source": [
    "tweets_per_day_lang = df_tweets[['created_date', 'lang', 'id']].groupby(['created_date', 'lang']).count().reset_index().rename(columns={'id': 'count'})"
   ]
  },
  {
   "cell_type": "code",
   "execution_count": null,
   "id": "dd62da41-7a72-4952-bba6-0992385d7e7d",
   "metadata": {},
   "outputs": [],
   "source": [
    "sns.relplot(data=tweets_per_day_lang[tweets_per_day_lang.lang == 'en'], x=\"created_date\", y=\"count\", height=4, aspect=1.5, kind='line', color='cadetblue')\n",
    "title = plt.title('Tweets in English Counts per Day')\n",
    "plt.xlabel('Date')\n",
    "plt.ylabel('Tweet Count')\n",
    "plt.xticks(rotation=15)\n",
    "#plt.yscale('log')\n",
    "plt.savefig('plots/stats/' + title.get_text() + '.svg', format='svg', bbox_inches=\"tight\")\n",
    "plt.show()"
   ]
  },
  {
   "cell_type": "code",
   "execution_count": null,
   "id": "c894ff53-88a8-4e13-bb50-6d700bbb2a12",
   "metadata": {},
   "outputs": [],
   "source": [
    "sns.relplot(data=tweets_per_day_lang[tweets_per_day_lang.lang == 'und'], x=\"created_date\", y=\"count\", height=4, aspect=1.5, kind='line', color='cadetblue')\n",
    "title = plt.title('Tweets in Undefined Language Counts per Day')\n",
    "plt.xlabel('Date')\n",
    "plt.ylabel('Tweet Count')\n",
    "plt.xticks(rotation=15)\n",
    "#plt.yscale('log')\n",
    "plt.savefig('plots/stats/' + title.get_text() + '.svg', format='svg', bbox_inches=\"tight\")\n",
    "plt.show()"
   ]
  },
  {
   "cell_type": "code",
   "execution_count": null,
   "id": "ec9139f9-a9c5-48b1-9cf2-0ecdd02e23c9",
   "metadata": {},
   "outputs": [],
   "source": [
    "fig = px.line(tweets_per_day_lang.sort_values(['lang', 'created_date']), x=\"created_date\", y=\"count\", color='lang', title='Tweet Counts per Day and per Language'.title(), height=700)\n",
    "\"\"\"fig.add_vline(\n",
    "            x=time.mktime(datetime.strptime('2022-02-23', '%Y-%m-%d').timetuple())*10**3,\n",
    "            line_width=1,\n",
    "            line_dash='dash',\n",
    "            line_color='grey',\n",
    "            annotation_text='2022-02-23<br>Ukrainian Invasion Start',\n",
    "            annotation_font_color='grey',\n",
    "            annotation_position='top left',\n",
    "            annotation_textangle=-90,\n",
    "        )\"\"\"\n",
    "fig.update_layout(title_x=0.5,)\n",
    "fig.write_html(f'interactive/{fig.layout.title.text}.html')\n",
    "fig.show()"
   ]
  },
  {
   "cell_type": "code",
   "execution_count": null,
   "id": "d24ddee8-926d-4679-9265-d4c5c52678ef",
   "metadata": {},
   "outputs": [],
   "source": [
    "tweets_per_day_lang"
   ]
  },
  {
   "cell_type": "code",
   "execution_count": null,
   "id": "ada912e9-5dd2-4c7d-a6a4-7d9649d41798",
   "metadata": {},
   "outputs": [],
   "source": [
    "tweets_per_day_lang_pvt = tweets_per_day_lang.pivot(index='created_date', columns='lang', values='count').fillna(0)\n",
    "tweets_per_day_lang_pvt['_all'] = tweets_per_day_lang_pvt.sum(1)\n",
    "tweets_per_day_lang_pvt = tweets_per_day_lang_pvt[tweets_per_day_lang_pvt.columns.sort_values()]\n",
    "tweets_per_day_lang_pvt"
   ]
  },
  {
   "cell_type": "code",
   "execution_count": null,
   "id": "baa7b349-b9e2-4832-b57f-516340011823",
   "metadata": {},
   "outputs": [],
   "source": [
    "change_locations = {col: rpt.Pelt(model=\"rbf\").fit(tweets_per_day_lang_pvt[col].values).predict(pen=2) for col in tweets_per_day_lang_pvt.columns}"
   ]
  },
  {
   "cell_type": "code",
   "execution_count": null,
   "id": "54c94fcc-c557-4801-9a01-ca93b47b608b",
   "metadata": {},
   "outputs": [],
   "source": [
    "languages = ['_all', 'en', 'es', 'fr', 'uk', 'ru', 'ro', 'pl', 'tr']"
   ]
  },
  {
   "cell_type": "code",
   "execution_count": null,
   "id": "bbe3eef1-37b9-4d45-b319-e6984e68bca0",
   "metadata": {},
   "outputs": [],
   "source": [
    "fig = go.Figure()\n",
    "\n",
    "fig.add_trace(go.Scatter(x=tweets_per_day_lang_pvt.index,\n",
    "                         y=tweets_per_day_lang_pvt[tweets_per_day_lang_pvt.columns[0]],\n",
    "                         visible=True,\n",
    "                         name='Tweet Counts'))\n",
    "\n",
    "fig.add_trace(go.Scatter(x=tweets_per_day_lang_pvt.index[change_locations[tweets_per_day_lang_pvt.columns[0]][:-1]],\n",
    "                         y=tweets_per_day_lang_pvt[tweets_per_day_lang_pvt.columns[0]].loc[tweets_per_day_lang_pvt.index[change_locations[tweets_per_day_lang_pvt.columns[0]][:-1]]],\n",
    "                         visible=True,\n",
    "                         mode='markers',\n",
    "                         marker=dict(\n",
    "                             symbol='x',\n",
    "                             opacity=0.8,\n",
    "                             size=15,\n",
    "                         ),\n",
    "                         name='Change Points',\n",
    "                         hoverinfo='skip'))\n",
    "\n",
    "fig.update_layout(\n",
    "    updatemenus=[\n",
    "        dict(\n",
    "            buttons=[dict(method='restyle',\n",
    "                          label=col,\n",
    "                          visible=True,\n",
    "                          args=[{'y': [tweets_per_day_lang_pvt[col].values, tweets_per_day_lang_pvt[col].loc[tweets_per_day_lang_pvt.index[change_locations[col][:-1]]].values],\n",
    "                                 'x': [tweets_per_day_lang_pvt.index.values, tweets_per_day_lang_pvt.index[change_locations[col][:-1]].values],\n",
    "                                 'type':'scatter'},\n",
    "                               ],\n",
    "                         )\n",
    "                     for col in tweets_per_day_lang_pvt.columns\n",
    "                    ],\n",
    "            direction=\"down\",\n",
    "            showactive=True,\n",
    "            x=0,\n",
    "            xanchor=\"left\",\n",
    "            y=1.1,\n",
    "            yanchor=\"top\"\n",
    "        ),\n",
    "    ],\n",
    "    height=700,\n",
    "    title={\n",
    "        'text': 'Tweet Counts per Day'.title(),\n",
    "        'x':0.5,\n",
    "        'xanchor': 'center'},\n",
    ")\n",
    "\n",
    "fig.write_html(f'interactive/{fig.layout.title.text}.html')\n",
    "\n",
    "fig.show()"
   ]
  },
  {
   "cell_type": "markdown",
   "id": "fc01d96e-72c6-4557-8762-9a0fdf266277",
   "metadata": {},
   "source": [
    "## Withheld Tweets"
   ]
  },
  {
   "cell_type": "code",
   "execution_count": null,
   "id": "17da7bc2-30ab-4f3d-aa64-f50b54d5ecfd",
   "metadata": {},
   "outputs": [],
   "source": [
    "df_tweets['withheld_countries'] = df_tweets.withheld.apply(lambda d: d['country_codes'] if type(d) == dict else d)"
   ]
  },
  {
   "cell_type": "code",
   "execution_count": null,
   "id": "9361fed1-e531-4e42-bcdd-8251ba5581d0",
   "metadata": {},
   "outputs": [],
   "source": [
    "df_tweets.withheld_countries"
   ]
  },
  {
   "cell_type": "code",
   "execution_count": null,
   "id": "7ec9c1ad-e74a-450a-bf0f-1740a81bd761",
   "metadata": {},
   "outputs": [],
   "source": [
    "df_tweets.withheld_countries.dropna()"
   ]
  },
  {
   "cell_type": "code",
   "execution_count": null,
   "id": "72e93a73-a382-4cd5-9c52-71edbcdb42c7",
   "metadata": {},
   "outputs": [],
   "source": [
    "df_tweets.withheld_countries.dropna().apply(tuple).unique().tolist()"
   ]
  },
  {
   "cell_type": "code",
   "execution_count": null,
   "id": "ccd43697-be0c-4981-bd2a-086758e492e2",
   "metadata": {},
   "outputs": [],
   "source": [
    "withheld_lang = df_tweets[['lang', 'withheld_countries']].explode('withheld_countries').dropna()\n",
    "withheld_lang"
   ]
  },
  {
   "cell_type": "code",
   "execution_count": null,
   "id": "1eb8f9d3-7dff-462b-a12f-7c879fba278c",
   "metadata": {},
   "outputs": [],
   "source": [
    "withheld_lang = withheld_lang.value_counts().to_frame(name='count').reset_index()\n",
    "withheld_lang"
   ]
  },
  {
   "cell_type": "code",
   "execution_count": null,
   "id": "ebe392de-5198-4dfb-920d-b310e577aa30",
   "metadata": {},
   "outputs": [],
   "source": [
    "withheld_lang_sorted = withheld_lang.merge(withheld_lang.groupby('withheld_countries').sum().reset_index(), on='withheld_countries').sort_values(['count_y', 'count_x', 'withheld_countries'], ascending=[False, True, True])\n",
    "withheld_lang_sorted"
   ]
  },
  {
   "cell_type": "code",
   "execution_count": null,
   "id": "f3490ad5-94fe-422a-8f18-06b08dc05f64",
   "metadata": {},
   "outputs": [],
   "source": [
    "g = sns.displot(data=withheld_lang_sorted, x='withheld_countries', weights='count_x', hue='lang', discrete=True, height=4, aspect=1.75, multiple='stack', shrink=0.7)\n",
    "#for ax in g.axes.flat:\n",
    "#    ax.bar_label(ax.containers[0])\n",
    "title = plt.title('Withheld Tweet Count Per Country')\n",
    "plt.xlabel('Country Code')\n",
    "plt.ylabel('Number of Tweets')\n",
    "#plt.yscale('log')\n",
    "plt.savefig('plots/stats/' + title.get_text() + '.svg', format='svg', bbox_inches=\"tight\")\n",
    "plt.show()"
   ]
  },
  {
   "cell_type": "code",
   "execution_count": null,
   "id": "614fc7a0-16b1-46ec-a964-5072de68eec8",
   "metadata": {},
   "outputs": [],
   "source": [
    "fig = px.bar(withheld_lang, x='withheld_countries', y='count', color='lang', height=700)\n",
    "fig.update_xaxes(categoryorder='total descending')\n",
    "fig.show()"
   ]
  },
  {
   "cell_type": "code",
   "execution_count": null,
   "id": "21452383-f3b4-43d3-abd5-263258b5c860",
   "metadata": {},
   "outputs": [],
   "source": [
    "withheld_tweets = df_tweets.dropna(subset=['withheld_countries']).copy()"
   ]
  },
  {
   "cell_type": "code",
   "execution_count": null,
   "id": "c4b88ad8-cabd-470b-904c-c698287863d8",
   "metadata": {},
   "outputs": [],
   "source": [
    "withheld_tweets['withheld_countries'] = withheld_tweets.withheld_countries.apply(tuple)"
   ]
  },
  {
   "cell_type": "code",
   "execution_count": null,
   "id": "3d220d9f-54bc-48fb-aebc-b04f629caeba",
   "metadata": {},
   "outputs": [],
   "source": [
    "grouped_withheld_tweets = withheld_tweets.groupby(by=['withheld_countries', 'author_id']).agg({'id': 'count', 'lang': set, 'text': list, 'created_at': list}).reset_index()\n",
    "grouped_withheld_tweets"
   ]
  },
  {
   "cell_type": "code",
   "execution_count": null,
   "id": "354a5b45-d340-4970-b42b-d7c1db085531",
   "metadata": {},
   "outputs": [],
   "source": [
    "grouped_withheld_tweets['author_handle'] = grouped_withheld_tweets.author_id.apply(get_handle)\n",
    "grouped_withheld_tweets[['withheld_countries', 'author_id', 'author_handle', 'id', 'lang', 'text', 'created_at']]"
   ]
  },
  {
   "cell_type": "code",
   "execution_count": null,
   "id": "840cec00-bfd2-43ea-af1c-209bcf733c2a",
   "metadata": {
    "scrolled": true,
    "tags": []
   },
   "outputs": [],
   "source": [
    "for i, row in grouped_withheld_tweets.iterrows():\n",
    "    print(row['withheld_countries'])\n",
    "    print(row['author_id'], '--->', row['author_handle'])\n",
    "    print(row['lang'])\n",
    "    for txt, date in zip(row['text'], row['created_at']):\n",
    "        print()\n",
    "        print('  #', date)\n",
    "        print(txt)\n",
    "    print('\\n\\n*********\\n')"
   ]
  },
  {
   "cell_type": "markdown",
   "id": "e585b432-4ec7-47d9-9364-2fdd2f128d0a",
   "metadata": {},
   "source": [
    "## Withheld Users"
   ]
  },
  {
   "cell_type": "code",
   "execution_count": null,
   "id": "f03a35e4-0c89-4111-bb44-10d4ceb4d88c",
   "metadata": {},
   "outputs": [],
   "source": [
    "df_users.withheld.dropna().iloc[0]"
   ]
  },
  {
   "cell_type": "code",
   "execution_count": null,
   "id": "f44d1f9a-8438-48cb-b0d6-df95a0ba1751",
   "metadata": {},
   "outputs": [],
   "source": [
    "df_users['withheld_countries'] = df_users.withheld.apply(lambda d: d['country_codes'] if type(d) == dict else d)"
   ]
  },
  {
   "cell_type": "code",
   "execution_count": null,
   "id": "03aab382-3a72-487d-a256-6d54ac1e755a",
   "metadata": {},
   "outputs": [],
   "source": [
    "df_users.withheld_countries"
   ]
  },
  {
   "cell_type": "code",
   "execution_count": null,
   "id": "69d74f21-f6f4-429f-bfb3-2eef46db8de4",
   "metadata": {},
   "outputs": [],
   "source": [
    "df_users.withheld_countries.dropna()"
   ]
  },
  {
   "cell_type": "code",
   "execution_count": null,
   "id": "19db706c-687a-48e9-8a9e-985a7f11046e",
   "metadata": {},
   "outputs": [],
   "source": [
    "df_users.withheld_countries.dropna().apply(tuple).unique().tolist()"
   ]
  },
  {
   "cell_type": "code",
   "execution_count": null,
   "id": "417a25f9-baf4-4233-905f-1d4b5a1a6de5",
   "metadata": {},
   "outputs": [],
   "source": [
    "df_users"
   ]
  },
  {
   "cell_type": "code",
   "execution_count": null,
   "id": "6dd3da3c-b863-4282-b325-e7b56d265054",
   "metadata": {},
   "outputs": [],
   "source": [
    "withheld_users_countries = df_users[['id', 'username', 'name', 'withheld_countries']].explode('withheld_countries').dropna()\n",
    "withheld_users_countries"
   ]
  },
  {
   "cell_type": "code",
   "execution_count": null,
   "id": "8466c813-2bda-4939-bb23-ede167e3c097",
   "metadata": {},
   "outputs": [],
   "source": [
    "withheld_users_countries_count = withheld_users_countries.groupby('withheld_countries')['id'].count().to_frame(name='count').reset_index()\n",
    "withheld_users_countries_count"
   ]
  },
  {
   "cell_type": "code",
   "execution_count": null,
   "id": "0b57d03b-2c36-4294-bce2-fe5c8ae4e5e6",
   "metadata": {},
   "outputs": [],
   "source": [
    "g = sns.displot(data=withheld_users_countries_count.sort_values(['count', 'withheld_countries'], ascending=[False, True]), x='withheld_countries', weights='count', discrete=True, height=4, aspect=1.75, shrink=0.7)\n",
    "#for ax in g.axes.flat:\n",
    "#    ax.bar_label(ax.containers[0])\n",
    "title = plt.title('Withheld Users Count Per Country')\n",
    "plt.xlabel('Country Code')\n",
    "plt.ylabel('Number of Users')\n",
    "#plt.yscale('log')\n",
    "plt.savefig('plots/stats/' + title.get_text() + '.svg', format='svg', bbox_inches=\"tight\")\n",
    "plt.show()"
   ]
  },
  {
   "cell_type": "code",
   "execution_count": null,
   "id": "0d6b84b0-529a-4f43-b90a-febe9ed0914d",
   "metadata": {},
   "outputs": [],
   "source": [
    "fig = px.bar(withheld_users_countries_count, x='withheld_countries', y='count', height=700)\n",
    "fig.update_xaxes(categoryorder='total descending')\n",
    "fig.show()"
   ]
  },
  {
   "cell_type": "code",
   "execution_count": null,
   "id": "6280ea20-fb43-475d-ac87-48ab977c89b2",
   "metadata": {},
   "outputs": [],
   "source": [
    "withheld_users = df_users.dropna(subset=['withheld_countries']).copy()"
   ]
  },
  {
   "cell_type": "code",
   "execution_count": null,
   "id": "c1d29e21-7f47-4cf2-8220-1269c103cb68",
   "metadata": {},
   "outputs": [],
   "source": [
    "withheld_users['withheld_countries'] = withheld_users.withheld_countries.apply(tuple)"
   ]
  },
  {
   "cell_type": "code",
   "execution_count": null,
   "id": "cccf7590-db7a-44f1-9b58-d3ad2f0dd77b",
   "metadata": {},
   "outputs": [],
   "source": [
    "len(withheld_users)"
   ]
  },
  {
   "cell_type": "code",
   "execution_count": null,
   "id": "cef05f6a-2808-455d-9e9f-d7e26c0f59c1",
   "metadata": {},
   "outputs": [],
   "source": [
    "withheld_users.head()"
   ]
  },
  {
   "cell_type": "code",
   "execution_count": null,
   "id": "1280ccc2-81d0-404e-a6ca-322b18fa7006",
   "metadata": {},
   "outputs": [],
   "source": [
    "grouped_withheld_users = withheld_users.groupby(by=['withheld_countries']).agg({'id': list, 'username': list, 'name': list}).reset_index()\n",
    "grouped_withheld_users"
   ]
  },
  {
   "cell_type": "code",
   "execution_count": null,
   "id": "90929707-16ae-44d9-b03a-4e42d55de024",
   "metadata": {},
   "outputs": [],
   "source": [
    "for i, row in grouped_withheld_users.iterrows():\n",
    "    print(row['withheld_countries'])\n",
    "    for un, n, i in zip(row['username'], row['name'], row['id']):\n",
    "        print('  #', un, f'({i})', '->', n)\n",
    "    print('\\n\\n*********\\n')"
   ]
  },
  {
   "cell_type": "markdown",
   "id": "eed8d38d-fce9-4c07-9d14-14eb1d101b17",
   "metadata": {},
   "source": [
    "## Undefined Language Tweets "
   ]
  },
  {
   "cell_type": "code",
   "execution_count": null,
   "id": "f0599326-6323-4df0-8f01-c694407262e2",
   "metadata": {},
   "outputs": [],
   "source": [
    "und_mar_2022_tweets = df_tweets[(df_tweets.lang == 'und') & (df_tweets.created_year_month == '2022_03')]"
   ]
  },
  {
   "cell_type": "code",
   "execution_count": null,
   "id": "ee1d987e-d30d-45a8-9e0c-08ffb1426881",
   "metadata": {},
   "outputs": [],
   "source": [
    "und_mar_2022_tweets.iloc[1]"
   ]
  },
  {
   "cell_type": "code",
   "execution_count": null,
   "id": "a964e5c2-5755-4d16-8b0c-7330abcfc445",
   "metadata": {},
   "outputs": [],
   "source": [
    "print(und_mar_2022_tweets.iloc[1].text)"
   ]
  },
  {
   "cell_type": "code",
   "execution_count": null,
   "id": "aefe7bca-0958-467f-a60b-e02b31ec0969",
   "metadata": {},
   "outputs": [],
   "source": [
    "und_mar_2022_tweets.text.to_csv('dump/und.csv')"
   ]
  },
  {
   "cell_type": "code",
   "execution_count": null,
   "id": "876ccc0a-32a4-42ba-a2f9-fcdf098d193b",
   "metadata": {},
   "outputs": [],
   "source": [
    "import numpy as np"
   ]
  },
  {
   "cell_type": "code",
   "execution_count": null,
   "id": "47b540cc-d14d-4da3-bbee-855bfd618957",
   "metadata": {},
   "outputs": [],
   "source": [
    "# Tweets that are not just hashtags, links or mentions\n",
    "und_mar_2022_tweets_texts = und_mar_2022_tweets.loc[und_mar_2022_tweets.text.str.split().apply(lambda l: [x for x in l if '@' not in x and 'http' not in x and '#' not in x]).apply(lambda l: np.nan if len(l) == 0 else l).dropna().index, 'text']"
   ]
  },
  {
   "cell_type": "code",
   "execution_count": null,
   "id": "32a2c665-d25a-4731-b265-97c59a02043f",
   "metadata": {},
   "outputs": [],
   "source": [
    "und_mar_2022_tweets_texts"
   ]
  },
  {
   "cell_type": "code",
   "execution_count": null,
   "id": "387486a5-b7ac-4968-a976-82ff682ae925",
   "metadata": {},
   "outputs": [],
   "source": [
    "df_tweets.loc[und_mar_2022_tweets_texts.index][['id', 'text']].set_index('id').to_json('dump/filtered_und.json')"
   ]
  },
  {
   "cell_type": "code",
   "execution_count": null,
   "id": "5c8538ae-e60c-4b08-b72e-048000a9cfe7",
   "metadata": {},
   "outputs": [],
   "source": []
  }
 ],
 "metadata": {
  "kernelspec": {
   "display_name": "Python 3 (ipykernel)",
   "language": "python",
   "name": "python3"
  },
  "language_info": {
   "codemirror_mode": {
    "name": "ipython",
    "version": 3
   },
   "file_extension": ".py",
   "mimetype": "text/x-python",
   "name": "python",
   "nbconvert_exporter": "python",
   "pygments_lexer": "ipython3",
   "version": "3.8.13"
  }
 },
 "nbformat": 4,
 "nbformat_minor": 5
}
