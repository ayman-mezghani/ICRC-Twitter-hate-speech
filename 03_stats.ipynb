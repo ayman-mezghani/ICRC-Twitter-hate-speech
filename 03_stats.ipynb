{
 "cells": [
  {
   "cell_type": "code",
   "execution_count": null,
   "id": "fcdd3a99-3e9b-48f6-ad29-a18dd5b89216",
   "metadata": {},
   "outputs": [],
   "source": [
    "import pandas as pd\n",
    "from datetime import datetime\n",
    "import time\n",
    "import plotly.express as px\n",
    "import plotly.graph_objects as go\n",
    "import ruptures as rpt"
   ]
  },
  {
   "cell_type": "code",
   "execution_count": null,
   "id": "20f07593-3b4f-4244-a89a-4d7d8551291c",
   "metadata": {},
   "outputs": [],
   "source": [
    "from twitter_id_mapper import get_handle"
   ]
  },
  {
   "cell_type": "code",
   "execution_count": null,
   "id": "677363d6-8e42-48d0-bc97-cfcb58a249a0",
   "metadata": {},
   "outputs": [],
   "source": [
    "colors = sns.color_palette('pastel')"
   ]
  },
  {
   "cell_type": "code",
   "execution_count": null,
   "id": "0223546f-9ecd-4e72-bcb2-58dab2723c23",
   "metadata": {},
   "outputs": [],
   "source": [
    "df_tweets = pd.read_parquet('data/dump/_all_cleaned/tweets.parquet')"
   ]
  },
  {
   "cell_type": "code",
   "execution_count": null,
   "id": "2c7355c7-ce38-40f4-bff4-2110892c568f",
   "metadata": {},
   "outputs": [],
   "source": [
    "df_tweets['created_at'] = pd.to_datetime(df_tweets.created_at)\n",
    "df_tweets['created_year_month'] = df_tweets.created_at.dt.year.astype(str) + '_' + df_tweets.created_at.dt.month.astype(str).str.zfill(2)\n",
    "df_tweets['created_date'] = df_tweets.created_at.dt.date"
   ]
  },
  {
   "cell_type": "code",
   "execution_count": null,
   "id": "14fc6c9d-8783-4616-841a-ca37096a1ef3",
   "metadata": {},
   "outputs": [],
   "source": [
    "print(df_tweets.created_at.min())\n",
    "print(df_tweets.created_at.max())"
   ]
  },
  {
   "cell_type": "code",
   "execution_count": null,
   "id": "1cb0fa3c-4331-4452-ba17-63a0231d2819",
   "metadata": {},
   "outputs": [],
   "source": [
    "df_tweets"
   ]
  },
  {
   "cell_type": "code",
   "execution_count": null,
   "id": "f372903b-c8ef-4b0d-9cfd-e7e2cd461f9c",
   "metadata": {},
   "outputs": [],
   "source": [
    "auth_count = df_tweets.groupby(by=['author_id']).agg({'id': 'count'}).reset_index().rename(columns={'id': 'count'})\n",
    "auth_count"
   ]
  },
  {
   "cell_type": "code",
   "execution_count": null,
   "id": "76fbd8d1-af10-4542-8817-416aa875aaad",
   "metadata": {},
   "outputs": [],
   "source": [
    "fig = px.histogram(auth_count, x='count', log_y=True, nbins=200, title='Number of users per tweet count'.title(), height=700)\n",
    "fig.update_layout(\n",
    "    xaxis_title=\"Tweet Count\",\n",
    "    yaxis_title=\"Author Count\",\n",
    "    title_x=0.5,\n",
    ")"
   ]
  },
  {
   "cell_type": "code",
   "execution_count": null,
   "id": "5ef587f1-3854-4c7e-8dcf-74d7036c92c0",
   "metadata": {},
   "outputs": [],
   "source": [
    "lang_count = df_tweets.groupby(by='lang')['id'].count().reset_index().rename(columns={'id': 'count'})"
   ]
  },
  {
   "cell_type": "code",
   "execution_count": null,
   "id": "dd0a60cc-0b5a-4632-9539-1b2658038693",
   "metadata": {},
   "outputs": [],
   "source": [
    "lang_count"
   ]
  },
  {
   "cell_type": "code",
   "execution_count": null,
   "id": "24f7c8e8-05bb-46ec-bfa7-1d11195445bc",
   "metadata": {},
   "outputs": [],
   "source": [
    "lang_count.sort_values(by='count', ascending=False, inplace=True)"
   ]
  },
  {
   "cell_type": "code",
   "execution_count": null,
   "id": "bb823b5f-ddb0-4a51-852b-b229bb851723",
   "metadata": {},
   "outputs": [],
   "source": [
    "fig = px.bar(lang_count, x='lang', y='count', log_y=True, title='tweet count per language'.title(), height=700)\n",
    "fig.update_layout(\n",
    "    xaxis_title=\"Language\",\n",
    "    yaxis_title=\"Tweet Count\",\n",
    "    title_x=0.5,\n",
    ")\n",
    "fig.update_xaxes(tickangle=0)"
   ]
  },
  {
   "cell_type": "code",
   "execution_count": null,
   "id": "0dccf667-2b3c-465c-949d-dfa28ce91e65",
   "metadata": {},
   "outputs": [],
   "source": [
    "tweets_per_day = df_tweets[['created_date', 'id']].groupby('created_date').count().reset_index().rename(columns={'id': 'count'})"
   ]
  },
  {
   "cell_type": "code",
   "execution_count": null,
   "id": "56ebb07f-7acd-405a-be1a-01c59baade2b",
   "metadata": {},
   "outputs": [],
   "source": [
    "fig = px.line(tweets_per_day, x=\"created_date\", y=\"count\", title='Tweet Counts per Day', height=700)\n",
    "fig.add_vline(\n",
    "            x=time.mktime(datetime.strptime('2022-02-23', '%Y-%m-%d').timetuple())*10**3,\n",
    "            line_width=1,\n",
    "            line_dash='dash',\n",
    "            line_color='grey',\n",
    "            annotation_text='Ukrainian Invasion Start',\n",
    "            annotation_font_color='grey',\n",
    "            annotation_position='top left',\n",
    "            annotation_textangle=-90,\n",
    "        )\n",
    "fig.update_layout(title_x=0.5,)\n",
    "fig.show()"
   ]
  },
  {
   "cell_type": "code",
   "execution_count": null,
   "id": "ea096993-03de-47de-a123-11029d8f67aa",
   "metadata": {},
   "outputs": [],
   "source": [
    "tweets_per_day_lang = df_tweets[['created_date', 'lang', 'id']].groupby(['created_date', 'lang']).count().reset_index().rename(columns={'id': 'count'})"
   ]
  },
  {
   "cell_type": "code",
   "execution_count": null,
   "id": "ec9139f9-a9c5-48b1-9cf2-0ecdd02e23c9",
   "metadata": {},
   "outputs": [],
   "source": [
    "fig = px.line(tweets_per_day_lang, x=\"created_date\", y=\"count\", color='lang', title='Tweet Counts per Day and per Language', height=700)\n",
    "fig.add_vline(\n",
    "            x=time.mktime(datetime.strptime('2022-02-23', '%Y-%m-%d').timetuple())*10**3,\n",
    "            line_width=1,\n",
    "            line_dash='dash',\n",
    "            line_color='grey',\n",
    "            annotation_text='2022-02-23<br>Ukrainian Invasion Start',\n",
    "            annotation_font_color='grey',\n",
    "            annotation_position='top left',\n",
    "            annotation_textangle=-90,\n",
    "        )\n",
    "fig.update_layout(title_x=0.5,)\n",
    "fig.show()"
   ]
  },
  {
   "cell_type": "code",
   "execution_count": null,
   "id": "d24ddee8-926d-4679-9265-d4c5c52678ef",
   "metadata": {},
   "outputs": [],
   "source": [
    "tweets_per_day_lang"
   ]
  },
  {
   "cell_type": "code",
   "execution_count": null,
   "id": "ada912e9-5dd2-4c7d-a6a4-7d9649d41798",
   "metadata": {},
   "outputs": [],
   "source": [
    "tweets_per_day_lang_pvt = tweets_per_day_lang.pivot(index='created_date', columns='lang', values='count').fillna(0)\n",
    "tweets_per_day_lang_pvt['_all'] = tweets_per_day_lang_pvt.sum(1)\n",
    "tweets_per_day_lang_pvt = tweets_per_day_lang_pvt[tweets_per_day_lang_pvt.columns.sort_values()]\n",
    "tweets_per_day_lang_pvt"
   ]
  },
  {
   "cell_type": "code",
   "execution_count": null,
   "id": "baa7b349-b9e2-4832-b57f-516340011823",
   "metadata": {},
   "outputs": [],
   "source": [
    "change_locations = {col: rpt.Pelt(model=\"rbf\").fit(tweets_per_day_lang_pvt[col].values).predict(pen=2) for col in tweets_per_day_lang_pvt.columns}"
   ]
  },
  {
   "cell_type": "code",
   "execution_count": null,
   "id": "54c94fcc-c557-4801-9a01-ca93b47b608b",
   "metadata": {},
   "outputs": [],
   "source": [
    "languages = ['_all', 'en', 'es', 'fr', 'uk', 'ru', 'ro', 'pl', 'tr']"
   ]
  },
  {
   "cell_type": "code",
   "execution_count": null,
   "id": "bbe3eef1-37b9-4d45-b319-e6984e68bca0",
   "metadata": {},
   "outputs": [],
   "source": [
    "fig = go.Figure()\n",
    "\n",
    "fig.add_trace(go.Scatter(x=tweets_per_day_lang_pvt.index,\n",
    "                         y=tweets_per_day_lang_pvt[tweets_per_day_lang_pvt.columns[0]],\n",
    "                         visible=True,\n",
    "                         name='Tweet Counts'))\n",
    "\n",
    "fig.add_trace(go.Scatter(x=tweets_per_day_lang_pvt.index[change_locations[tweets_per_day_lang_pvt.columns[0]][:-1]],\n",
    "                         y=tweets_per_day_lang_pvt[tweets_per_day_lang_pvt.columns[0]].loc[tweets_per_day_lang_pvt.index[change_locations[tweets_per_day_lang_pvt.columns[0]][:-1]]],\n",
    "                         visible=True,\n",
    "                         mode='markers',\n",
    "                         name='Change Points',\n",
    "                         hoverinfo='skip'))\n",
    "\n",
    "fig.update_layout(\n",
    "    updatemenus=[\n",
    "        dict(\n",
    "            buttons=[dict(method='restyle',\n",
    "                          label=col,\n",
    "                          visible=True,\n",
    "                          args=[{'y': [tweets_per_day_lang_pvt[col].values, tweets_per_day_lang_pvt[col].loc[tweets_per_day_lang_pvt.index[change_locations[col][:-1]]].values],\n",
    "                                 'x': [tweets_per_day_lang_pvt.index.values, tweets_per_day_lang_pvt.index[change_locations[col][:-1]].values],\n",
    "                                 'type':'scatter'},\n",
    "                               ],\n",
    "                         )\n",
    "                     for col in tweets_per_day_lang_pvt.columns\n",
    "                    ],\n",
    "            direction=\"down\",\n",
    "            showactive=True,\n",
    "            x=0,\n",
    "            xanchor=\"left\",\n",
    "            y=1.1,\n",
    "            yanchor=\"top\"\n",
    "        ),\n",
    "    ],\n",
    "    height=700,\n",
    "    title={\n",
    "        'text': 'Tweet Counts per Day',\n",
    "        'x':0.5,\n",
    "        'xanchor': 'center'},\n",
    ")\n",
    "\n",
    "fig.show()"
   ]
  },
  {
   "cell_type": "code",
   "execution_count": null,
   "id": "c93f2834-c2af-45d4-8cbe-9860dff74309",
   "metadata": {},
   "outputs": [],
   "source": [
    "fig = px.pie(df_tweets, names='lang', title='Language proportions', height=700)\n",
    "fig.update_traces(textposition='inside', textinfo='percent+label')\n",
    "fig.update_layout(uniformtext_minsize=12, uniformtext_mode='hide', title_x=0.5,)\n",
    "fig.show()"
   ]
  },
  {
   "cell_type": "code",
   "execution_count": null,
   "id": "e06873fe-7ad8-48b4-9f9b-5f8349d8ba9a",
   "metadata": {},
   "outputs": [],
   "source": [
    "for y_m in sorted(df_tweets.created_year_month.unique()):\n",
    "    fig = px.pie(df_tweets[df_tweets.created_year_month == y_m], names='lang', title=f'Language proportions month {y_m}', height=700)\n",
    "    fig.update_traces(textposition='inside', textinfo='percent+label')\n",
    "    fig.update_layout(uniformtext_minsize=12, uniformtext_mode='hide', title_x=0.5,)\n",
    "    fig.show()"
   ]
  },
  {
   "cell_type": "code",
   "execution_count": null,
   "id": "17da7bc2-30ab-4f3d-aa64-f50b54d5ecfd",
   "metadata": {},
   "outputs": [],
   "source": [
    "df_tweets['withheld_countries'] = df_tweets.withheld.apply(lambda d: d['country_codes'] if type(d) == dict else d)"
   ]
  },
  {
   "cell_type": "code",
   "execution_count": null,
   "id": "9361fed1-e531-4e42-bcdd-8251ba5581d0",
   "metadata": {},
   "outputs": [],
   "source": [
    "df_tweets.withheld_countries"
   ]
  },
  {
   "cell_type": "code",
   "execution_count": null,
   "id": "7ec9c1ad-e74a-450a-bf0f-1740a81bd761",
   "metadata": {},
   "outputs": [],
   "source": [
    "df_tweets.withheld_countries.dropna()"
   ]
  },
  {
   "cell_type": "code",
   "execution_count": null,
   "id": "72e93a73-a382-4cd5-9c52-71edbcdb42c7",
   "metadata": {},
   "outputs": [],
   "source": [
    "df_tweets.withheld_countries.dropna().apply(tuple).unique().tolist()"
   ]
  },
  {
   "cell_type": "code",
   "execution_count": null,
   "id": "ccd43697-be0c-4981-bd2a-086758e492e2",
   "metadata": {},
   "outputs": [],
   "source": [
    "withheld_lang = df_tweets[['lang', 'withheld_countries']].explode('withheld_countries').dropna()\n",
    "withheld_lang"
   ]
  },
  {
   "cell_type": "code",
   "execution_count": null,
   "id": "1eb8f9d3-7dff-462b-a12f-7c879fba278c",
   "metadata": {},
   "outputs": [],
   "source": [
    "withheld_lang = withheld_lang.value_counts().to_frame(name='count').reset_index()\n",
    "withheld_lang"
   ]
  },
  {
   "cell_type": "code",
   "execution_count": null,
   "id": "614fc7a0-16b1-46ec-a964-5072de68eec8",
   "metadata": {},
   "outputs": [],
   "source": [
    "fig = px.bar(withheld_lang, x='withheld_countries', y='count', color='lang', height=700)\n",
    "fig.update_xaxes(categoryorder='total descending')\n",
    "fig.show()"
   ]
  },
  {
   "cell_type": "code",
   "execution_count": null,
   "id": "21452383-f3b4-43d3-abd5-263258b5c860",
   "metadata": {},
   "outputs": [],
   "source": [
    "withheld_tweets = df_tweets.dropna(subset=['withheld_countries']).copy()"
   ]
  },
  {
   "cell_type": "code",
   "execution_count": null,
   "id": "c4b88ad8-cabd-470b-904c-c698287863d8",
   "metadata": {},
   "outputs": [],
   "source": [
    "withheld_tweets['withheld_countries'] = withheld_tweets.withheld_countries.apply(tuple)"
   ]
  },
  {
   "cell_type": "code",
   "execution_count": null,
   "id": "3d220d9f-54bc-48fb-aebc-b04f629caeba",
   "metadata": {},
   "outputs": [],
   "source": [
    "grouped_withheld_tweets = withheld_tweets.groupby(by=['withheld_countries', 'author_id']).agg({'id': 'count', 'lang': set, 'text': list, 'created_at': list}).reset_index()\n",
    "grouped_withheld_tweets"
   ]
  },
  {
   "cell_type": "code",
   "execution_count": null,
   "id": "354a5b45-d340-4970-b42b-d7c1db085531",
   "metadata": {},
   "outputs": [],
   "source": [
    "grouped_withheld_tweets['author_handle'] = grouped_withheld_tweets.author_id.apply(get_handle)\n",
    "grouped_withheld_tweets[['withheld_countries', 'author_id', 'author_handle', 'id', 'lang', 'text', 'created_at']]"
   ]
  },
  {
   "cell_type": "code",
   "execution_count": null,
   "id": "f2ba31e5-743f-4bb0-83a0-63f3982e2750",
   "metadata": {},
   "outputs": [],
   "source": [
    "get_handle(100731315)"
   ]
  },
  {
   "cell_type": "code",
   "execution_count": null,
   "id": "840cec00-bfd2-43ea-af1c-209bcf733c2a",
   "metadata": {},
   "outputs": [],
   "source": [
    "for i, row in grouped_withheld_tweets.iterrows():\n",
    "    print(row['withheld_countries'])\n",
    "    print(row['author_id'], '--->', row['author_handle'])\n",
    "    print(row['lang'])\n",
    "    for txt, date in zip(row['text'], row['created_at']):\n",
    "        print()\n",
    "        print('  #', date)\n",
    "        print(txt)\n",
    "    print('\\n\\n*********\\n')"
   ]
  },
  {
   "cell_type": "code",
   "execution_count": null,
   "id": "f0599326-6323-4df0-8f01-c694407262e2",
   "metadata": {},
   "outputs": [],
   "source": [
    "und_mar_2022_tweets = df_tweets[(df_tweets.lang == 'und') & (df_tweets.created_year_month == '2022_03')]"
   ]
  },
  {
   "cell_type": "code",
   "execution_count": null,
   "id": "ee1d987e-d30d-45a8-9e0c-08ffb1426881",
   "metadata": {},
   "outputs": [],
   "source": [
    "und_mar_2022_tweets.iloc[1]"
   ]
  },
  {
   "cell_type": "code",
   "execution_count": null,
   "id": "a964e5c2-5755-4d16-8b0c-7330abcfc445",
   "metadata": {},
   "outputs": [],
   "source": [
    "print(und_mar_2022_tweets.iloc[1].text)"
   ]
  },
  {
   "cell_type": "code",
   "execution_count": null,
   "id": "aefe7bca-0958-467f-a60b-e02b31ec0969",
   "metadata": {},
   "outputs": [],
   "source": [
    "und_mar_2022_tweets.text.to_csv('und.csv')"
   ]
  },
  {
   "cell_type": "code",
   "execution_count": null,
   "id": "876ccc0a-32a4-42ba-a2f9-fcdf098d193b",
   "metadata": {},
   "outputs": [],
   "source": [
    "import numpy as np"
   ]
  },
  {
   "cell_type": "code",
   "execution_count": null,
   "id": "47b540cc-d14d-4da3-bbee-855bfd618957",
   "metadata": {},
   "outputs": [],
   "source": [
    "und_mar_2022_tweets_texts = und_mar_2022_tweets.loc[und_mar_2022_tweets.text.str.split().apply(lambda l: [x for x in l if '@' not in x and 'http' not in x and '#' not in x]).apply(lambda l: np.nan if len(l) == 0 else l).dropna().index, 'text']"
   ]
  },
  {
   "cell_type": "code",
   "execution_count": null,
   "id": "32a2c665-d25a-4731-b265-97c59a02043f",
   "metadata": {},
   "outputs": [],
   "source": [
    "und_mar_2022_tweets_texts"
   ]
  },
  {
   "cell_type": "code",
   "execution_count": null,
   "id": "747d8999-e7a7-41f5-b48c-b67defd11bdf",
   "metadata": {},
   "outputs": [],
   "source": [
    "und_mar_2022_tweets_texts.to_json('filtered_und.json')"
   ]
  },
  {
   "cell_type": "code",
   "execution_count": null,
   "id": "387486a5-b7ac-4968-a976-82ff682ae925",
   "metadata": {},
   "outputs": [],
   "source": []
  }
 ],
 "metadata": {
  "kernelspec": {
   "display_name": "Python 3 (ipykernel)",
   "language": "python",
   "name": "python3"
  },
  "language_info": {
   "codemirror_mode": {
    "name": "ipython",
    "version": 3
   },
   "file_extension": ".py",
   "mimetype": "text/x-python",
   "name": "python",
   "nbconvert_exporter": "python",
   "pygments_lexer": "ipython3",
   "version": "3.8.12"
  }
 },
 "nbformat": 4,
 "nbformat_minor": 5
}
